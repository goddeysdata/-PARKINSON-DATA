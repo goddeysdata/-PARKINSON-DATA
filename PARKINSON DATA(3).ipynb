{
 "cells": [
  {
   "cell_type": "markdown",
   "id": "d41084fb",
   "metadata": {},
   "source": [
    "# PARKINSON DATA"
   ]
  },
  {
   "cell_type": "markdown",
   "id": "507c83f9",
   "metadata": {},
   "source": [
    "##### IMPORTING MODELS"
   ]
  },
  {
   "cell_type": "code",
   "execution_count": 1,
   "id": "5371efdc",
   "metadata": {},
   "outputs": [],
   "source": [
    "### importing models\n",
    "import pandas as pd\n",
    "import numpy as np\n",
    "import matplotlib.pyplot as plt\n",
    "from sklearn.linear_model import LogisticRegression\n",
    "from sklearn.ensemble import RandomForestClassifier\n",
    "from sklearn.tree import DecisionTreeClassifier\n",
    "from sklearn.model_selection import train_test_split\n",
    "from sklearn.metrics import accuracy_score\n",
    "from sklearn import metrics"
   ]
  },
  {
   "cell_type": "markdown",
   "id": "b82cec33",
   "metadata": {},
   "source": [
    "#### IMPORTING DATASET"
   ]
  },
  {
   "cell_type": "code",
   "execution_count": 2,
   "id": "3cff74f8",
   "metadata": {},
   "outputs": [
    {
     "data": {
      "text/html": [
       "<div>\n",
       "<style scoped>\n",
       "    .dataframe tbody tr th:only-of-type {\n",
       "        vertical-align: middle;\n",
       "    }\n",
       "\n",
       "    .dataframe tbody tr th {\n",
       "        vertical-align: top;\n",
       "    }\n",
       "\n",
       "    .dataframe thead th {\n",
       "        text-align: right;\n",
       "    }\n",
       "</style>\n",
       "<table border=\"1\" class=\"dataframe\">\n",
       "  <thead>\n",
       "    <tr style=\"text-align: right;\">\n",
       "      <th></th>\n",
       "      <th>name</th>\n",
       "      <th>MDVP:Fo(Hz)</th>\n",
       "      <th>MDVP:Fhi(Hz)</th>\n",
       "      <th>MDVP:Flo(Hz)</th>\n",
       "      <th>MDVP:Jitter(%)</th>\n",
       "      <th>MDVP:Jitter(Abs)</th>\n",
       "      <th>MDVP:RAP</th>\n",
       "      <th>MDVP:PPQ</th>\n",
       "      <th>Jitter:DDP</th>\n",
       "      <th>MDVP:Shimmer</th>\n",
       "      <th>...</th>\n",
       "      <th>Shimmer:DDA</th>\n",
       "      <th>NHR</th>\n",
       "      <th>HNR</th>\n",
       "      <th>status</th>\n",
       "      <th>RPDE</th>\n",
       "      <th>DFA</th>\n",
       "      <th>spread1</th>\n",
       "      <th>spread2</th>\n",
       "      <th>D2</th>\n",
       "      <th>PPE</th>\n",
       "    </tr>\n",
       "  </thead>\n",
       "  <tbody>\n",
       "    <tr>\n",
       "      <th>0</th>\n",
       "      <td>phon_R01_S01_1</td>\n",
       "      <td>119.992</td>\n",
       "      <td>157.302</td>\n",
       "      <td>74.997</td>\n",
       "      <td>0.00784</td>\n",
       "      <td>0.00007</td>\n",
       "      <td>0.00370</td>\n",
       "      <td>0.00554</td>\n",
       "      <td>0.01109</td>\n",
       "      <td>0.04374</td>\n",
       "      <td>...</td>\n",
       "      <td>0.06545</td>\n",
       "      <td>0.02211</td>\n",
       "      <td>21.033</td>\n",
       "      <td>1</td>\n",
       "      <td>0.414783</td>\n",
       "      <td>0.815285</td>\n",
       "      <td>-4.813031</td>\n",
       "      <td>0.266482</td>\n",
       "      <td>2.301442</td>\n",
       "      <td>0.284654</td>\n",
       "    </tr>\n",
       "    <tr>\n",
       "      <th>1</th>\n",
       "      <td>phon_R01_S01_2</td>\n",
       "      <td>122.400</td>\n",
       "      <td>148.650</td>\n",
       "      <td>113.819</td>\n",
       "      <td>0.00968</td>\n",
       "      <td>0.00008</td>\n",
       "      <td>0.00465</td>\n",
       "      <td>0.00696</td>\n",
       "      <td>0.01394</td>\n",
       "      <td>0.06134</td>\n",
       "      <td>...</td>\n",
       "      <td>0.09403</td>\n",
       "      <td>0.01929</td>\n",
       "      <td>19.085</td>\n",
       "      <td>1</td>\n",
       "      <td>0.458359</td>\n",
       "      <td>0.819521</td>\n",
       "      <td>-4.075192</td>\n",
       "      <td>0.335590</td>\n",
       "      <td>2.486855</td>\n",
       "      <td>0.368674</td>\n",
       "    </tr>\n",
       "    <tr>\n",
       "      <th>2</th>\n",
       "      <td>phon_R01_S01_3</td>\n",
       "      <td>116.682</td>\n",
       "      <td>131.111</td>\n",
       "      <td>111.555</td>\n",
       "      <td>0.01050</td>\n",
       "      <td>0.00009</td>\n",
       "      <td>0.00544</td>\n",
       "      <td>0.00781</td>\n",
       "      <td>0.01633</td>\n",
       "      <td>0.05233</td>\n",
       "      <td>...</td>\n",
       "      <td>0.08270</td>\n",
       "      <td>0.01309</td>\n",
       "      <td>20.651</td>\n",
       "      <td>1</td>\n",
       "      <td>0.429895</td>\n",
       "      <td>0.825288</td>\n",
       "      <td>-4.443179</td>\n",
       "      <td>0.311173</td>\n",
       "      <td>2.342259</td>\n",
       "      <td>0.332634</td>\n",
       "    </tr>\n",
       "    <tr>\n",
       "      <th>3</th>\n",
       "      <td>phon_R01_S01_4</td>\n",
       "      <td>116.676</td>\n",
       "      <td>137.871</td>\n",
       "      <td>111.366</td>\n",
       "      <td>0.00997</td>\n",
       "      <td>0.00009</td>\n",
       "      <td>0.00502</td>\n",
       "      <td>0.00698</td>\n",
       "      <td>0.01505</td>\n",
       "      <td>0.05492</td>\n",
       "      <td>...</td>\n",
       "      <td>0.08771</td>\n",
       "      <td>0.01353</td>\n",
       "      <td>20.644</td>\n",
       "      <td>1</td>\n",
       "      <td>0.434969</td>\n",
       "      <td>0.819235</td>\n",
       "      <td>-4.117501</td>\n",
       "      <td>0.334147</td>\n",
       "      <td>2.405554</td>\n",
       "      <td>0.368975</td>\n",
       "    </tr>\n",
       "    <tr>\n",
       "      <th>4</th>\n",
       "      <td>phon_R01_S01_5</td>\n",
       "      <td>116.014</td>\n",
       "      <td>141.781</td>\n",
       "      <td>110.655</td>\n",
       "      <td>0.01284</td>\n",
       "      <td>0.00011</td>\n",
       "      <td>0.00655</td>\n",
       "      <td>0.00908</td>\n",
       "      <td>0.01966</td>\n",
       "      <td>0.06425</td>\n",
       "      <td>...</td>\n",
       "      <td>0.10470</td>\n",
       "      <td>0.01767</td>\n",
       "      <td>19.649</td>\n",
       "      <td>1</td>\n",
       "      <td>0.417356</td>\n",
       "      <td>0.823484</td>\n",
       "      <td>-3.747787</td>\n",
       "      <td>0.234513</td>\n",
       "      <td>2.332180</td>\n",
       "      <td>0.410335</td>\n",
       "    </tr>\n",
       "  </tbody>\n",
       "</table>\n",
       "<p>5 rows × 24 columns</p>\n",
       "</div>"
      ],
      "text/plain": [
       "             name  MDVP:Fo(Hz)  MDVP:Fhi(Hz)  MDVP:Flo(Hz)  MDVP:Jitter(%)  \\\n",
       "0  phon_R01_S01_1      119.992       157.302        74.997         0.00784   \n",
       "1  phon_R01_S01_2      122.400       148.650       113.819         0.00968   \n",
       "2  phon_R01_S01_3      116.682       131.111       111.555         0.01050   \n",
       "3  phon_R01_S01_4      116.676       137.871       111.366         0.00997   \n",
       "4  phon_R01_S01_5      116.014       141.781       110.655         0.01284   \n",
       "\n",
       "   MDVP:Jitter(Abs)  MDVP:RAP  MDVP:PPQ  Jitter:DDP  MDVP:Shimmer  ...  \\\n",
       "0           0.00007   0.00370   0.00554     0.01109       0.04374  ...   \n",
       "1           0.00008   0.00465   0.00696     0.01394       0.06134  ...   \n",
       "2           0.00009   0.00544   0.00781     0.01633       0.05233  ...   \n",
       "3           0.00009   0.00502   0.00698     0.01505       0.05492  ...   \n",
       "4           0.00011   0.00655   0.00908     0.01966       0.06425  ...   \n",
       "\n",
       "   Shimmer:DDA      NHR     HNR  status      RPDE       DFA   spread1  \\\n",
       "0      0.06545  0.02211  21.033       1  0.414783  0.815285 -4.813031   \n",
       "1      0.09403  0.01929  19.085       1  0.458359  0.819521 -4.075192   \n",
       "2      0.08270  0.01309  20.651       1  0.429895  0.825288 -4.443179   \n",
       "3      0.08771  0.01353  20.644       1  0.434969  0.819235 -4.117501   \n",
       "4      0.10470  0.01767  19.649       1  0.417356  0.823484 -3.747787   \n",
       "\n",
       "    spread2        D2       PPE  \n",
       "0  0.266482  2.301442  0.284654  \n",
       "1  0.335590  2.486855  0.368674  \n",
       "2  0.311173  2.342259  0.332634  \n",
       "3  0.334147  2.405554  0.368975  \n",
       "4  0.234513  2.332180  0.410335  \n",
       "\n",
       "[5 rows x 24 columns]"
      ]
     },
     "execution_count": 2,
     "metadata": {},
     "output_type": "execute_result"
    }
   ],
   "source": [
    "### importing dataset\n",
    "Parkinson_data=pd.read_csv('parkinson_data.csv')\n",
    "Parkinson_data.head()"
   ]
  },
  {
   "cell_type": "code",
   "execution_count": 3,
   "id": "691fd438",
   "metadata": {},
   "outputs": [
    {
     "data": {
      "text/plain": [
       "Index(['name', 'MDVP:Fo(Hz)', 'MDVP:Fhi(Hz)', 'MDVP:Flo(Hz)', 'MDVP:Jitter(%)',\n",
       "       'MDVP:Jitter(Abs)', 'MDVP:RAP', 'MDVP:PPQ', 'Jitter:DDP',\n",
       "       'MDVP:Shimmer', 'MDVP:Shimmer(dB)', 'Shimmer:APQ3', 'Shimmer:APQ5',\n",
       "       'MDVP:APQ', 'Shimmer:DDA', 'NHR', 'HNR', 'status', 'RPDE', 'DFA',\n",
       "       'spread1', 'spread2', 'D2', 'PPE'],\n",
       "      dtype='object')"
      ]
     },
     "execution_count": 3,
     "metadata": {},
     "output_type": "execute_result"
    }
   ],
   "source": [
    "### looking at the various columns of the dataset\n",
    "Parkinson_data.columns "
   ]
  },
  {
   "cell_type": "code",
   "execution_count": 4,
   "id": "a0cb6e5f",
   "metadata": {},
   "outputs": [
    {
     "name": "stdout",
     "output_type": "stream",
     "text": [
      "<class 'pandas.core.frame.DataFrame'>\n",
      "RangeIndex: 195 entries, 0 to 194\n",
      "Data columns (total 24 columns):\n",
      " #   Column            Non-Null Count  Dtype  \n",
      "---  ------            --------------  -----  \n",
      " 0   name              195 non-null    object \n",
      " 1   MDVP:Fo(Hz)       195 non-null    float64\n",
      " 2   MDVP:Fhi(Hz)      195 non-null    float64\n",
      " 3   MDVP:Flo(Hz)      195 non-null    float64\n",
      " 4   MDVP:Jitter(%)    195 non-null    float64\n",
      " 5   MDVP:Jitter(Abs)  195 non-null    float64\n",
      " 6   MDVP:RAP          195 non-null    float64\n",
      " 7   MDVP:PPQ          195 non-null    float64\n",
      " 8   Jitter:DDP        195 non-null    float64\n",
      " 9   MDVP:Shimmer      195 non-null    float64\n",
      " 10  MDVP:Shimmer(dB)  195 non-null    float64\n",
      " 11  Shimmer:APQ3      195 non-null    float64\n",
      " 12  Shimmer:APQ5      195 non-null    float64\n",
      " 13  MDVP:APQ          195 non-null    float64\n",
      " 14  Shimmer:DDA       195 non-null    float64\n",
      " 15  NHR               195 non-null    float64\n",
      " 16  HNR               195 non-null    float64\n",
      " 17  status            195 non-null    int64  \n",
      " 18  RPDE              195 non-null    float64\n",
      " 19  DFA               195 non-null    float64\n",
      " 20  spread1           195 non-null    float64\n",
      " 21  spread2           195 non-null    float64\n",
      " 22  D2                195 non-null    float64\n",
      " 23  PPE               195 non-null    float64\n",
      "dtypes: float64(22), int64(1), object(1)\n",
      "memory usage: 36.7+ KB\n"
     ]
    }
   ],
   "source": [
    "### viewing variuos information about the dataset\n",
    "Parkinson_data.info()"
   ]
  },
  {
   "cell_type": "markdown",
   "id": "22755e3c",
   "metadata": {},
   "source": [
    "Each column does not have a empty row, they are all filled "
   ]
  },
  {
   "cell_type": "code",
   "execution_count": 5,
   "id": "8d470e94",
   "metadata": {},
   "outputs": [
    {
     "data": {
      "text/plain": [
       "phon_R01_S01_1    1\n",
       "phon_R01_S35_1    1\n",
       "phon_R01_S31_3    1\n",
       "phon_R01_S31_4    1\n",
       "phon_R01_S31_5    1\n",
       "                 ..\n",
       "phon_R01_S18_2    1\n",
       "phon_R01_S18_3    1\n",
       "phon_R01_S18_4    1\n",
       "phon_R01_S18_5    1\n",
       "phon_R01_S50_6    1\n",
       "Name: name, Length: 195, dtype: int64"
      ]
     },
     "execution_count": 5,
     "metadata": {},
     "output_type": "execute_result"
    }
   ],
   "source": [
    "### checking for duplicates\n",
    "Parkinson_data['name'].value_counts()               "
   ]
  },
  {
   "cell_type": "markdown",
   "id": "98df094f",
   "metadata": {},
   "source": [
    "Each name is unique for every person"
   ]
  },
  {
   "cell_type": "markdown",
   "id": "278cd94c",
   "metadata": {},
   "source": [
    "## UNIVARIATE ANALYSIS"
   ]
  },
  {
   "cell_type": "code",
   "execution_count": 6,
   "id": "84562451",
   "metadata": {},
   "outputs": [
    {
     "data": {
      "text/html": [
       "<div>\n",
       "<style scoped>\n",
       "    .dataframe tbody tr th:only-of-type {\n",
       "        vertical-align: middle;\n",
       "    }\n",
       "\n",
       "    .dataframe tbody tr th {\n",
       "        vertical-align: top;\n",
       "    }\n",
       "\n",
       "    .dataframe thead th {\n",
       "        text-align: right;\n",
       "    }\n",
       "</style>\n",
       "<table border=\"1\" class=\"dataframe\">\n",
       "  <thead>\n",
       "    <tr style=\"text-align: right;\">\n",
       "      <th></th>\n",
       "      <th>name</th>\n",
       "      <th>MDVP:Fo(Hz)</th>\n",
       "      <th>MDVP:Fhi(Hz)</th>\n",
       "      <th>MDVP:Flo(Hz)</th>\n",
       "      <th>MDVP:Jitter(%)</th>\n",
       "      <th>MDVP:Jitter(Abs)</th>\n",
       "      <th>MDVP:RAP</th>\n",
       "      <th>MDVP:PPQ</th>\n",
       "      <th>Jitter:DDP</th>\n",
       "      <th>MDVP:Shimmer</th>\n",
       "      <th>...</th>\n",
       "      <th>Shimmer:DDA</th>\n",
       "      <th>NHR</th>\n",
       "      <th>HNR</th>\n",
       "      <th>status</th>\n",
       "      <th>RPDE</th>\n",
       "      <th>DFA</th>\n",
       "      <th>spread1</th>\n",
       "      <th>spread2</th>\n",
       "      <th>D2</th>\n",
       "      <th>PPE</th>\n",
       "    </tr>\n",
       "  </thead>\n",
       "  <tbody>\n",
       "    <tr>\n",
       "      <th>0</th>\n",
       "      <td>phon_R01_S01_1</td>\n",
       "      <td>119.992</td>\n",
       "      <td>157.302</td>\n",
       "      <td>74.997</td>\n",
       "      <td>0.00784</td>\n",
       "      <td>0.00007</td>\n",
       "      <td>0.00370</td>\n",
       "      <td>0.00554</td>\n",
       "      <td>0.01109</td>\n",
       "      <td>0.04374</td>\n",
       "      <td>...</td>\n",
       "      <td>0.06545</td>\n",
       "      <td>0.02211</td>\n",
       "      <td>21.033</td>\n",
       "      <td>1</td>\n",
       "      <td>0.414783</td>\n",
       "      <td>0.815285</td>\n",
       "      <td>-4.813031</td>\n",
       "      <td>0.266482</td>\n",
       "      <td>2.301442</td>\n",
       "      <td>0.284654</td>\n",
       "    </tr>\n",
       "    <tr>\n",
       "      <th>1</th>\n",
       "      <td>phon_R01_S01_2</td>\n",
       "      <td>122.400</td>\n",
       "      <td>148.650</td>\n",
       "      <td>113.819</td>\n",
       "      <td>0.00968</td>\n",
       "      <td>0.00008</td>\n",
       "      <td>0.00465</td>\n",
       "      <td>0.00696</td>\n",
       "      <td>0.01394</td>\n",
       "      <td>0.06134</td>\n",
       "      <td>...</td>\n",
       "      <td>0.09403</td>\n",
       "      <td>0.01929</td>\n",
       "      <td>19.085</td>\n",
       "      <td>1</td>\n",
       "      <td>0.458359</td>\n",
       "      <td>0.819521</td>\n",
       "      <td>-4.075192</td>\n",
       "      <td>0.335590</td>\n",
       "      <td>2.486855</td>\n",
       "      <td>0.368674</td>\n",
       "    </tr>\n",
       "    <tr>\n",
       "      <th>2</th>\n",
       "      <td>phon_R01_S01_3</td>\n",
       "      <td>116.682</td>\n",
       "      <td>131.111</td>\n",
       "      <td>111.555</td>\n",
       "      <td>0.01050</td>\n",
       "      <td>0.00009</td>\n",
       "      <td>0.00544</td>\n",
       "      <td>0.00781</td>\n",
       "      <td>0.01633</td>\n",
       "      <td>0.05233</td>\n",
       "      <td>...</td>\n",
       "      <td>0.08270</td>\n",
       "      <td>0.01309</td>\n",
       "      <td>20.651</td>\n",
       "      <td>1</td>\n",
       "      <td>0.429895</td>\n",
       "      <td>0.825288</td>\n",
       "      <td>-4.443179</td>\n",
       "      <td>0.311173</td>\n",
       "      <td>2.342259</td>\n",
       "      <td>0.332634</td>\n",
       "    </tr>\n",
       "    <tr>\n",
       "      <th>3</th>\n",
       "      <td>phon_R01_S01_4</td>\n",
       "      <td>116.676</td>\n",
       "      <td>137.871</td>\n",
       "      <td>111.366</td>\n",
       "      <td>0.00997</td>\n",
       "      <td>0.00009</td>\n",
       "      <td>0.00502</td>\n",
       "      <td>0.00698</td>\n",
       "      <td>0.01505</td>\n",
       "      <td>0.05492</td>\n",
       "      <td>...</td>\n",
       "      <td>0.08771</td>\n",
       "      <td>0.01353</td>\n",
       "      <td>20.644</td>\n",
       "      <td>1</td>\n",
       "      <td>0.434969</td>\n",
       "      <td>0.819235</td>\n",
       "      <td>-4.117501</td>\n",
       "      <td>0.334147</td>\n",
       "      <td>2.405554</td>\n",
       "      <td>0.368975</td>\n",
       "    </tr>\n",
       "    <tr>\n",
       "      <th>4</th>\n",
       "      <td>phon_R01_S01_5</td>\n",
       "      <td>116.014</td>\n",
       "      <td>141.781</td>\n",
       "      <td>110.655</td>\n",
       "      <td>0.01284</td>\n",
       "      <td>0.00011</td>\n",
       "      <td>0.00655</td>\n",
       "      <td>0.00908</td>\n",
       "      <td>0.01966</td>\n",
       "      <td>0.06425</td>\n",
       "      <td>...</td>\n",
       "      <td>0.10470</td>\n",
       "      <td>0.01767</td>\n",
       "      <td>19.649</td>\n",
       "      <td>1</td>\n",
       "      <td>0.417356</td>\n",
       "      <td>0.823484</td>\n",
       "      <td>-3.747787</td>\n",
       "      <td>0.234513</td>\n",
       "      <td>2.332180</td>\n",
       "      <td>0.410335</td>\n",
       "    </tr>\n",
       "  </tbody>\n",
       "</table>\n",
       "<p>5 rows × 24 columns</p>\n",
       "</div>"
      ],
      "text/plain": [
       "             name  MDVP:Fo(Hz)  MDVP:Fhi(Hz)  MDVP:Flo(Hz)  MDVP:Jitter(%)  \\\n",
       "0  phon_R01_S01_1      119.992       157.302        74.997         0.00784   \n",
       "1  phon_R01_S01_2      122.400       148.650       113.819         0.00968   \n",
       "2  phon_R01_S01_3      116.682       131.111       111.555         0.01050   \n",
       "3  phon_R01_S01_4      116.676       137.871       111.366         0.00997   \n",
       "4  phon_R01_S01_5      116.014       141.781       110.655         0.01284   \n",
       "\n",
       "   MDVP:Jitter(Abs)  MDVP:RAP  MDVP:PPQ  Jitter:DDP  MDVP:Shimmer  ...  \\\n",
       "0           0.00007   0.00370   0.00554     0.01109       0.04374  ...   \n",
       "1           0.00008   0.00465   0.00696     0.01394       0.06134  ...   \n",
       "2           0.00009   0.00544   0.00781     0.01633       0.05233  ...   \n",
       "3           0.00009   0.00502   0.00698     0.01505       0.05492  ...   \n",
       "4           0.00011   0.00655   0.00908     0.01966       0.06425  ...   \n",
       "\n",
       "   Shimmer:DDA      NHR     HNR  status      RPDE       DFA   spread1  \\\n",
       "0      0.06545  0.02211  21.033       1  0.414783  0.815285 -4.813031   \n",
       "1      0.09403  0.01929  19.085       1  0.458359  0.819521 -4.075192   \n",
       "2      0.08270  0.01309  20.651       1  0.429895  0.825288 -4.443179   \n",
       "3      0.08771  0.01353  20.644       1  0.434969  0.819235 -4.117501   \n",
       "4      0.10470  0.01767  19.649       1  0.417356  0.823484 -3.747787   \n",
       "\n",
       "    spread2        D2       PPE  \n",
       "0  0.266482  2.301442  0.284654  \n",
       "1  0.335590  2.486855  0.368674  \n",
       "2  0.311173  2.342259  0.332634  \n",
       "3  0.334147  2.405554  0.368975  \n",
       "4  0.234513  2.332180  0.410335  \n",
       "\n",
       "[5 rows x 24 columns]"
      ]
     },
     "execution_count": 6,
     "metadata": {},
     "output_type": "execute_result"
    }
   ],
   "source": [
    "### looding dataset for UNIVARIATE ANALYSIS \n",
    "Parkinson_data.head()"
   ]
  },
  {
   "cell_type": "markdown",
   "id": "bae24a20",
   "metadata": {},
   "source": [
    "### NAME"
   ]
  },
  {
   "cell_type": "code",
   "execution_count": 7,
   "id": "b3bf0b4c",
   "metadata": {},
   "outputs": [
    {
     "data": {
      "text/plain": [
       "<bound method Series.unique of 0      phon_R01_S01_1\n",
       "1      phon_R01_S01_2\n",
       "2      phon_R01_S01_3\n",
       "3      phon_R01_S01_4\n",
       "4      phon_R01_S01_5\n",
       "            ...      \n",
       "190    phon_R01_S50_2\n",
       "191    phon_R01_S50_3\n",
       "192    phon_R01_S50_4\n",
       "193    phon_R01_S50_5\n",
       "194    phon_R01_S50_6\n",
       "Name: name, Length: 195, dtype: object>"
      ]
     },
     "execution_count": 7,
     "metadata": {},
     "output_type": "execute_result"
    }
   ],
   "source": [
    "### There were no duplicates in the patient name \n",
    "Parkinson_data['name'].unique"
   ]
  },
  {
   "cell_type": "code",
   "execution_count": 8,
   "id": "529e3ea7",
   "metadata": {},
   "outputs": [
    {
     "data": {
      "text/plain": [
       "phon_R01_S01_1    1\n",
       "phon_R01_S35_1    1\n",
       "phon_R01_S31_3    1\n",
       "phon_R01_S31_4    1\n",
       "phon_R01_S31_5    1\n",
       "                 ..\n",
       "phon_R01_S18_2    1\n",
       "phon_R01_S18_3    1\n",
       "phon_R01_S18_4    1\n",
       "phon_R01_S18_5    1\n",
       "phon_R01_S50_6    1\n",
       "Name: name, Length: 195, dtype: int64"
      ]
     },
     "execution_count": 8,
     "metadata": {},
     "output_type": "execute_result"
    }
   ],
   "source": [
    "### Each bame is unique for every patient\n",
    "Parkinson_data['name'].value_counts()"
   ]
  },
  {
   "cell_type": "markdown",
   "id": "b7452dcc",
   "metadata": {},
   "source": [
    "### MDVP:Fo(Hz) (Average vocal  Fundamental Frequency)"
   ]
  },
  {
   "cell_type": "code",
   "execution_count": 9,
   "id": "ca3b67bf",
   "metadata": {},
   "outputs": [
    {
     "data": {
      "text/plain": [
       "0    119.992\n",
       "1    122.400\n",
       "2    116.682\n",
       "3    116.676\n",
       "4    116.014\n",
       "Name: MDVP:Fo(Hz), dtype: float64"
      ]
     },
     "execution_count": 9,
     "metadata": {},
     "output_type": "execute_result"
    }
   ],
   "source": [
    "### various rows of the MDVP:Fo(Hz) column\n",
    "Parkinson_data['MDVP:Fo(Hz)'].head()"
   ]
  },
  {
   "cell_type": "code",
   "execution_count": 10,
   "id": "55cb3247",
   "metadata": {},
   "outputs": [
    {
     "data": {
      "text/plain": [
       "260.105"
      ]
     },
     "execution_count": 10,
     "metadata": {},
     "output_type": "execute_result"
    }
   ],
   "source": [
    "### the highest MDVP:Fo(Hz) value\n",
    "Parkinson_data['MDVP:Fo(Hz)'].max()"
   ]
  },
  {
   "cell_type": "markdown",
   "id": "af086c3c",
   "metadata": {},
   "source": [
    "260.105Hz is the highest recorded value for MDVP:Fo(Hz) (Average vocal Fundamental Frequency)"
   ]
  },
  {
   "cell_type": "code",
   "execution_count": 11,
   "id": "7af360d6",
   "metadata": {},
   "outputs": [
    {
     "data": {
      "text/plain": [
       "154.22864102564105"
      ]
     },
     "execution_count": 11,
     "metadata": {},
     "output_type": "execute_result"
    }
   ],
   "source": [
    "### average MDVP:Fo(Hz) value\n",
    "Parkinson_data['MDVP:Fo(Hz)'].mean()"
   ]
  },
  {
   "cell_type": "markdown",
   "id": "7fc4d1d4",
   "metadata": {},
   "source": [
    "Most patients recorded 154.22864102564105Hz for MDVP:Fo(Hz) (Average vocal Fundamental Frequency)\n"
   ]
  },
  {
   "cell_type": "code",
   "execution_count": 12,
   "id": "f48feffb",
   "metadata": {},
   "outputs": [
    {
     "data": {
      "text/plain": [
       "88.333"
      ]
     },
     "execution_count": 12,
     "metadata": {},
     "output_type": "execute_result"
    }
   ],
   "source": [
    "### the smallest MDVP:Fo(Hz) value\n",
    "Parkinson_data['MDVP:Fo(Hz)'].min()"
   ]
  },
  {
   "cell_type": "markdown",
   "id": "ef3eded3",
   "metadata": {},
   "source": [
    "88.333Hz is the lowest value recorded for  MDVP:Fo(Hz) (Average vocal Fundamental Frequency)"
   ]
  },
  {
   "cell_type": "code",
   "execution_count": 13,
   "id": "7c27548a",
   "metadata": {},
   "outputs": [
    {
     "data": {
      "image/png": "[encoded data removed]",
      "text/plain": [
       "<Figure size 432x288 with 1 Axes>"
      ]
     },
     "metadata": {
      "needs_background": "light"
     },
     "output_type": "display_data"
    }
   ],
   "source": [
    "### plotting a graph for MDVP:Fo(Hz) column\n",
    "plt.plot(Parkinson_data['MDVP:Fo(Hz)'])\n",
    "plt.title('Average vocal Fundamental Frequency',fontsize=15)\n",
    "plt.xlabel('Number Of People',fontsize=10)\n",
    "plt.ylabel('Fundamental Frequency',fontsize=10)\n",
    "plt.show()"
   ]
  },
  {
   "cell_type": "markdown",
   "id": "cdc91817",
   "metadata": {},
   "source": [
    "This means that all of the patients  have a normal vocal frequency no one has a deep voice "
   ]
  },
  {
   "cell_type": "markdown",
   "id": "281846c7",
   "metadata": {},
   "source": [
    "### MDVP:Fhi(Hz) (Maximum vocal Fundamental Frequency)"
   ]
  },
  {
   "cell_type": "code",
   "execution_count": 14,
   "id": "1796ca44",
   "metadata": {},
   "outputs": [
    {
     "data": {
      "text/plain": [
       "0    157.302\n",
       "1    148.650\n",
       "2    131.111\n",
       "3    137.871\n",
       "4    141.781\n",
       "Name: MDVP:Fhi(Hz), dtype: float64"
      ]
     },
     "execution_count": 14,
     "metadata": {},
     "output_type": "execute_result"
    }
   ],
   "source": [
    "### various rows of the MDVP:Fhi(Hz) column\n",
    "Parkinson_data['MDVP:Fhi(Hz)'].head()"
   ]
  },
  {
   "cell_type": "code",
   "execution_count": 15,
   "id": "f99c0513",
   "metadata": {},
   "outputs": [
    {
     "data": {
      "text/plain": [
       "592.03"
      ]
     },
     "execution_count": 15,
     "metadata": {},
     "output_type": "execute_result"
    }
   ],
   "source": [
    "### the  highest MDVP:Fhi(Hz) value\n",
    "Parkinson_data['MDVP:Fhi(Hz)'].max()"
   ]
  },
  {
   "cell_type": "markdown",
   "id": "1869ee7f",
   "metadata": {},
   "source": [
    "592.03Hz is the highest recorded value for MDVP:Fhi(Hz) (Maximum vocal Fundamental Frequency)\n"
   ]
  },
  {
   "cell_type": "code",
   "execution_count": 16,
   "id": "98d64184",
   "metadata": {},
   "outputs": [
    {
     "data": {
      "text/plain": [
       "197.104917948718"
      ]
     },
     "execution_count": 16,
     "metadata": {},
     "output_type": "execute_result"
    }
   ],
   "source": [
    "### average MDVP:Fhi(Hz) value\n",
    "Parkinson_data['MDVP:Fhi(Hz)'].mean()"
   ]
  },
  {
   "cell_type": "markdown",
   "id": "9647ea9d",
   "metadata": {},
   "source": [
    "Most patients recorded 197.104917948718Hz for MDVP:Fhi(Hz)( maximum vocal Fundamental Frequency)\n"
   ]
  },
  {
   "cell_type": "code",
   "execution_count": 17,
   "id": "feb9814e",
   "metadata": {},
   "outputs": [
    {
     "data": {
      "text/plain": [
       "102.145"
      ]
     },
     "execution_count": 17,
     "metadata": {},
     "output_type": "execute_result"
    }
   ],
   "source": [
    "### the smallest MDVP:Fhi(Hz) value\n",
    "Parkinson_data['MDVP:Fhi(Hz)'].min()"
   ]
  },
  {
   "cell_type": "markdown",
   "id": "2a6a7c58",
   "metadata": {},
   "source": [
    "102.145Hz is the lowest value recorded for MDVP:Fhi(Hz) (Maximum vocal Fundamental Frequency)\n"
   ]
  },
  {
   "cell_type": "code",
   "execution_count": 18,
   "id": "83c26277",
   "metadata": {},
   "outputs": [
    {
     "data": {
      "image/png": "[encoded data removed]",
      "text/plain": [
       "<Figure size 432x288 with 1 Axes>"
      ]
     },
     "metadata": {
      "needs_background": "light"
     },
     "output_type": "display_data"
    }
   ],
   "source": [
    "### plotting a graph for MDVP:Fhi(Hz) column\n",
    "plt.plot(Parkinson_data['MDVP:Fhi(Hz)'])\n",
    "plt.title('Maximum vocal Fundamental Frequency',fontsize=15)\n",
    "plt.xlabel('Number Of People',fontsize=10)\n",
    "plt.ylabel('Fundamental Frequency',fontsize=10)\n",
    "plt.show()"
   ]
  },
  {
   "cell_type": "markdown",
   "id": "3eb0cfa9",
   "metadata": {},
   "source": [
    "This means that most of the patient had high pitch voice "
   ]
  },
  {
   "cell_type": "markdown",
   "id": "5059fd37",
   "metadata": {},
   "source": [
    "### MDVP:Flo(Hz) (Minimum vocal Fundamental Frequency)"
   ]
  },
  {
   "cell_type": "code",
   "execution_count": 19,
   "id": "2a4ec05e",
   "metadata": {},
   "outputs": [
    {
     "data": {
      "text/plain": [
       "0     74.997\n",
       "1    113.819\n",
       "2    111.555\n",
       "3    111.366\n",
       "4    110.655\n",
       "Name: MDVP:Flo(Hz), dtype: float64"
      ]
     },
     "execution_count": 19,
     "metadata": {},
     "output_type": "execute_result"
    }
   ],
   "source": [
    "### various rows of the MDVP:Flo(Hz) column\n",
    "Parkinson_data['MDVP:Flo(Hz)'].head()"
   ]
  },
  {
   "cell_type": "code",
   "execution_count": 20,
   "id": "bc15cc5d",
   "metadata": {},
   "outputs": [
    {
     "data": {
      "text/plain": [
       "239.17"
      ]
     },
     "execution_count": 20,
     "metadata": {},
     "output_type": "execute_result"
    }
   ],
   "source": [
    "### the highest MDVP:Flo(Hz) value\n",
    "Parkinson_data['MDVP:Flo(Hz)'].max()"
   ]
  },
  {
   "cell_type": "markdown",
   "id": "dc02acb2",
   "metadata": {},
   "source": [
    "239.17Hz is the highest recorded value for MDVP:Flo(Hz) (Minimum vocal Fundamental Frequency)\n"
   ]
  },
  {
   "cell_type": "code",
   "execution_count": 21,
   "id": "96685ce7",
   "metadata": {},
   "outputs": [
    {
     "data": {
      "text/plain": [
       "116.32463076923077"
      ]
     },
     "execution_count": 21,
     "metadata": {},
     "output_type": "execute_result"
    }
   ],
   "source": [
    "### average MDVP:Flo(Hz) value\n",
    "Parkinson_data['MDVP:Flo(Hz)'].mean()"
   ]
  },
  {
   "cell_type": "markdown",
   "id": "119b4278",
   "metadata": {},
   "source": [
    "Most patients recorded 116.32463076923077Hz for MDVP:Flo(Hz)( Minimum vocal Fundamental Frequency)"
   ]
  },
  {
   "cell_type": "code",
   "execution_count": 22,
   "id": "1999de92",
   "metadata": {},
   "outputs": [
    {
     "data": {
      "text/plain": [
       "65.476"
      ]
     },
     "execution_count": 22,
     "metadata": {},
     "output_type": "execute_result"
    }
   ],
   "source": [
    "### the smallest MDVP:Flo(Hz) value\n",
    "Parkinson_data['MDVP:Flo(Hz)'].min()"
   ]
  },
  {
   "cell_type": "markdown",
   "id": "55a422eb",
   "metadata": {},
   "source": [
    "65.476Hz is the lowest value recorded for MDVP:Flo(Hz) (Minimum vocal Fundamental Frequency)"
   ]
  },
  {
   "cell_type": "code",
   "execution_count": 23,
   "id": "5c3741e2",
   "metadata": {},
   "outputs": [
    {
     "data": {
      "image/png": "[encoded data removed]",
      "text/plain": [
       "<Figure size 432x288 with 1 Axes>"
      ]
     },
     "metadata": {
      "needs_background": "light"
     },
     "output_type": "display_data"
    }
   ],
   "source": [
    "### plotting a graph for MDVP:Flo(Hz) column\n",
    "plt.plot(Parkinson_data['MDVP:Flo(Hz)'])\n",
    "plt.title('Minimum Vocal Fundamental Frequency',fontsize=15)\n",
    "plt.xlabel('Number Of People',fontsize=10)\n",
    "plt.ylabel('Fundamental Frequency',fontsize=10)\n",
    "plt.show()"
   ]
  },
  {
   "cell_type": "markdown",
   "id": "38fea319",
   "metadata": {},
   "source": [
    "Some of the patients recorded in this seesion had a deep voice and some had high  pitch voice "
   ]
  },
  {
   "cell_type": "markdown",
   "id": "0b34dc6a",
   "metadata": {},
   "source": [
    "### MDVP:Jitter(%) (Jitter In Percentage)"
   ]
  },
  {
   "cell_type": "code",
   "execution_count": 24,
   "id": "9e39ae37",
   "metadata": {},
   "outputs": [
    {
     "data": {
      "text/plain": [
       "0    0.00784\n",
       "1    0.00968\n",
       "2    0.01050\n",
       "3    0.00997\n",
       "4    0.01284\n",
       "Name: MDVP:Jitter(%), dtype: float64"
      ]
     },
     "execution_count": 24,
     "metadata": {},
     "output_type": "execute_result"
    }
   ],
   "source": [
    "### various rows of the MDVP:jitter(%) column\n",
    "Parkinson_data['MDVP:Jitter(%)'].head()"
   ]
  },
  {
   "cell_type": "code",
   "execution_count": 25,
   "id": "b582e67b",
   "metadata": {},
   "outputs": [
    {
     "data": {
      "text/plain": [
       "0.03316"
      ]
     },
     "execution_count": 25,
     "metadata": {},
     "output_type": "execute_result"
    }
   ],
   "source": [
    "### the highest MDVP:Jitter(%) value\n",
    "Parkinson_data['MDVP:Jitter(%)'].max()"
   ]
  },
  {
   "cell_type": "markdown",
   "id": "df09db57",
   "metadata": {},
   "source": [
    "0.03316 (0.033%) is the highest recorded value for MDVP:Jitter(%)(Jitter In Percentage)"
   ]
  },
  {
   "cell_type": "code",
   "execution_count": 26,
   "id": "b074455c",
   "metadata": {},
   "outputs": [
    {
     "data": {
      "text/plain": [
       "0.006220461538461542"
      ]
     },
     "execution_count": 26,
     "metadata": {},
     "output_type": "execute_result"
    }
   ],
   "source": [
    "### average MDVP:Jitter(%) value\n",
    "Parkinson_data['MDVP:Jitter(%)'].mean()"
   ]
  },
  {
   "cell_type": "markdown",
   "id": "104a5fd5",
   "metadata": {},
   "source": [
    "Most patients recorded 0.006220461538461542 (0.0062%) for MDVP:Jitter(%) (Jitter In Percentage)"
   ]
  },
  {
   "cell_type": "code",
   "execution_count": 27,
   "id": "3f6a6aaa",
   "metadata": {},
   "outputs": [
    {
     "data": {
      "text/plain": [
       "0.00168"
      ]
     },
     "execution_count": 27,
     "metadata": {},
     "output_type": "execute_result"
    }
   ],
   "source": [
    "### the smallest MDVP:Jitter(%) value\n",
    "Parkinson_data['MDVP:Jitter(%)'].min()"
   ]
  },
  {
   "cell_type": "markdown",
   "id": "b45db7fd",
   "metadata": {},
   "source": [
    "0.00168 (0.0017%) is the lowest value recorded for MDVP:Jitter(%) (Jitter In Percentage)"
   ]
  },
  {
   "cell_type": "code",
   "execution_count": 28,
   "id": "26c98091",
   "metadata": {},
   "outputs": [
    {
     "data": {
      "image/png": "[encoded data removed]",
      "text/plain": [
       "<Figure size 432x288 with 1 Axes>"
      ]
     },
     "metadata": {
      "needs_background": "light"
     },
     "output_type": "display_data"
    }
   ],
   "source": [
    "### plotting a graph for MDVP:jitter(%) column\n",
    "plt.plot(Parkinson_data['MDVP:Jitter(%)'])\n",
    "plt.title('Jitter In Percentage',fontsize=15)\n",
    "plt.xlabel('Number Of People',fontsize=10)\n",
    "plt.ylabel('Percentage',fontsize=10)\n",
    "plt.show()"
   ]
  },
  {
   "cell_type": "markdown",
   "id": "2c1cc71a",
   "metadata": {},
   "source": [
    "The deviation in sound pulses in a high frequency of the patients recorded in percentages (%) were (3.3%) for maximum, (0.62%) for the average and (0.17%) for minimum."
   ]
  },
  {
   "cell_type": "markdown",
   "id": "0233e5da",
   "metadata": {},
   "source": [
    "### MDVP:Jitter(Abs) (Absolute Jitter In ms)"
   ]
  },
  {
   "cell_type": "code",
   "execution_count": 29,
   "id": "d3f71b1f",
   "metadata": {},
   "outputs": [
    {
     "data": {
      "text/plain": [
       "0    0.00007\n",
       "1    0.00008\n",
       "2    0.00009\n",
       "3    0.00009\n",
       "4    0.00011\n",
       "Name: MDVP:Jitter(Abs), dtype: float64"
      ]
     },
     "execution_count": 29,
     "metadata": {},
     "output_type": "execute_result"
    }
   ],
   "source": [
    "### various rows of the MDVP:Jitter(Abs) column\n",
    "Parkinson_data['MDVP:Jitter(Abs)'].head()"
   ]
  },
  {
   "cell_type": "code",
   "execution_count": 30,
   "id": "27ba831a",
   "metadata": {},
   "outputs": [
    {
     "data": {
      "text/plain": [
       "0.00026"
      ]
     },
     "execution_count": 30,
     "metadata": {},
     "output_type": "execute_result"
    }
   ],
   "source": [
    "### the highest MDVP:Jitter(Abs) value\n",
    "Parkinson_data['MDVP:Jitter(Abs)'].max()"
   ]
  },
  {
   "cell_type": "markdown",
   "id": "c394eb9e",
   "metadata": {},
   "source": [
    "0.00026ms is the highest recorded value for MDVP:Jitter(Abs) (Absolute Jitter In ms)"
   ]
  },
  {
   "cell_type": "code",
   "execution_count": 31,
   "id": "94daaaee",
   "metadata": {},
   "outputs": [
    {
     "data": {
      "text/plain": [
       "4.395897435897438e-05"
      ]
     },
     "execution_count": 31,
     "metadata": {},
     "output_type": "execute_result"
    }
   ],
   "source": [
    "### average MDVP:Jitter(Abs) value\n",
    "Parkinson_data['MDVP:Jitter(Abs)'].mean()"
   ]
  },
  {
   "cell_type": "markdown",
   "id": "398818d8",
   "metadata": {},
   "source": [
    "Most patients recorded 0.000044ms for MDVP:Jitter(Abs) (Absolute Jitter In ms)"
   ]
  },
  {
   "cell_type": "code",
   "execution_count": 32,
   "id": "5d892613",
   "metadata": {},
   "outputs": [
    {
     "data": {
      "text/plain": [
       "7e-06"
      ]
     },
     "execution_count": 32,
     "metadata": {},
     "output_type": "execute_result"
    }
   ],
   "source": [
    "### the smallest MDVP:Jitter(Abs) value\n",
    "Parkinson_data['MDVP:Jitter(Abs)'].min()"
   ]
  },
  {
   "cell_type": "markdown",
   "id": "b68b6bb8",
   "metadata": {},
   "source": [
    " 0.000007ms is the lowest value recorded for MDVP:Jitter(Abs) (Absolute Jitter In ms)"
   ]
  },
  {
   "cell_type": "code",
   "execution_count": 33,
   "id": "63e6fcbe",
   "metadata": {},
   "outputs": [
    {
     "data": {
      "image/png": "[encoded data removed]",
      "text/plain": [
       "<Figure size 432x288 with 1 Axes>"
      ]
     },
     "metadata": {
      "needs_background": "light"
     },
     "output_type": "display_data"
    }
   ],
   "source": [
    "### plotting a graph for MDVP:Jitter(Abs) column\n",
    "plt.plot(Parkinson_data['MDVP:Jitter(Abs)'])\n",
    "plt.title('Absolute Jitter In ms',fontsize=15)\n",
    "plt.xlabel('Number Of People',fontsize=10)\n",
    "plt.ylabel('Milliseconds',fontsize=10)\n",
    "plt.show()"
   ]
  },
  {
   "cell_type": "markdown",
   "id": "39f58af1",
   "metadata": {},
   "source": [
    "All the patients have a record of a good vocal quality since all have their jitter values below 30ms"
   ]
  },
  {
   "cell_type": "markdown",
   "id": "49760dd6",
   "metadata": {},
   "source": [
    "### MDVP:RAP (Relative Amplitude Perturbation)\t"
   ]
  },
  {
   "cell_type": "code",
   "execution_count": 34,
   "id": "b11d7cfc",
   "metadata": {},
   "outputs": [
    {
     "data": {
      "text/plain": [
       "0    0.00370\n",
       "1    0.00465\n",
       "2    0.00544\n",
       "3    0.00502\n",
       "4    0.00655\n",
       "Name: MDVP:RAP, dtype: float64"
      ]
     },
     "execution_count": 34,
     "metadata": {},
     "output_type": "execute_result"
    }
   ],
   "source": [
    "### various rows of the MDVP:RAP column\n",
    "Parkinson_data['MDVP:RAP'].head()"
   ]
  },
  {
   "cell_type": "code",
   "execution_count": 35,
   "id": "352a2467",
   "metadata": {},
   "outputs": [
    {
     "data": {
      "text/plain": [
       "0.02144"
      ]
     },
     "execution_count": 35,
     "metadata": {},
     "output_type": "execute_result"
    }
   ],
   "source": [
    "### the highest MDVP:RAP value\n",
    "Parkinson_data['MDVP:RAP'].max()"
   ]
  },
  {
   "cell_type": "markdown",
   "id": "ce124a65",
   "metadata": {},
   "source": [
    "0.02144m is the highest recorded value for MDVP:RAP (Relative Amplitude Perturbation)"
   ]
  },
  {
   "cell_type": "code",
   "execution_count": 36,
   "id": "1a2b923e",
   "metadata": {},
   "outputs": [
    {
     "data": {
      "text/plain": [
       "0.0033064102564102577"
      ]
     },
     "execution_count": 36,
     "metadata": {},
     "output_type": "execute_result"
    }
   ],
   "source": [
    "### average MDVP:RAP value\n",
    "Parkinson_data['MDVP:RAP'].mean()"
   ]
  },
  {
   "cell_type": "markdown",
   "id": "ca2f9a7f",
   "metadata": {},
   "source": [
    "Most patients recorded 0.0033064102564102577m (0.0033m) for MDVP:RAP (Relative Amplitude Perturbation)"
   ]
  },
  {
   "cell_type": "code",
   "execution_count": 37,
   "id": "f9d2480f",
   "metadata": {},
   "outputs": [
    {
     "data": {
      "text/plain": [
       "0.00068"
      ]
     },
     "execution_count": 37,
     "metadata": {},
     "output_type": "execute_result"
    }
   ],
   "source": [
    "### the smallest MDVP:RAP value\n",
    "Parkinson_data['MDVP:RAP'].min()"
   ]
  },
  {
   "cell_type": "markdown",
   "id": "2a425a55",
   "metadata": {},
   "source": [
    "0.00068m is the lowest value recorded for MDVP:RAP (Relative Amplitude Perturbation)"
   ]
  },
  {
   "cell_type": "code",
   "execution_count": 38,
   "id": "a6cd8413",
   "metadata": {},
   "outputs": [
    {
     "data": {
      "image/png": "[encoded data removed]",
      "text/plain": [
       "<Figure size 432x288 with 1 Axes>"
      ]
     },
     "metadata": {
      "needs_background": "light"
     },
     "output_type": "display_data"
    }
   ],
   "source": [
    "### plotting a graph for MDVP:RAP column\n",
    "plt.plot(Parkinson_data['MDVP:RAP'])\n",
    "plt.title('Relative Amplitude Perturbation',fontsize=15)\n",
    "plt.xlabel('Number Of People',fontsize=10)\n",
    "plt.ylabel('Relative Amplitude',fontsize=10)\n",
    "plt.show()"
   ]
  },
  {
   "cell_type": "markdown",
   "id": "22dec360",
   "metadata": {},
   "source": [
    "Recrded values of random cycle to cycle variability in amplitude of glottal pulses were (0.02144m) for maximum, (0.0033m) for the average and (0.00068m) for minimum."
   ]
  },
  {
   "cell_type": "markdown",
   "id": "660e5c0d",
   "metadata": {},
   "source": [
    "### MDVP:PPQ (Five-Point Period Perturbation Quotient)"
   ]
  },
  {
   "cell_type": "code",
   "execution_count": 39,
   "id": "977ce5da",
   "metadata": {},
   "outputs": [
    {
     "data": {
      "text/plain": [
       "0    0.00554\n",
       "1    0.00696\n",
       "2    0.00781\n",
       "3    0.00698\n",
       "4    0.00908\n",
       "Name: MDVP:PPQ, dtype: float64"
      ]
     },
     "execution_count": 39,
     "metadata": {},
     "output_type": "execute_result"
    }
   ],
   "source": [
    "### various rows of the MDVP:PPQ column\n",
    "Parkinson_data['MDVP:PPQ'].head()"
   ]
  },
  {
   "cell_type": "code",
   "execution_count": 40,
   "id": "ea13e28c",
   "metadata": {},
   "outputs": [
    {
     "data": {
      "text/plain": [
       "0.01958"
      ]
     },
     "execution_count": 40,
     "metadata": {},
     "output_type": "execute_result"
    }
   ],
   "source": [
    "### the highest MDVP:PPQ value\n",
    "Parkinson_data['MDVP:PPQ'].max()"
   ]
  },
  {
   "cell_type": "markdown",
   "id": "f7656626",
   "metadata": {},
   "source": [
    "0.01958 is the highest recorded value for MDVP:PPQ (Five-Point Period Perturbation Quotient)"
   ]
  },
  {
   "cell_type": "code",
   "execution_count": 41,
   "id": "ca1618f1",
   "metadata": {},
   "outputs": [
    {
     "data": {
      "text/plain": [
       "0.0034463589743589746"
      ]
     },
     "execution_count": 41,
     "metadata": {},
     "output_type": "execute_result"
    }
   ],
   "source": [
    "### average MDVP:PPQ value\n",
    "Parkinson_data['MDVP:PPQ'].mean()"
   ]
  },
  {
   "cell_type": "markdown",
   "id": "e92fb293",
   "metadata": {},
   "source": [
    "Most patients recorded 0.0034463589743589746 (0.00344) for MDVP:PPQ (Five-Point Period Perturbation Quotient)"
   ]
  },
  {
   "cell_type": "code",
   "execution_count": 42,
   "id": "53bc3e05",
   "metadata": {},
   "outputs": [
    {
     "data": {
      "text/plain": [
       "0.00092"
      ]
     },
     "execution_count": 42,
     "metadata": {},
     "output_type": "execute_result"
    }
   ],
   "source": [
    "### the smallest MDVP:PPQ value\n",
    "Parkinson_data['MDVP:PPQ'].min()"
   ]
  },
  {
   "cell_type": "markdown",
   "id": "98b9f9d4",
   "metadata": {},
   "source": [
    "0.00092 is the lowest value recorded for MDVP:PPQ (Five-Point Period Perturbation Quotient)"
   ]
  },
  {
   "cell_type": "code",
   "execution_count": 43,
   "id": "0b1977c9",
   "metadata": {},
   "outputs": [
    {
     "data": {
      "image/png": "[encoded data removed]",
      "text/plain": [
       "<Figure size 432x288 with 1 Axes>"
      ]
     },
     "metadata": {
      "needs_background": "light"
     },
     "output_type": "display_data"
    }
   ],
   "source": [
    "### plotting a graph for MDVP:PPQ column\n",
    "plt.plot(Parkinson_data['MDVP:PPQ'])\n",
    "plt.title('Five-Point Period Perturbation Quotient',fontsize=15)\n",
    "plt.xlabel('Number Of People',fontsize=10)\n",
    "plt.ylabel('PPQ5',fontsize=10)\n",
    "plt.show()"
   ]
  },
  {
   "cell_type": "markdown",
   "id": "eaff5258",
   "metadata": {},
   "source": [
    "The values recorded for the absolute average difference  between an interval and its average ,its four closest neighbours , divided by the average intervals  were (0.01958) for maximum, (0.00344) for the average and (0.00092) for minimum."
   ]
  },
  {
   "cell_type": "markdown",
   "id": "e11ea743",
   "metadata": {},
   "source": [
    "### Jitter:DDP (Average Absolute Difference Of Differences Between Jitter Cycles)"
   ]
  },
  {
   "cell_type": "code",
   "execution_count": 44,
   "id": "ffc9b638",
   "metadata": {},
   "outputs": [
    {
     "data": {
      "text/plain": [
       "0    0.01109\n",
       "1    0.01394\n",
       "2    0.01633\n",
       "3    0.01505\n",
       "4    0.01966\n",
       "Name: Jitter:DDP, dtype: float64"
      ]
     },
     "execution_count": 44,
     "metadata": {},
     "output_type": "execute_result"
    }
   ],
   "source": [
    "### various rows of the Jitter:DDPcolumn\n",
    "Parkinson_data['Jitter:DDP'].head()"
   ]
  },
  {
   "cell_type": "code",
   "execution_count": 45,
   "id": "86a2a450",
   "metadata": {},
   "outputs": [
    {
     "data": {
      "text/plain": [
       "0.01958"
      ]
     },
     "execution_count": 45,
     "metadata": {},
     "output_type": "execute_result"
    }
   ],
   "source": [
    "### the highest MDVP:PPQ value\n",
    "Parkinson_data['MDVP:PPQ'].max()"
   ]
  },
  {
   "cell_type": "markdown",
   "id": "601f0a41",
   "metadata": {},
   "source": [
    "0.01958 is the highest recorded value for Jitter:DDP (Average Absolute Difference Of Differences Between Jitter Cycles)"
   ]
  },
  {
   "cell_type": "code",
   "execution_count": 46,
   "id": "e7a64995",
   "metadata": {},
   "outputs": [
    {
     "data": {
      "text/plain": [
       "0.009919948717948712"
      ]
     },
     "execution_count": 46,
     "metadata": {},
     "output_type": "execute_result"
    }
   ],
   "source": [
    "### average Jitter:DDP value\n",
    "Parkinson_data['Jitter:DDP'].mean()"
   ]
  },
  {
   "cell_type": "markdown",
   "id": "4bfcb51f",
   "metadata": {},
   "source": [
    "Most patients recorded 0.009919948717948712(0.01) for Jitter:DDP (Average Absolute Difference Of Differences Between Jitter Cycles)"
   ]
  },
  {
   "cell_type": "code",
   "execution_count": 47,
   "id": "e1fc2f10",
   "metadata": {},
   "outputs": [
    {
     "data": {
      "text/plain": [
       "0.00204"
      ]
     },
     "execution_count": 47,
     "metadata": {},
     "output_type": "execute_result"
    }
   ],
   "source": [
    "### the smallest Jitter:DDP value\n",
    "Parkinson_data['Jitter:DDP'].min()"
   ]
  },
  {
   "cell_type": "markdown",
   "id": "f5f9b364",
   "metadata": {},
   "source": [
    "0.00204 is the lowest value recorded for Jitter:DDP (Average Absolute Difference Of Differences Between Jitter Cycles)"
   ]
  },
  {
   "cell_type": "code",
   "execution_count": 48,
   "id": "3d42e09e",
   "metadata": {},
   "outputs": [
    {
     "data": {
      "image/png": "[encoded data removed]",
      "text/plain": [
       "<Figure size 432x288 with 1 Axes>"
      ]
     },
     "metadata": {
      "needs_background": "light"
     },
     "output_type": "display_data"
    }
   ],
   "source": [
    "### plotting a graph for Jitter:DDP column\n",
    "plt.plot(Parkinson_data['Jitter:DDP'])\n",
    "plt.title('Average Absolute Difference Of Differences Between Jitter Cycles',fontsize=15)\n",
    "plt.xlabel('Number Of People',fontsize=10)\n",
    "plt.ylabel('DDP',fontsize=10)\n",
    "plt.show()"
   ]
  },
  {
   "cell_type": "markdown",
   "id": "5557707e",
   "metadata": {},
   "source": [
    "The values recorded for the absolute average difference between consecutive differeences between periods,divided by the average period were (0.01958) for maximum, (0.01) for the average and (0.00204) for minimum."
   ]
  },
  {
   "cell_type": "markdown",
   "id": "2533df6c",
   "metadata": {},
   "source": [
    "### MDVP:Shimmer (Local Shimmer)"
   ]
  },
  {
   "cell_type": "code",
   "execution_count": 49,
   "id": "2faf39a7",
   "metadata": {},
   "outputs": [
    {
     "data": {
      "text/plain": [
       "0    0.04374\n",
       "1    0.06134\n",
       "2    0.05233\n",
       "3    0.05492\n",
       "4    0.06425\n",
       "Name: MDVP:Shimmer, dtype: float64"
      ]
     },
     "execution_count": 49,
     "metadata": {},
     "output_type": "execute_result"
    }
   ],
   "source": [
    "### various rows of the MDVP:Shimmer column\n",
    "Parkinson_data['MDVP:Shimmer'].head()"
   ]
  },
  {
   "cell_type": "code",
   "execution_count": 50,
   "id": "3200f6ce",
   "metadata": {},
   "outputs": [
    {
     "data": {
      "text/plain": [
       "0.11908"
      ]
     },
     "execution_count": 50,
     "metadata": {},
     "output_type": "execute_result"
    }
   ],
   "source": [
    "### the highest MDVP:Shimmer value\n",
    "Parkinson_data['MDVP:Shimmer'].max()"
   ]
  },
  {
   "cell_type": "markdown",
   "id": "30c651c7",
   "metadata": {},
   "source": [
    "0.11908 is the highest recorded value for MDVP:Shimmer (Local Shimmer)"
   ]
  },
  {
   "cell_type": "code",
   "execution_count": 51,
   "id": "9b531884",
   "metadata": {},
   "outputs": [
    {
     "data": {
      "text/plain": [
       "0.0297091282051282"
      ]
     },
     "execution_count": 51,
     "metadata": {},
     "output_type": "execute_result"
    }
   ],
   "source": [
    "### average MDVP:Shimmer value\n",
    "Parkinson_data['MDVP:Shimmer'].mean()"
   ]
  },
  {
   "cell_type": "markdown",
   "id": "9a512199",
   "metadata": {},
   "source": [
    "Most patients recorded 0.0297091282051282 (0.03) for MDVP:Shimmer (Local Shimmer)"
   ]
  },
  {
   "cell_type": "code",
   "execution_count": 52,
   "id": "088ac332",
   "metadata": {},
   "outputs": [
    {
     "data": {
      "text/plain": [
       "0.00954"
      ]
     },
     "execution_count": 52,
     "metadata": {},
     "output_type": "execute_result"
    }
   ],
   "source": [
    "### the smallest MDVP:Shimmer value\n",
    "Parkinson_data['MDVP:Shimmer'].min()"
   ]
  },
  {
   "cell_type": "markdown",
   "id": "6e697a4f",
   "metadata": {},
   "source": [
    "0.00954 is the lowest value recorded for MDVP:Shimmer (Local Shimmer)"
   ]
  },
  {
   "cell_type": "code",
   "execution_count": 53,
   "id": "7744e00f",
   "metadata": {},
   "outputs": [
    {
     "data": {
      "image/png": "[encoded data removed]",
      "text/plain": [
       "<Figure size 432x288 with 1 Axes>"
      ]
     },
     "metadata": {
      "needs_background": "light"
     },
     "output_type": "display_data"
    }
   ],
   "source": [
    "### plotting a graph for Jitter:DDP column\n",
    "plt.plot(Parkinson_data['Jitter:DDP'])\n",
    "plt.title('Local Shimmer',fontsize=15)\n",
    "plt.xlabel('Number Of People',fontsize=10)\n",
    "plt.ylabel('Shimmer',fontsize=10)\n",
    "plt.show()"
   ]
  },
  {
   "cell_type": "markdown",
   "id": "d242661a",
   "metadata": {},
   "source": [
    "The values recorded for the absolute average difference between the amplitudes of two consecutive periods, divided by the average amplitude were (0.11908) for maximum, (0.03) for the average and (0.00954) for minimum."
   ]
  },
  {
   "cell_type": "markdown",
   "id": "b2d3489f",
   "metadata": {},
   "source": [
    "### MDVP:Shimmer(dB) (Local Shimmer In dB)"
   ]
  },
  {
   "cell_type": "code",
   "execution_count": 54,
   "id": "bedf9800",
   "metadata": {},
   "outputs": [
    {
     "data": {
      "text/plain": [
       "0    0.426\n",
       "1    0.626\n",
       "2    0.482\n",
       "3    0.517\n",
       "4    0.584\n",
       "Name: MDVP:Shimmer(dB), dtype: float64"
      ]
     },
     "execution_count": 54,
     "metadata": {},
     "output_type": "execute_result"
    }
   ],
   "source": [
    "### various rows of the MDVP:Shimmer(dB) column\n",
    "Parkinson_data['MDVP:Shimmer(dB)'].head()"
   ]
  },
  {
   "cell_type": "code",
   "execution_count": 55,
   "id": "6eb25aad",
   "metadata": {},
   "outputs": [
    {
     "data": {
      "text/plain": [
       "1.302"
      ]
     },
     "execution_count": 55,
     "metadata": {},
     "output_type": "execute_result"
    }
   ],
   "source": [
    "### the highest MDVP:Shimmer(dB) value\n",
    "Parkinson_data['MDVP:Shimmer(dB)'].max()"
   ]
  },
  {
   "cell_type": "markdown",
   "id": "d7247570",
   "metadata": {},
   "source": [
    "1.302dB is the highest recorded value for MDVP:Shimmer(dB) (Local Shimmer In dB)"
   ]
  },
  {
   "cell_type": "code",
   "execution_count": 56,
   "id": "de92585d",
   "metadata": {},
   "outputs": [
    {
     "data": {
      "text/plain": [
       "0.2822512820512821"
      ]
     },
     "execution_count": 56,
     "metadata": {},
     "output_type": "execute_result"
    }
   ],
   "source": [
    "### average MDVP:Shimmer(dB) value\n",
    "Parkinson_data['MDVP:Shimmer(dB)'].mean()"
   ]
  },
  {
   "cell_type": "markdown",
   "id": "cf10bdc5",
   "metadata": {},
   "source": [
    "Most patients recorded 0.2822512820512821dB (0.28dB) for MDVP:Shimmer(dB) (Local Shimmer In dB)"
   ]
  },
  {
   "cell_type": "code",
   "execution_count": 57,
   "id": "b71c3de0",
   "metadata": {},
   "outputs": [
    {
     "data": {
      "text/plain": [
       "0.085"
      ]
     },
     "execution_count": 57,
     "metadata": {},
     "output_type": "execute_result"
    }
   ],
   "source": [
    "### the smallest MDVP:Shimmer(dB) value\n",
    "Parkinson_data['MDVP:Shimmer(dB)'].min()"
   ]
  },
  {
   "cell_type": "markdown",
   "id": "ebe1e149",
   "metadata": {},
   "source": [
    "0.085dB is the lowest value recorded for MDVP:Shimmer(dB) (Local Shimmer In dB)"
   ]
  },
  {
   "cell_type": "code",
   "execution_count": 58,
   "id": "398eacb3",
   "metadata": {},
   "outputs": [
    {
     "data": {
      "image/png": "[encoded data removed]",
      "text/plain": [
       "<Figure size 432x288 with 1 Axes>"
      ]
     },
     "metadata": {
      "needs_background": "light"
     },
     "output_type": "display_data"
    }
   ],
   "source": [
    "### plotting a graph for MDVP:Shimmer(dB) column\n",
    "plt.plot(Parkinson_data['MDVP:Shimmer(dB)'])\n",
    "plt.title('Local Shimmer In dB',fontsize=15)\n",
    "plt.xlabel('Number Of People',fontsize=10)\n",
    "plt.ylabel('Shimmer(dB)',fontsize=10)\n",
    "plt.show()"
   ]
  },
  {
   "cell_type": "markdown",
   "id": "23b32eef",
   "metadata": {},
   "source": [
    "The values recorded for the absolute average difference of the base 10 logarithm of the diference between two consecutive  periods were (1.302dB) for maximum, (0.28dB) for the average and (0.085dB) for minimum."
   ]
  },
  {
   "cell_type": "markdown",
   "id": "74753d97",
   "metadata": {},
   "source": [
    "### Shimmer:APQ3 (Three-Amplitude Perturbation Quotient)"
   ]
  },
  {
   "cell_type": "code",
   "execution_count": 59,
   "id": "2b129a20",
   "metadata": {},
   "outputs": [
    {
     "data": {
      "text/plain": [
       "0    0.02182\n",
       "1    0.03134\n",
       "2    0.02757\n",
       "3    0.02924\n",
       "4    0.03490\n",
       "Name: Shimmer:APQ3, dtype: float64"
      ]
     },
     "execution_count": 59,
     "metadata": {},
     "output_type": "execute_result"
    }
   ],
   "source": [
    "### various rows of the Shimmer:APQ3 column\n",
    "Parkinson_data['Shimmer:APQ3'].head()"
   ]
  },
  {
   "cell_type": "code",
   "execution_count": 60,
   "id": "31bec488",
   "metadata": {},
   "outputs": [
    {
     "data": {
      "text/plain": [
       "0.05647"
      ]
     },
     "execution_count": 60,
     "metadata": {},
     "output_type": "execute_result"
    }
   ],
   "source": [
    "### the highest Shimmer:APQ3value\n",
    "Parkinson_data['Shimmer:APQ3'].max()"
   ]
  },
  {
   "cell_type": "markdown",
   "id": "22cab085",
   "metadata": {},
   "source": [
    "0.05647 is the highest recorded value for Shimmer:APQ3 (Three-Point Period Perturbation Quotient)"
   ]
  },
  {
   "cell_type": "code",
   "execution_count": 61,
   "id": "ebea453f",
   "metadata": {},
   "outputs": [
    {
     "data": {
      "text/plain": [
       "0.015664153846153845"
      ]
     },
     "execution_count": 61,
     "metadata": {},
     "output_type": "execute_result"
    }
   ],
   "source": [
    "### average Shimmer:APQ3 value\n",
    "Parkinson_data['Shimmer:APQ3'].mean()"
   ]
  },
  {
   "cell_type": "markdown",
   "id": "c74e9178",
   "metadata": {},
   "source": [
    "Most patients recorded 0.015664153846153845(0.016) for Shimmer:APQ3 (Three-Point Period Perturbation Quotient)"
   ]
  },
  {
   "cell_type": "code",
   "execution_count": 62,
   "id": "f600c869",
   "metadata": {},
   "outputs": [
    {
     "data": {
      "text/plain": [
       "0.00455"
      ]
     },
     "execution_count": 62,
     "metadata": {},
     "output_type": "execute_result"
    }
   ],
   "source": [
    "### the smallest Shimmer:APQ3 value\n",
    "Parkinson_data['Shimmer:APQ3'].min()"
   ]
  },
  {
   "cell_type": "markdown",
   "id": "af1345d0",
   "metadata": {},
   "source": [
    "0.00455 is the lowest value recorded for Shimmer:APQ3 (Three-Point Period Perturbation Quotient)"
   ]
  },
  {
   "cell_type": "code",
   "execution_count": 63,
   "id": "0467e40b",
   "metadata": {},
   "outputs": [
    {
     "data": {
      "image/png": "[encoded data removed]",
      "text/plain": [
       "<Figure size 432x288 with 1 Axes>"
      ]
     },
     "metadata": {
      "needs_background": "light"
     },
     "output_type": "display_data"
    }
   ],
   "source": [
    "### plotting a graph for Shimmer:APQ3 column\n",
    "plt.plot(Parkinson_data['Jitter:DDP'])\n",
    "plt.title('Three-Point Amplitude Perturbation Quotient',fontsize=15)\n",
    "plt.xlabel('Number Of People',fontsize=10)\n",
    "plt.ylabel('Shimmer:APQ3',fontsize=10)\n",
    "plt.show()"
   ]
  },
  {
   "cell_type": "markdown",
   "id": "a8c2c544",
   "metadata": {},
   "source": [
    "The values recorded for the absolute average difference between the amplitude of a period and the average of the amplitudes of its neighbours , divided by the average amplitude were  (0.05647) for maximum, (0.016) for the average and (0.00455) for minimum."
   ]
  },
  {
   "cell_type": "markdown",
   "id": "dee96fa8",
   "metadata": {},
   "source": [
    "### Shimmer:APQ5 (Shimmer:APQ3 (Five-Point Amplitude Perturbation Quotient))"
   ]
  },
  {
   "cell_type": "code",
   "execution_count": 64,
   "id": "2e1d5410",
   "metadata": {},
   "outputs": [
    {
     "data": {
      "text/plain": [
       "0    0.03130\n",
       "1    0.04518\n",
       "2    0.03858\n",
       "3    0.04005\n",
       "4    0.04825\n",
       "Name: Shimmer:APQ5, dtype: float64"
      ]
     },
     "execution_count": 64,
     "metadata": {},
     "output_type": "execute_result"
    }
   ],
   "source": [
    "### various rows of the Shimmer:APQ5 column\n",
    "Parkinson_data['Shimmer:APQ5'].head()"
   ]
  },
  {
   "cell_type": "code",
   "execution_count": 65,
   "id": "d1222272",
   "metadata": {},
   "outputs": [
    {
     "data": {
      "text/plain": [
       "0.0794"
      ]
     },
     "execution_count": 65,
     "metadata": {},
     "output_type": "execute_result"
    }
   ],
   "source": [
    "### the highest Shimmer:APQ5 value\n",
    "Parkinson_data['Shimmer:APQ5'].max()"
   ]
  },
  {
   "cell_type": "markdown",
   "id": "cdede44a",
   "metadata": {},
   "source": [
    "0.0794 is the highest recorded value for Shimmer:APQ5 (Shimmer:APQ3 (Five-Point Amplitude Perturbation Quotient))"
   ]
  },
  {
   "cell_type": "code",
   "execution_count": 66,
   "id": "a354fdbd",
   "metadata": {},
   "outputs": [
    {
     "data": {
      "text/plain": [
       "0.017878256410256418"
      ]
     },
     "execution_count": 66,
     "metadata": {},
     "output_type": "execute_result"
    }
   ],
   "source": [
    "### average Shimmer:APQ5 value\n",
    "Parkinson_data['Shimmer:APQ5'].mean()"
   ]
  },
  {
   "cell_type": "markdown",
   "id": "473fbda2",
   "metadata": {},
   "source": [
    "Most patients recorded 0.017878256410256418 (0.0179) for Shimmer:APQ5 (Shimmer:APQ3 (Five-Point Amplitude Perturbation Quotient))"
   ]
  },
  {
   "cell_type": "code",
   "execution_count": 67,
   "id": "4b803b73",
   "metadata": {},
   "outputs": [
    {
     "data": {
      "text/plain": [
       "0.0057"
      ]
     },
     "execution_count": 67,
     "metadata": {},
     "output_type": "execute_result"
    }
   ],
   "source": [
    "### the smallest Shimmer:APQ5 value\n",
    "Parkinson_data['Shimmer:APQ5'].min()"
   ]
  },
  {
   "cell_type": "markdown",
   "id": "b8e23e25",
   "metadata": {},
   "source": [
    "0.0057 is the lowest value recorded for Shimmer:APQ5 (Shimmer:APQ3 (Five-Point Amplitude Perturbation Quotient))"
   ]
  },
  {
   "cell_type": "code",
   "execution_count": 68,
   "id": "35eedfe2",
   "metadata": {},
   "outputs": [
    {
     "data": {
      "image/png": "[encoded data removed]",
      "text/plain": [
       "<Figure size 432x288 with 1 Axes>"
      ]
     },
     "metadata": {
      "needs_background": "light"
     },
     "output_type": "display_data"
    }
   ],
   "source": [
    "### plotting a graph for Shimmer:APQ5 column\n",
    "plt.plot(Parkinson_data['Shimmer:APQ5'])\n",
    "plt.title('Five-Point Amplitude Perturbation Quotient',fontsize=15)\n",
    "plt.xlabel('Number Of People',fontsize=10)\n",
    "plt.ylabel('Shimmer:APQ5',fontsize=10)\n",
    "plt.show()"
   ]
  },
  {
   "cell_type": "markdown",
   "id": "74fb3083",
   "metadata": {},
   "source": [
    "The values recorded for the average absolute difference between the amplitude of a period and the average of the amplitudes of its fourclosest neighbours, divided by the average amplitude were (0.05647) for maximum, (0.016) for the average and (0.00455) for minimum."
   ]
  },
  {
   "cell_type": "markdown",
   "id": "3f5e100f",
   "metadata": {},
   "source": [
    "### MDVP:APQ ( 11-Point Amplitude Perturbation Quotient)"
   ]
  },
  {
   "cell_type": "code",
   "execution_count": 69,
   "id": "8e86e740",
   "metadata": {},
   "outputs": [
    {
     "data": {
      "text/plain": [
       "0    0.02971\n",
       "1    0.04368\n",
       "2    0.03590\n",
       "3    0.03772\n",
       "4    0.04465\n",
       "Name: MDVP:APQ, dtype: float64"
      ]
     },
     "execution_count": 69,
     "metadata": {},
     "output_type": "execute_result"
    }
   ],
   "source": [
    "### various rows of the MDVP:APQ column\n",
    "Parkinson_data['MDVP:APQ'].head()"
   ]
  },
  {
   "cell_type": "code",
   "execution_count": 70,
   "id": "58fcc4e5",
   "metadata": {},
   "outputs": [
    {
     "data": {
      "text/plain": [
       "0.13778"
      ]
     },
     "execution_count": 70,
     "metadata": {},
     "output_type": "execute_result"
    }
   ],
   "source": [
    "### the highest MDVP:APQ value\n",
    "Parkinson_data['MDVP:APQ'].max()"
   ]
  },
  {
   "cell_type": "markdown",
   "id": "092e236e",
   "metadata": {},
   "source": [
    "0.13778 is the highest recorded value for MDVP:APQ (11-Point Amplitude Perturbation Quotient)"
   ]
  },
  {
   "cell_type": "code",
   "execution_count": 71,
   "id": "da498f01",
   "metadata": {},
   "outputs": [
    {
     "data": {
      "text/plain": [
       "0.02408148717948718"
      ]
     },
     "execution_count": 71,
     "metadata": {},
     "output_type": "execute_result"
    }
   ],
   "source": [
    "### average MDVP:APQ value\n",
    "Parkinson_data['MDVP:APQ'].mean()"
   ]
  },
  {
   "cell_type": "markdown",
   "id": "75cf260c",
   "metadata": {},
   "source": [
    "Most patients recorded 0.02408148717948718 (0.024) for MDVP:APQ (11-Point Amplitude Perturbation Quotient)"
   ]
  },
  {
   "cell_type": "code",
   "execution_count": 72,
   "id": "e09ce374",
   "metadata": {},
   "outputs": [
    {
     "data": {
      "text/plain": [
       "0.00719"
      ]
     },
     "execution_count": 72,
     "metadata": {},
     "output_type": "execute_result"
    }
   ],
   "source": [
    "### the smallest MDVP:APQ value\n",
    "Parkinson_data['MDVP:APQ'].min()"
   ]
  },
  {
   "cell_type": "markdown",
   "id": "d462527b",
   "metadata": {},
   "source": [
    "0.00719 is the lowest value recorded for MDVP:APQ (11-Point Amplitude Perturbation Quotient)"
   ]
  },
  {
   "cell_type": "code",
   "execution_count": 73,
   "id": "4a93ad30",
   "metadata": {},
   "outputs": [
    {
     "data": {
      "image/png": "[encoded data removed]",
      "text/plain": [
       "<Figure size 432x288 with 1 Axes>"
      ]
     },
     "metadata": {
      "needs_background": "light"
     },
     "output_type": "display_data"
    }
   ],
   "source": [
    "### plotting a graph for MDVP:APQ column\n",
    "plt.plot(Parkinson_data['MDVP:APQ'])\n",
    "plt.title('11-Point Amplitude Perturbation Quotient',fontsize=15)\n",
    "plt.xlabel('Number Of People',fontsize=10)\n",
    "plt.ylabel('MDVP:APQ',fontsize=10)\n",
    "plt.show()"
   ]
  },
  {
   "cell_type": "markdown",
   "id": "cf779d6e",
   "metadata": {},
   "source": [
    "The values recorded for the average absolute difference between the amplitude of a period and the average of the amplitudes of its ten closest neighbours, divided by the average amplitude were (0.13778) for maximum, (0.00719) for the average and (0.00455) for minimum."
   ]
  },
  {
   "cell_type": "markdown",
   "id": "d18d3a67",
   "metadata": {},
   "source": [
    "### Shimmer:DDA (Average Absolute Differences Between The Amplitude Of Consecutive Periods)"
   ]
  },
  {
   "cell_type": "code",
   "execution_count": 74,
   "id": "dac352e9",
   "metadata": {},
   "outputs": [
    {
     "data": {
      "text/plain": [
       "0    0.06545\n",
       "1    0.09403\n",
       "2    0.08270\n",
       "3    0.08771\n",
       "4    0.10470\n",
       "Name: Shimmer:DDA, dtype: float64"
      ]
     },
     "execution_count": 74,
     "metadata": {},
     "output_type": "execute_result"
    }
   ],
   "source": [
    "### various rows of the Shimmer:DDA column\n",
    "Parkinson_data['Shimmer:DDA'].head()"
   ]
  },
  {
   "cell_type": "code",
   "execution_count": 75,
   "id": "2d7d4597",
   "metadata": {},
   "outputs": [
    {
     "data": {
      "text/plain": [
       "0.16942"
      ]
     },
     "execution_count": 75,
     "metadata": {},
     "output_type": "execute_result"
    }
   ],
   "source": [
    "### the highest Shimmer:DDA value\n",
    "Parkinson_data['Shimmer:DDA'].max()"
   ]
  },
  {
   "cell_type": "markdown",
   "id": "6d6f637f",
   "metadata": {},
   "source": [
    "0.16942 is the highest recorded value for Shimmer:DDA (Average Absolute Differences Between The Amplitude Of Consecutive Periods)"
   ]
  },
  {
   "cell_type": "code",
   "execution_count": 76,
   "id": "6325ef3b",
   "metadata": {},
   "outputs": [
    {
     "data": {
      "text/plain": [
       "0.04699261538461537"
      ]
     },
     "execution_count": 76,
     "metadata": {},
     "output_type": "execute_result"
    }
   ],
   "source": [
    "### average Shimmer:DDA value\n",
    "Parkinson_data['Shimmer:DDA'].mean()"
   ]
  },
  {
   "cell_type": "markdown",
   "id": "74b019b6",
   "metadata": {},
   "source": [
    "Most patients recorded 0.04699261538461537 (0.047) for Shimmer:DDA (Average Absolute Differences Between The Amplitude Of Consecutive Periods)"
   ]
  },
  {
   "cell_type": "code",
   "execution_count": 77,
   "id": "1f8276d6",
   "metadata": {},
   "outputs": [
    {
     "data": {
      "text/plain": [
       "0.01364"
      ]
     },
     "execution_count": 77,
     "metadata": {},
     "output_type": "execute_result"
    }
   ],
   "source": [
    "### the smallest Shimmer:DDAvalue\n",
    "Parkinson_data['Shimmer:DDA'].min()"
   ]
  },
  {
   "cell_type": "markdown",
   "id": "c42d8563",
   "metadata": {},
   "source": [
    "0.01364 is the lowest value recorded for Shimmer:DDA (Average Absolute Differences Between The Amplitude Of Consecutive Periods)"
   ]
  },
  {
   "cell_type": "code",
   "execution_count": 78,
   "id": "2facf92d",
   "metadata": {},
   "outputs": [
    {
     "data": {
      "image/png": "[encoded data removed]",
      "text/plain": [
       "<Figure size 432x288 with 1 Axes>"
      ]
     },
     "metadata": {
      "needs_background": "light"
     },
     "output_type": "display_data"
    }
   ],
   "source": [
    "### plotting a graph for Shimmer:DDA column\n",
    "plt.plot(Parkinson_data['Shimmer:DDA'])\n",
    "plt.title('Average Absolute Differences Between The Amplitude Of Consecutive Periods',fontsize=15)\n",
    "plt.xlabel('Number Of People',fontsize=10)\n",
    "plt.ylabel('Shimmer:DDA',fontsize=10)\n",
    "plt.show()"
   ]
  },
  {
   "cell_type": "markdown",
   "id": "543154ee",
   "metadata": {},
   "source": [
    "The values recorded for the average absolute differences between the amplitude of consecutive periods were (0.16942) for maximum, (0.047)) for the average and (0.01364) for minimum."
   ]
  },
  {
   "cell_type": "markdown",
   "id": "74d260b1",
   "metadata": {},
   "source": [
    "### NHR (Noise-To-Harmonics Ratio)"
   ]
  },
  {
   "cell_type": "code",
   "execution_count": 79,
   "id": "445f76b5",
   "metadata": {},
   "outputs": [
    {
     "data": {
      "text/plain": [
       "0    0.02211\n",
       "1    0.01929\n",
       "2    0.01309\n",
       "3    0.01353\n",
       "4    0.01767\n",
       "Name: NHR, dtype: float64"
      ]
     },
     "execution_count": 79,
     "metadata": {},
     "output_type": "execute_result"
    }
   ],
   "source": [
    "### various rows of the NHR column\n",
    "Parkinson_data['NHR'].head()"
   ]
  },
  {
   "cell_type": "code",
   "execution_count": 80,
   "id": "85d6794d",
   "metadata": {},
   "outputs": [
    {
     "data": {
      "text/plain": [
       "0.31482"
      ]
     },
     "execution_count": 80,
     "metadata": {},
     "output_type": "execute_result"
    }
   ],
   "source": [
    "### the highest NHR value\n",
    "Parkinson_data['NHR'].max()"
   ]
  },
  {
   "cell_type": "markdown",
   "id": "fb6d0b9b",
   "metadata": {},
   "source": [
    "0.31482 is the highest recorded value for NHR (Noise-To-Harmonics Ratio)"
   ]
  },
  {
   "cell_type": "code",
   "execution_count": 81,
   "id": "5d331f4a",
   "metadata": {},
   "outputs": [
    {
     "data": {
      "text/plain": [
       "0.024847076923076923"
      ]
     },
     "execution_count": 81,
     "metadata": {},
     "output_type": "execute_result"
    }
   ],
   "source": [
    "### average NHR value\n",
    "Parkinson_data['NHR'].mean()"
   ]
  },
  {
   "cell_type": "markdown",
   "id": "b7162f6e",
   "metadata": {},
   "source": [
    "Most patients recorded 0.024847076923076923 (0.025) for NHR (Noise-To-Harmonics Ratio) "
   ]
  },
  {
   "cell_type": "code",
   "execution_count": 82,
   "id": "75312ecd",
   "metadata": {},
   "outputs": [
    {
     "data": {
      "text/plain": [
       "0.00065"
      ]
     },
     "execution_count": 82,
     "metadata": {},
     "output_type": "execute_result"
    }
   ],
   "source": [
    "### the smallest NHR value\n",
    "Parkinson_data['NHR'].min()"
   ]
  },
  {
   "cell_type": "markdown",
   "id": "b2ccc796",
   "metadata": {},
   "source": [
    "0.00065 is the lowest value recorded for NHR (Noise-To-Harmonics Ratio)"
   ]
  },
  {
   "cell_type": "code",
   "execution_count": 83,
   "id": "abe70558",
   "metadata": {},
   "outputs": [
    {
     "data": {
      "image/png": "[encoded data removed]",
      "text/plain": [
       "<Figure size 432x288 with 1 Axes>"
      ]
     },
     "metadata": {
      "needs_background": "light"
     },
     "output_type": "display_data"
    }
   ],
   "source": [
    "### plotting a graph for NHR column\n",
    "plt.plot(Parkinson_data['NHR'])\n",
    "plt.title('Noise-To-Harmonics Ratio ',fontsize=15)\n",
    "plt.xlabel('Number Of People',fontsize=10)\n",
    "plt.ylabel('NHR ',fontsize=10)\n",
    "plt.show()"
   ]
  },
  {
   "cell_type": "markdown",
   "id": "7f4aca1a",
   "metadata": {},
   "source": [
    "The values recorded for the measure of ratio between periodic and non-periodic components of a speech sounds were (0.31482) for maximum, (0.025) for the average and (0.00065) for minimum."
   ]
  },
  {
   "cell_type": "markdown",
   "id": "8f902ff6",
   "metadata": {},
   "source": [
    "###  HNR (Harmonics-To-Noise Ratio)"
   ]
  },
  {
   "cell_type": "code",
   "execution_count": 84,
   "id": "65a4f20b",
   "metadata": {},
   "outputs": [
    {
     "data": {
      "text/plain": [
       "0    21.033\n",
       "1    19.085\n",
       "2    20.651\n",
       "3    20.644\n",
       "4    19.649\n",
       "Name: HNR, dtype: float64"
      ]
     },
     "execution_count": 84,
     "metadata": {},
     "output_type": "execute_result"
    }
   ],
   "source": [
    "### various rows of the HNR column\n",
    "Parkinson_data['HNR'].head()"
   ]
  },
  {
   "cell_type": "code",
   "execution_count": 85,
   "id": "09e3867e",
   "metadata": {},
   "outputs": [
    {
     "data": {
      "text/plain": [
       "33.047"
      ]
     },
     "execution_count": 85,
     "metadata": {},
     "output_type": "execute_result"
    }
   ],
   "source": [
    "### the highest HNR value\n",
    "Parkinson_data['HNR'].max()"
   ]
  },
  {
   "cell_type": "markdown",
   "id": "b866fb19",
   "metadata": {},
   "source": [
    "33.047 is the highest recorded value for HNR (Harmonics-To-Noise Ratio)"
   ]
  },
  {
   "cell_type": "code",
   "execution_count": 86,
   "id": "ba77c4e6",
   "metadata": {},
   "outputs": [
    {
     "data": {
      "text/plain": [
       "21.885974358974366"
      ]
     },
     "execution_count": 86,
     "metadata": {},
     "output_type": "execute_result"
    }
   ],
   "source": [
    "### average HNR value\n",
    "Parkinson_data['HNR'].mean()"
   ]
  },
  {
   "cell_type": "markdown",
   "id": "090112ea",
   "metadata": {},
   "source": [
    "Most patients recorded 21.885974358974366 (21.89) for HNR (Harmonics-To-Noise Ratio)"
   ]
  },
  {
   "cell_type": "code",
   "execution_count": 87,
   "id": "ea5190f9",
   "metadata": {},
   "outputs": [
    {
     "data": {
      "text/plain": [
       "8.441"
      ]
     },
     "execution_count": 87,
     "metadata": {},
     "output_type": "execute_result"
    }
   ],
   "source": [
    "### the smallest HNR value\n",
    "Parkinson_data['HNR'].min()"
   ]
  },
  {
   "cell_type": "markdown",
   "id": "55d5f606",
   "metadata": {},
   "source": [
    "8.441 is the lowest value recorded for HNR (Harmonics-To-Noise Ratio)"
   ]
  },
  {
   "cell_type": "code",
   "execution_count": 88,
   "id": "3e5c7aee",
   "metadata": {},
   "outputs": [
    {
     "data": {
      "image/png": "[encoded data removed]",
      "text/plain": [
       "<Figure size 432x288 with 1 Axes>"
      ]
     },
     "metadata": {
      "needs_background": "light"
     },
     "output_type": "display_data"
    }
   ],
   "source": [
    "### plotting a graph for HNR column\n",
    "plt.plot(Parkinson_data['HNR'])\n",
    "plt.title('Harmonics-To-Noise Ratio',fontsize=15)\n",
    "plt.xlabel('Number Of Patients',fontsize=10)\n",
    "plt.ylabel('HNR',fontsize=10)\n",
    "plt.show()"
   ]
  },
  {
   "cell_type": "markdown",
   "id": "71fc5cf9",
   "metadata": {},
   "source": [
    "The values recorded for the measure 0f  ratio between periodic and non-periodic components of a speech sounds were (33.047) for maximum, (21.89) for the average and (8.441) for minimum."
   ]
  },
  {
   "cell_type": "markdown",
   "id": "da5b905f",
   "metadata": {},
   "source": [
    "### status"
   ]
  },
  {
   "cell_type": "code",
   "execution_count": 89,
   "id": "685ab0e4",
   "metadata": {},
   "outputs": [
    {
     "data": {
      "text/plain": [
       "0    1\n",
       "1    1\n",
       "2    1\n",
       "3    1\n",
       "4    1\n",
       "Name: status, dtype: int64"
      ]
     },
     "execution_count": 89,
     "metadata": {},
     "output_type": "execute_result"
    }
   ],
   "source": [
    "### various rows of the status column\n",
    "Parkinson_data['status'].head()"
   ]
  },
  {
   "cell_type": "code",
   "execution_count": 90,
   "id": "82a69c9d",
   "metadata": {},
   "outputs": [
    {
     "data": {
      "text/plain": [
       "1    147\n",
       "0     48\n",
       "Name: status, dtype: int64"
      ]
     },
     "execution_count": 90,
     "metadata": {},
     "output_type": "execute_result"
    }
   ],
   "source": [
    "### various rows of the status column\n",
    "Parkinson_data['status'].value_counts()"
   ]
  },
  {
   "cell_type": "code",
   "execution_count": 91,
   "id": "dadbd55e",
   "metadata": {},
   "outputs": [
    {
     "data": {
      "image/png": "[encoded data removed]",
      "text/plain": [
       "<Figure size 432x288 with 1 Axes>"
      ]
     },
     "metadata": {
      "needs_background": "light"
     },
     "output_type": "display_data"
    }
   ],
   "source": [
    "### plotting a graph for Shimmer:DDA column\n",
    "plt.hist(Parkinson_data['status'])\n",
    "plt.title('status Of People',fontsize=15)\n",
    "plt.xlabel('status',fontsize=10)\n",
    "plt.ylabel('Number Of People',fontsize=10)\n",
    "plt.show()"
   ]
  },
  {
   "cell_type": "markdown",
   "id": "84bc6d6b",
   "metadata": {},
   "source": [
    "Most of the people in the datasets are have Parkinson disease"
   ]
  },
  {
   "cell_type": "markdown",
   "id": "3f0fafcd",
   "metadata": {},
   "source": [
    "### RPDE (Recurrence Period Density Entropy Measure)"
   ]
  },
  {
   "cell_type": "code",
   "execution_count": 92,
   "id": "4bd62905",
   "metadata": {},
   "outputs": [
    {
     "data": {
      "text/plain": [
       "0    0.414783\n",
       "1    0.458359\n",
       "2    0.429895\n",
       "3    0.434969\n",
       "4    0.417356\n",
       "Name: RPDE, dtype: float64"
      ]
     },
     "execution_count": 92,
     "metadata": {},
     "output_type": "execute_result"
    }
   ],
   "source": [
    "### various rows of the RPDE column\n",
    "Parkinson_data['RPDE'].head()"
   ]
  },
  {
   "cell_type": "code",
   "execution_count": 93,
   "id": "f9a2a488",
   "metadata": {},
   "outputs": [
    {
     "data": {
      "text/plain": [
       "0.685151"
      ]
     },
     "execution_count": 93,
     "metadata": {},
     "output_type": "execute_result"
    }
   ],
   "source": [
    "### the highest RPDE value\n",
    "Parkinson_data['RPDE'].max()"
   ]
  },
  {
   "cell_type": "markdown",
   "id": "a991e6f5",
   "metadata": {},
   "source": [
    "0.685151 is the highest recorded value for RPDE (Recurrence Period Density Entropy Measure)"
   ]
  },
  {
   "cell_type": "code",
   "execution_count": 94,
   "id": "f9c38e39",
   "metadata": {},
   "outputs": [
    {
     "data": {
      "text/plain": [
       "0.49853553846153836"
      ]
     },
     "execution_count": 94,
     "metadata": {},
     "output_type": "execute_result"
    }
   ],
   "source": [
    "### average RPDE  value\n",
    "Parkinson_data['RPDE'].mean()"
   ]
  },
  {
   "cell_type": "markdown",
   "id": "e43fcf25",
   "metadata": {},
   "source": [
    "Most patients recorded 0.49853553846153836 (0.5) for RPDE (Recurrence Period Density Entropy Measure)"
   ]
  },
  {
   "cell_type": "code",
   "execution_count": 95,
   "id": "5f2b3272",
   "metadata": {},
   "outputs": [
    {
     "data": {
      "text/plain": [
       "0.25657"
      ]
     },
     "execution_count": 95,
     "metadata": {},
     "output_type": "execute_result"
    }
   ],
   "source": [
    "### the smallest RPDE value\n",
    "Parkinson_data['RPDE'].min()"
   ]
  },
  {
   "cell_type": "markdown",
   "id": "cb1d6952",
   "metadata": {},
   "source": [
    " is the lowest value recorded for RPDE (Recurrence Period Density Entropy Measure)"
   ]
  },
  {
   "cell_type": "code",
   "execution_count": 96,
   "id": "ba29f54c",
   "metadata": {
    "scrolled": true
   },
   "outputs": [
    {
     "data": {
      "image/png": "[encoded data removed]",
      "text/plain": [
       "<Figure size 432x288 with 1 Axes>"
      ]
     },
     "metadata": {
      "needs_background": "light"
     },
     "output_type": "display_data"
    }
   ],
   "source": [
    "### plotting a graph for RPDE column\n",
    "plt.plot(Parkinson_data['RPDE'])\n",
    "plt.title('Recurrence Period Density Entropy Measure',fontsize=15)\n",
    "plt.xlabel('Number Of People',fontsize=10)\n",
    "plt.ylabel('RPDE',fontsize=10)\n",
    "plt.show()"
   ]
  },
  {
   "cell_type": "markdown",
   "id": "b695b4a9",
   "metadata": {},
   "source": [
    "The values recorded for the repetitiveness of signlas for the dataset were (0.685151 ) for maximum, (0.5) for the average and (0.25657) for minimum."
   ]
  },
  {
   "cell_type": "markdown",
   "id": "2c33f030",
   "metadata": {},
   "source": [
    "### DFA (Signal Fractal Scaling Exponent Of Detrended Fluctuation Analysis)"
   ]
  },
  {
   "cell_type": "code",
   "execution_count": 97,
   "id": "ac03a8b7",
   "metadata": {},
   "outputs": [
    {
     "data": {
      "text/plain": [
       "0    0.815285\n",
       "1    0.819521\n",
       "2    0.825288\n",
       "3    0.819235\n",
       "4    0.823484\n",
       "Name: DFA, dtype: float64"
      ]
     },
     "execution_count": 97,
     "metadata": {},
     "output_type": "execute_result"
    }
   ],
   "source": [
    "### various rows of the DFA column\n",
    "Parkinson_data['DFA'].head()"
   ]
  },
  {
   "cell_type": "code",
   "execution_count": 98,
   "id": "dfbd3cd5",
   "metadata": {},
   "outputs": [
    {
     "data": {
      "text/plain": [
       "0.825288"
      ]
     },
     "execution_count": 98,
     "metadata": {},
     "output_type": "execute_result"
    }
   ],
   "source": [
    "### the highest DFA value\n",
    "Parkinson_data['DFA'].max()"
   ]
  },
  {
   "cell_type": "markdown",
   "id": "86f3144f",
   "metadata": {},
   "source": [
    "0.825288 is the highest recorded value for DFA (Signal Fractal Scaling Exponent Of Detrended Fluctuation Analysis)"
   ]
  },
  {
   "cell_type": "code",
   "execution_count": 99,
   "id": "f1c99372",
   "metadata": {},
   "outputs": [
    {
     "data": {
      "text/plain": [
       "0.7180990461538465"
      ]
     },
     "execution_count": 99,
     "metadata": {},
     "output_type": "execute_result"
    }
   ],
   "source": [
    "### average DFA value\n",
    "Parkinson_data['DFA'].mean()"
   ]
  },
  {
   "cell_type": "markdown",
   "id": "794c2b54",
   "metadata": {},
   "source": [
    "Most patients recorded 0.7180990461538465 (0.72) for DFA (Signal Fractal Scaling Exponent Of Detrended Fluctuation Analysis)"
   ]
  },
  {
   "cell_type": "code",
   "execution_count": 100,
   "id": "f9988c34",
   "metadata": {},
   "outputs": [
    {
     "data": {
      "text/plain": [
       "0.574282"
      ]
     },
     "execution_count": 100,
     "metadata": {},
     "output_type": "execute_result"
    }
   ],
   "source": [
    "### the smallest DFA value\n",
    "Parkinson_data['DFA'].min()"
   ]
  },
  {
   "cell_type": "markdown",
   "id": "2aa709f0",
   "metadata": {},
   "source": [
    "0.574282 is the lowest value recorded for DFA (Signal Fractal Scaling Exponent Of Detrended Fluctuation Analysis)"
   ]
  },
  {
   "cell_type": "code",
   "execution_count": 101,
   "id": "59346def",
   "metadata": {},
   "outputs": [
    {
     "data": {
      "image/png": "[encoded data removed]",
      "text/plain": [
       "<Figure size 432x288 with 1 Axes>"
      ]
     },
     "metadata": {
      "needs_background": "light"
     },
     "output_type": "display_data"
    }
   ],
   "source": [
    "### plotting a graph for DFA column\n",
    "plt.plot(Parkinson_data['DFA'])\n",
    "plt.title(' Detrended Fluctuation Analysis',fontsize=15)\n",
    "plt.xlabel('Number Of People',fontsize=10)\n",
    "plt.ylabel('DFA',fontsize=10)\n",
    "plt.show()"
   ]
  },
  {
   "cell_type": "markdown",
   "id": "1c86cf1b",
   "metadata": {},
   "source": [
    "The values recorded for the method used to investigate long range correlation in non stationary series were (0.825288) for maximum, (0.72) for the average and (0.574282) for minimum."
   ]
  },
  {
   "cell_type": "markdown",
   "id": "66327b45",
   "metadata": {},
   "source": [
    "### spread1 (Two Nonlinear Methods Of Fundamental)"
   ]
  },
  {
   "cell_type": "code",
   "execution_count": 102,
   "id": "582fb80b",
   "metadata": {},
   "outputs": [
    {
     "data": {
      "text/plain": [
       "0   -4.813031\n",
       "1   -4.075192\n",
       "2   -4.443179\n",
       "3   -4.117501\n",
       "4   -3.747787\n",
       "Name: spread1, dtype: float64"
      ]
     },
     "execution_count": 102,
     "metadata": {},
     "output_type": "execute_result"
    }
   ],
   "source": [
    "### various rows of the spread1 column\n",
    "Parkinson_data['spread1'].head()"
   ]
  },
  {
   "cell_type": "code",
   "execution_count": 103,
   "id": "ae7bc806",
   "metadata": {},
   "outputs": [
    {
     "data": {
      "text/plain": [
       "-2.434031"
      ]
     },
     "execution_count": 103,
     "metadata": {},
     "output_type": "execute_result"
    }
   ],
   "source": [
    "### the highest spread1 value\n",
    "Parkinson_data['spread1'].max()"
   ]
  },
  {
   "cell_type": "markdown",
   "id": "77a70a9b",
   "metadata": {},
   "source": [
    "-2.434031 is the highest recorded value for spread1 (Two Nonlinear Methods Of Fundamental)"
   ]
  },
  {
   "cell_type": "code",
   "execution_count": 104,
   "id": "764f85b5",
   "metadata": {},
   "outputs": [
    {
     "data": {
      "text/plain": [
       "-5.684396743589743"
      ]
     },
     "execution_count": 104,
     "metadata": {},
     "output_type": "execute_result"
    }
   ],
   "source": [
    "### average spread1 value\n",
    "Parkinson_data['spread1'].mean()"
   ]
  },
  {
   "cell_type": "markdown",
   "id": "f6711ac0",
   "metadata": {},
   "source": [
    "Most patients recorded -5.684396743589743 (-5.7) for spread1 (Two Nonlinear Methods Of Fundamental)"
   ]
  },
  {
   "cell_type": "code",
   "execution_count": 105,
   "id": "19e6f4a3",
   "metadata": {},
   "outputs": [
    {
     "data": {
      "text/plain": [
       "-7.964984"
      ]
     },
     "execution_count": 105,
     "metadata": {},
     "output_type": "execute_result"
    }
   ],
   "source": [
    "### the smallest spread1 value\n",
    "Parkinson_data['spread1'].min()"
   ]
  },
  {
   "cell_type": "markdown",
   "id": "43c28a1c",
   "metadata": {},
   "source": [
    "-7.964984 is the lowest value recorded for spread1 (Two Nonlinear Methods Of Fundamental)"
   ]
  },
  {
   "cell_type": "code",
   "execution_count": 168,
   "id": "98c3b011",
   "metadata": {},
   "outputs": [
    {
     "name": "stdout",
     "output_type": "stream",
     "text": [
      "plotting a graph for spread1 column\n"
     ]
    },
    {
     "data": {
      "image/png": "[encoded data removed]",
      "text/plain": [
       "<Figure size 432x288 with 1 Axes>"
      ]
     },
     "metadata": {
      "needs_background": "light"
     },
     "output_type": "display_data"
    }
   ],
   "source": [
    "### plotting a graph for spread1 column\n",
    "plt.plot(Parkinson_data['spread1'])\n",
    "plt.title('Two Nonlinear Methods Of Fundamental',fontsize=15)\n",
    "plt.xlabel('Number Of People',fontsize=10)\n",
    "plt.ylabel('spread1',fontsize=10)\n",
    "plt.show()"
   ]
  },
  {
   "cell_type": "markdown",
   "id": "692f129b",
   "metadata": {},
   "source": [
    "The values recorded for two nonlinear methods of fundamentals were (-2.434031) for maximum, (-5.7 for the average and (-7.964984) for minimum."
   ]
  },
  {
   "cell_type": "markdown",
   "id": "f4a899b7",
   "metadata": {},
   "source": [
    "### spread2 (Frequency variation)"
   ]
  },
  {
   "cell_type": "code",
   "execution_count": 107,
   "id": "c04ccc78",
   "metadata": {},
   "outputs": [
    {
     "data": {
      "text/plain": [
       "0    0.266482\n",
       "1    0.335590\n",
       "2    0.311173\n",
       "3    0.334147\n",
       "4    0.234513\n",
       "Name: spread2, dtype: float64"
      ]
     },
     "execution_count": 107,
     "metadata": {},
     "output_type": "execute_result"
    }
   ],
   "source": [
    "### various rows of the spread2 column\n",
    "Parkinson_data['spread2'].head()"
   ]
  },
  {
   "cell_type": "code",
   "execution_count": 108,
   "id": "417c51c8",
   "metadata": {},
   "outputs": [
    {
     "data": {
      "text/plain": [
       "0.450493"
      ]
     },
     "execution_count": 108,
     "metadata": {},
     "output_type": "execute_result"
    }
   ],
   "source": [
    "### the highest spread2 value\n",
    "Parkinson_data['spread2'].max()"
   ]
  },
  {
   "cell_type": "markdown",
   "id": "0b3ebe36",
   "metadata": {},
   "source": [
    "0.450493 is the highest recorded value for spread2 (Frequency variation)"
   ]
  },
  {
   "cell_type": "code",
   "execution_count": 109,
   "id": "026401ed",
   "metadata": {},
   "outputs": [
    {
     "data": {
      "text/plain": [
       "0.22651034871794856"
      ]
     },
     "execution_count": 109,
     "metadata": {},
     "output_type": "execute_result"
    }
   ],
   "source": [
    "### average spread2 value\n",
    "Parkinson_data['spread2'].mean()"
   ]
  },
  {
   "cell_type": "markdown",
   "id": "2381f8bd",
   "metadata": {},
   "source": [
    "Most patients recorded 0.22651034871794856 (0.23) for spread2 (Frequency variation)"
   ]
  },
  {
   "cell_type": "code",
   "execution_count": 110,
   "id": "a51540a3",
   "metadata": {},
   "outputs": [
    {
     "data": {
      "text/plain": [
       "0.006274"
      ]
     },
     "execution_count": 110,
     "metadata": {},
     "output_type": "execute_result"
    }
   ],
   "source": [
    "### the smallest spread2 value\n",
    "Parkinson_data['spread2'].min()"
   ]
  },
  {
   "cell_type": "markdown",
   "id": "bb643ebb",
   "metadata": {},
   "source": [
    "0.006274 is the lowest value recorded for spread2 (Frequency variation)"
   ]
  },
  {
   "cell_type": "code",
   "execution_count": 167,
   "id": "b279f01a",
   "metadata": {},
   "outputs": [
    {
     "name": "stdout",
     "output_type": "stream",
     "text": [
      " plotting a graph for spread2 column\n"
     ]
    },
    {
     "data": {
      "image/png": "[encoded data removed]",
      "text/plain": [
       "<Figure size 432x288 with 1 Axes>"
      ]
     },
     "metadata": {
      "needs_background": "light"
     },
     "output_type": "display_data"
    }
   ],
   "source": [
    "### plotting a graph for spread2 column\n",
    "plt.plot(Parkinson_data['spread2'])\n",
    "plt.title('Frequency variation',fontsize=15)\n",
    "plt.xlabel('Number Of People',fontsize=10)\n",
    "plt.ylabel('spread2',fontsize=10)\n",
    "plt.show()"
   ]
  },
  {
   "cell_type": "markdown",
   "id": "fe79d6c9",
   "metadata": {},
   "source": [
    "The values recorded for frequency variation were (0.450493) for maximum, (0.23) for the average and (0.006274) for minimum."
   ]
  },
  {
   "cell_type": "markdown",
   "id": "a23e69ba",
   "metadata": {},
   "source": [
    "### D2 (Correlation Dimension)"
   ]
  },
  {
   "cell_type": "code",
   "execution_count": 112,
   "id": "ed223a39",
   "metadata": {},
   "outputs": [
    {
     "data": {
      "text/plain": [
       "0    2.301442\n",
       "1    2.486855\n",
       "2    2.342259\n",
       "3    2.405554\n",
       "4    2.332180\n",
       "Name: D2, dtype: float64"
      ]
     },
     "execution_count": 112,
     "metadata": {},
     "output_type": "execute_result"
    }
   ],
   "source": [
    "### various rows of the D2 column\n",
    "Parkinson_data['D2'].head()"
   ]
  },
  {
   "cell_type": "code",
   "execution_count": 113,
   "id": "52e4061b",
   "metadata": {},
   "outputs": [
    {
     "data": {
      "text/plain": [
       "3.671155"
      ]
     },
     "execution_count": 113,
     "metadata": {},
     "output_type": "execute_result"
    }
   ],
   "source": [
    "### the highest D2 value\n",
    "Parkinson_data['D2'].max()"
   ]
  },
  {
   "cell_type": "markdown",
   "id": "10547eba",
   "metadata": {},
   "source": [
    "3.671155 is the highest recorded value for D2 (Correlation Dimension)"
   ]
  },
  {
   "cell_type": "code",
   "execution_count": 114,
   "id": "bfaab551",
   "metadata": {},
   "outputs": [
    {
     "data": {
      "text/plain": [
       "2.3818260871794874"
      ]
     },
     "execution_count": 114,
     "metadata": {},
     "output_type": "execute_result"
    }
   ],
   "source": [
    "### average D2 value\n",
    "Parkinson_data['D2'].mean()"
   ]
  },
  {
   "cell_type": "markdown",
   "id": "9c00d219",
   "metadata": {},
   "source": [
    "Most patients recorded 2.3818260871794874 (2.38) for D2 (Correlation Dimension)"
   ]
  },
  {
   "cell_type": "code",
   "execution_count": 115,
   "id": "eef6fc28",
   "metadata": {},
   "outputs": [
    {
     "data": {
      "text/plain": [
       "1.423287"
      ]
     },
     "execution_count": 115,
     "metadata": {},
     "output_type": "execute_result"
    }
   ],
   "source": [
    "### the smallest D2 value\n",
    "Parkinson_data['D2'].min()"
   ]
  },
  {
   "cell_type": "markdown",
   "id": "260fbae6",
   "metadata": {},
   "source": [
    "1.423287 is the lowest value recorded for D2 (Correlation Dimension)"
   ]
  },
  {
   "cell_type": "code",
   "execution_count": 116,
   "id": "16c54cc7",
   "metadata": {},
   "outputs": [
    {
     "data": {
      "image/png": "[encoded data removed]",
      "text/plain": [
       "<Figure size 432x288 with 1 Axes>"
      ]
     },
     "metadata": {
      "needs_background": "light"
     },
     "output_type": "display_data"
    }
   ],
   "source": [
    "### plotting a graph for D2 column\n",
    "plt.plot(Parkinson_data['D2'])\n",
    "plt.title('Correlation Dimension',fontsize=15)\n",
    "plt.xlabel('Number Of People',fontsize=10)\n",
    "plt.ylabel('D2',fontsize=10)\n",
    "plt.show()"
   ]
  },
  {
   "cell_type": "markdown",
   "id": "d20a215c",
   "metadata": {},
   "source": [
    "The values recorded for correlation dimension were (3.671155) for maximum, (2.38) for the average and (1.423287) for minimum."
   ]
  },
  {
   "cell_type": "markdown",
   "id": "f5eabe2e",
   "metadata": {},
   "source": [
    "###  PPE (Pitch Period Entropy)"
   ]
  },
  {
   "cell_type": "code",
   "execution_count": 117,
   "id": "c3052e2b",
   "metadata": {},
   "outputs": [
    {
     "data": {
      "text/plain": [
       "0    0.284654\n",
       "1    0.368674\n",
       "2    0.332634\n",
       "3    0.368975\n",
       "4    0.410335\n",
       "Name: PPE, dtype: float64"
      ]
     },
     "execution_count": 117,
     "metadata": {},
     "output_type": "execute_result"
    }
   ],
   "source": [
    "### various rows of the PPE column\n",
    "Parkinson_data['PPE'].head()"
   ]
  },
  {
   "cell_type": "code",
   "execution_count": 118,
   "id": "2fbe60fa",
   "metadata": {},
   "outputs": [
    {
     "data": {
      "text/plain": [
       "0.527367"
      ]
     },
     "execution_count": 118,
     "metadata": {},
     "output_type": "execute_result"
    }
   ],
   "source": [
    "### the highest PPE value\n",
    "Parkinson_data['PPE'].max()"
   ]
  },
  {
   "cell_type": "markdown",
   "id": "f2ce2669",
   "metadata": {},
   "source": [
    "0.527367 is the highest recorded value for PPE (Pitch Period Entropy)"
   ]
  },
  {
   "cell_type": "code",
   "execution_count": 119,
   "id": "56acd351",
   "metadata": {},
   "outputs": [
    {
     "data": {
      "text/plain": [
       "0.20655164102564105"
      ]
     },
     "execution_count": 119,
     "metadata": {},
     "output_type": "execute_result"
    }
   ],
   "source": [
    "### average PPE value\n",
    "Parkinson_data['PPE'].mean()"
   ]
  },
  {
   "cell_type": "markdown",
   "id": "deaf75e7",
   "metadata": {},
   "source": [
    "Most patients recorded 0.20655164102564105 (0.21) for PPE (Pitch Period Entropy)"
   ]
  },
  {
   "cell_type": "code",
   "execution_count": 120,
   "id": "9243fbab",
   "metadata": {},
   "outputs": [
    {
     "data": {
      "text/plain": [
       "0.044539"
      ]
     },
     "execution_count": 120,
     "metadata": {},
     "output_type": "execute_result"
    }
   ],
   "source": [
    "### the smallest PPE value\n",
    "Parkinson_data['PPE'].min()"
   ]
  },
  {
   "cell_type": "markdown",
   "id": "85e7a9f6",
   "metadata": {},
   "source": [
    "0.044539 is the lowest value recorded for PPE (Pitch Period Entropy)"
   ]
  },
  {
   "cell_type": "code",
   "execution_count": 121,
   "id": "70950e37",
   "metadata": {},
   "outputs": [
    {
     "data": {
      "image/png": "[encoded data removed]",
      "text/plain": [
       "<Figure size 432x288 with 1 Axes>"
      ]
     },
     "metadata": {
      "needs_background": "light"
     },
     "output_type": "display_data"
    }
   ],
   "source": [
    "### plotting a graph for PPE column\n",
    "plt.plot(Parkinson_data['PPE'])\n",
    "plt.title(' Pitch Period Entropy' ,fontsize=15)\n",
    "plt.xlabel('Number Of People',fontsize=10)\n",
    "plt.ylabel('PPE',fontsize=10)\n",
    "plt.show()"
   ]
  },
  {
   "cell_type": "markdown",
   "id": "786871ce",
   "metadata": {},
   "source": [
    "The values recorded for the robust measure sensitive to observed changes in speech specific to PD(Parkinson Disease) were (0.527367) for maximum, (0.21) for the average and (0.044539) for minimum."
   ]
  },
  {
   "cell_type": "markdown",
   "id": "1116214e",
   "metadata": {},
   "source": [
    "## MULTIVARIATE ANALYSIS"
   ]
  },
  {
   "cell_type": "code",
   "execution_count": 122,
   "id": "651bcc93",
   "metadata": {},
   "outputs": [
    {
     "data": {
      "text/html": [
       "<div>\n",
       "<style scoped>\n",
       "    .dataframe tbody tr th:only-of-type {\n",
       "        vertical-align: middle;\n",
       "    }\n",
       "\n",
       "    .dataframe tbody tr th {\n",
       "        vertical-align: top;\n",
       "    }\n",
       "\n",
       "    .dataframe thead th {\n",
       "        text-align: right;\n",
       "    }\n",
       "</style>\n",
       "<table border=\"1\" class=\"dataframe\">\n",
       "  <thead>\n",
       "    <tr style=\"text-align: right;\">\n",
       "      <th></th>\n",
       "      <th>MDVP:Fo(Hz)</th>\n",
       "      <th>MDVP:Fhi(Hz)</th>\n",
       "      <th>MDVP:Flo(Hz)</th>\n",
       "      <th>MDVP:Jitter(%)</th>\n",
       "      <th>MDVP:Jitter(Abs)</th>\n",
       "      <th>MDVP:RAP</th>\n",
       "      <th>MDVP:PPQ</th>\n",
       "      <th>Jitter:DDP</th>\n",
       "      <th>MDVP:Shimmer</th>\n",
       "      <th>MDVP:Shimmer(dB)</th>\n",
       "      <th>...</th>\n",
       "      <th>Shimmer:DDA</th>\n",
       "      <th>NHR</th>\n",
       "      <th>HNR</th>\n",
       "      <th>status</th>\n",
       "      <th>RPDE</th>\n",
       "      <th>DFA</th>\n",
       "      <th>spread1</th>\n",
       "      <th>spread2</th>\n",
       "      <th>D2</th>\n",
       "      <th>PPE</th>\n",
       "    </tr>\n",
       "  </thead>\n",
       "  <tbody>\n",
       "    <tr>\n",
       "      <th>MDVP:Fo(Hz)</th>\n",
       "      <td>1.000000</td>\n",
       "      <td>0.400985</td>\n",
       "      <td>0.596546</td>\n",
       "      <td>-0.118003</td>\n",
       "      <td>-0.382027</td>\n",
       "      <td>-0.076194</td>\n",
       "      <td>-0.112165</td>\n",
       "      <td>-0.076213</td>\n",
       "      <td>-0.098374</td>\n",
       "      <td>-0.073742</td>\n",
       "      <td>...</td>\n",
       "      <td>-0.094732</td>\n",
       "      <td>-0.021981</td>\n",
       "      <td>0.059144</td>\n",
       "      <td>-0.383535</td>\n",
       "      <td>-0.383894</td>\n",
       "      <td>-0.446013</td>\n",
       "      <td>-0.413738</td>\n",
       "      <td>-0.249450</td>\n",
       "      <td>0.177980</td>\n",
       "      <td>-0.372356</td>\n",
       "    </tr>\n",
       "    <tr>\n",
       "      <th>MDVP:Fhi(Hz)</th>\n",
       "      <td>0.400985</td>\n",
       "      <td>1.000000</td>\n",
       "      <td>0.084951</td>\n",
       "      <td>0.102086</td>\n",
       "      <td>-0.029198</td>\n",
       "      <td>0.097177</td>\n",
       "      <td>0.091126</td>\n",
       "      <td>0.097150</td>\n",
       "      <td>0.002281</td>\n",
       "      <td>0.043465</td>\n",
       "      <td>...</td>\n",
       "      <td>-0.003733</td>\n",
       "      <td>0.163766</td>\n",
       "      <td>-0.024893</td>\n",
       "      <td>-0.166136</td>\n",
       "      <td>-0.112404</td>\n",
       "      <td>-0.343097</td>\n",
       "      <td>-0.076658</td>\n",
       "      <td>-0.002954</td>\n",
       "      <td>0.176323</td>\n",
       "      <td>-0.069543</td>\n",
       "    </tr>\n",
       "    <tr>\n",
       "      <th>MDVP:Flo(Hz)</th>\n",
       "      <td>0.596546</td>\n",
       "      <td>0.084951</td>\n",
       "      <td>1.000000</td>\n",
       "      <td>-0.139919</td>\n",
       "      <td>-0.277815</td>\n",
       "      <td>-0.100519</td>\n",
       "      <td>-0.095828</td>\n",
       "      <td>-0.100488</td>\n",
       "      <td>-0.144543</td>\n",
       "      <td>-0.119089</td>\n",
       "      <td>...</td>\n",
       "      <td>-0.150737</td>\n",
       "      <td>-0.108670</td>\n",
       "      <td>0.210851</td>\n",
       "      <td>-0.380200</td>\n",
       "      <td>-0.400143</td>\n",
       "      <td>-0.050406</td>\n",
       "      <td>-0.394857</td>\n",
       "      <td>-0.243829</td>\n",
       "      <td>-0.100629</td>\n",
       "      <td>-0.340071</td>\n",
       "    </tr>\n",
       "    <tr>\n",
       "      <th>MDVP:Jitter(%)</th>\n",
       "      <td>-0.118003</td>\n",
       "      <td>0.102086</td>\n",
       "      <td>-0.139919</td>\n",
       "      <td>1.000000</td>\n",
       "      <td>0.935714</td>\n",
       "      <td>0.990276</td>\n",
       "      <td>0.974256</td>\n",
       "      <td>0.990276</td>\n",
       "      <td>0.769063</td>\n",
       "      <td>0.804289</td>\n",
       "      <td>...</td>\n",
       "      <td>0.746635</td>\n",
       "      <td>0.906959</td>\n",
       "      <td>-0.728165</td>\n",
       "      <td>0.278220</td>\n",
       "      <td>0.360673</td>\n",
       "      <td>0.098572</td>\n",
       "      <td>0.693577</td>\n",
       "      <td>0.385123</td>\n",
       "      <td>0.433434</td>\n",
       "      <td>0.721543</td>\n",
       "    </tr>\n",
       "    <tr>\n",
       "      <th>MDVP:Jitter(Abs)</th>\n",
       "      <td>-0.382027</td>\n",
       "      <td>-0.029198</td>\n",
       "      <td>-0.277815</td>\n",
       "      <td>0.935714</td>\n",
       "      <td>1.000000</td>\n",
       "      <td>0.922911</td>\n",
       "      <td>0.897778</td>\n",
       "      <td>0.922913</td>\n",
       "      <td>0.703322</td>\n",
       "      <td>0.716601</td>\n",
       "      <td>...</td>\n",
       "      <td>0.697170</td>\n",
       "      <td>0.834972</td>\n",
       "      <td>-0.656810</td>\n",
       "      <td>0.338653</td>\n",
       "      <td>0.441839</td>\n",
       "      <td>0.175036</td>\n",
       "      <td>0.735779</td>\n",
       "      <td>0.388543</td>\n",
       "      <td>0.310694</td>\n",
       "      <td>0.748162</td>\n",
       "    </tr>\n",
       "    <tr>\n",
       "      <th>MDVP:RAP</th>\n",
       "      <td>-0.076194</td>\n",
       "      <td>0.097177</td>\n",
       "      <td>-0.100519</td>\n",
       "      <td>0.990276</td>\n",
       "      <td>0.922911</td>\n",
       "      <td>1.000000</td>\n",
       "      <td>0.957317</td>\n",
       "      <td>1.000000</td>\n",
       "      <td>0.759581</td>\n",
       "      <td>0.790652</td>\n",
       "      <td>...</td>\n",
       "      <td>0.744919</td>\n",
       "      <td>0.919521</td>\n",
       "      <td>-0.721543</td>\n",
       "      <td>0.266668</td>\n",
       "      <td>0.342140</td>\n",
       "      <td>0.064083</td>\n",
       "      <td>0.648328</td>\n",
       "      <td>0.324407</td>\n",
       "      <td>0.426605</td>\n",
       "      <td>0.670999</td>\n",
       "    </tr>\n",
       "    <tr>\n",
       "      <th>MDVP:PPQ</th>\n",
       "      <td>-0.112165</td>\n",
       "      <td>0.091126</td>\n",
       "      <td>-0.095828</td>\n",
       "      <td>0.974256</td>\n",
       "      <td>0.897778</td>\n",
       "      <td>0.957317</td>\n",
       "      <td>1.000000</td>\n",
       "      <td>0.957319</td>\n",
       "      <td>0.797826</td>\n",
       "      <td>0.839239</td>\n",
       "      <td>...</td>\n",
       "      <td>0.763592</td>\n",
       "      <td>0.844604</td>\n",
       "      <td>-0.731510</td>\n",
       "      <td>0.288698</td>\n",
       "      <td>0.333274</td>\n",
       "      <td>0.196301</td>\n",
       "      <td>0.716489</td>\n",
       "      <td>0.407605</td>\n",
       "      <td>0.412524</td>\n",
       "      <td>0.769647</td>\n",
       "    </tr>\n",
       "    <tr>\n",
       "      <th>Jitter:DDP</th>\n",
       "      <td>-0.076213</td>\n",
       "      <td>0.097150</td>\n",
       "      <td>-0.100488</td>\n",
       "      <td>0.990276</td>\n",
       "      <td>0.922913</td>\n",
       "      <td>1.000000</td>\n",
       "      <td>0.957319</td>\n",
       "      <td>1.000000</td>\n",
       "      <td>0.759555</td>\n",
       "      <td>0.790621</td>\n",
       "      <td>...</td>\n",
       "      <td>0.744901</td>\n",
       "      <td>0.919548</td>\n",
       "      <td>-0.721494</td>\n",
       "      <td>0.266646</td>\n",
       "      <td>0.342079</td>\n",
       "      <td>0.064026</td>\n",
       "      <td>0.648328</td>\n",
       "      <td>0.324377</td>\n",
       "      <td>0.426556</td>\n",
       "      <td>0.671005</td>\n",
       "    </tr>\n",
       "    <tr>\n",
       "      <th>MDVP:Shimmer</th>\n",
       "      <td>-0.098374</td>\n",
       "      <td>0.002281</td>\n",
       "      <td>-0.144543</td>\n",
       "      <td>0.769063</td>\n",
       "      <td>0.703322</td>\n",
       "      <td>0.759581</td>\n",
       "      <td>0.797826</td>\n",
       "      <td>0.759555</td>\n",
       "      <td>1.000000</td>\n",
       "      <td>0.987258</td>\n",
       "      <td>...</td>\n",
       "      <td>0.987626</td>\n",
       "      <td>0.722194</td>\n",
       "      <td>-0.835271</td>\n",
       "      <td>0.367430</td>\n",
       "      <td>0.447424</td>\n",
       "      <td>0.159954</td>\n",
       "      <td>0.654734</td>\n",
       "      <td>0.452025</td>\n",
       "      <td>0.507088</td>\n",
       "      <td>0.693771</td>\n",
       "    </tr>\n",
       "    <tr>\n",
       "      <th>MDVP:Shimmer(dB)</th>\n",
       "      <td>-0.073742</td>\n",
       "      <td>0.043465</td>\n",
       "      <td>-0.119089</td>\n",
       "      <td>0.804289</td>\n",
       "      <td>0.716601</td>\n",
       "      <td>0.790652</td>\n",
       "      <td>0.839239</td>\n",
       "      <td>0.790621</td>\n",
       "      <td>0.987258</td>\n",
       "      <td>1.000000</td>\n",
       "      <td>...</td>\n",
       "      <td>0.963202</td>\n",
       "      <td>0.744477</td>\n",
       "      <td>-0.827805</td>\n",
       "      <td>0.350697</td>\n",
       "      <td>0.410684</td>\n",
       "      <td>0.165157</td>\n",
       "      <td>0.652547</td>\n",
       "      <td>0.454314</td>\n",
       "      <td>0.512233</td>\n",
       "      <td>0.695058</td>\n",
       "    </tr>\n",
       "    <tr>\n",
       "      <th>Shimmer:APQ3</th>\n",
       "      <td>-0.094717</td>\n",
       "      <td>-0.003743</td>\n",
       "      <td>-0.150747</td>\n",
       "      <td>0.746625</td>\n",
       "      <td>0.697153</td>\n",
       "      <td>0.744912</td>\n",
       "      <td>0.763580</td>\n",
       "      <td>0.744894</td>\n",
       "      <td>0.987625</td>\n",
       "      <td>0.963198</td>\n",
       "      <td>...</td>\n",
       "      <td>1.000000</td>\n",
       "      <td>0.716207</td>\n",
       "      <td>-0.827123</td>\n",
       "      <td>0.347617</td>\n",
       "      <td>0.435242</td>\n",
       "      <td>0.151124</td>\n",
       "      <td>0.610967</td>\n",
       "      <td>0.402243</td>\n",
       "      <td>0.467265</td>\n",
       "      <td>0.645377</td>\n",
       "    </tr>\n",
       "    <tr>\n",
       "      <th>Shimmer:APQ5</th>\n",
       "      <td>-0.070682</td>\n",
       "      <td>-0.009997</td>\n",
       "      <td>-0.101095</td>\n",
       "      <td>0.725561</td>\n",
       "      <td>0.648961</td>\n",
       "      <td>0.709927</td>\n",
       "      <td>0.786780</td>\n",
       "      <td>0.709907</td>\n",
       "      <td>0.982835</td>\n",
       "      <td>0.973751</td>\n",
       "      <td>...</td>\n",
       "      <td>0.960072</td>\n",
       "      <td>0.658080</td>\n",
       "      <td>-0.813753</td>\n",
       "      <td>0.351148</td>\n",
       "      <td>0.399903</td>\n",
       "      <td>0.213873</td>\n",
       "      <td>0.646809</td>\n",
       "      <td>0.457195</td>\n",
       "      <td>0.502174</td>\n",
       "      <td>0.702456</td>\n",
       "    </tr>\n",
       "    <tr>\n",
       "      <th>MDVP:APQ</th>\n",
       "      <td>-0.077774</td>\n",
       "      <td>0.004937</td>\n",
       "      <td>-0.107293</td>\n",
       "      <td>0.758255</td>\n",
       "      <td>0.648793</td>\n",
       "      <td>0.737455</td>\n",
       "      <td>0.804139</td>\n",
       "      <td>0.737439</td>\n",
       "      <td>0.950083</td>\n",
       "      <td>0.960977</td>\n",
       "      <td>...</td>\n",
       "      <td>0.896647</td>\n",
       "      <td>0.694019</td>\n",
       "      <td>-0.800407</td>\n",
       "      <td>0.364316</td>\n",
       "      <td>0.451379</td>\n",
       "      <td>0.157276</td>\n",
       "      <td>0.673158</td>\n",
       "      <td>0.502188</td>\n",
       "      <td>0.536869</td>\n",
       "      <td>0.721694</td>\n",
       "    </tr>\n",
       "    <tr>\n",
       "      <th>Shimmer:DDA</th>\n",
       "      <td>-0.094732</td>\n",
       "      <td>-0.003733</td>\n",
       "      <td>-0.150737</td>\n",
       "      <td>0.746635</td>\n",
       "      <td>0.697170</td>\n",
       "      <td>0.744919</td>\n",
       "      <td>0.763592</td>\n",
       "      <td>0.744901</td>\n",
       "      <td>0.987626</td>\n",
       "      <td>0.963202</td>\n",
       "      <td>...</td>\n",
       "      <td>1.000000</td>\n",
       "      <td>0.716215</td>\n",
       "      <td>-0.827130</td>\n",
       "      <td>0.347608</td>\n",
       "      <td>0.435237</td>\n",
       "      <td>0.151132</td>\n",
       "      <td>0.610971</td>\n",
       "      <td>0.402223</td>\n",
       "      <td>0.467261</td>\n",
       "      <td>0.645389</td>\n",
       "    </tr>\n",
       "    <tr>\n",
       "      <th>NHR</th>\n",
       "      <td>-0.021981</td>\n",
       "      <td>0.163766</td>\n",
       "      <td>-0.108670</td>\n",
       "      <td>0.906959</td>\n",
       "      <td>0.834972</td>\n",
       "      <td>0.919521</td>\n",
       "      <td>0.844604</td>\n",
       "      <td>0.919548</td>\n",
       "      <td>0.722194</td>\n",
       "      <td>0.744477</td>\n",
       "      <td>...</td>\n",
       "      <td>0.716215</td>\n",
       "      <td>1.000000</td>\n",
       "      <td>-0.714072</td>\n",
       "      <td>0.189429</td>\n",
       "      <td>0.370890</td>\n",
       "      <td>-0.131882</td>\n",
       "      <td>0.540865</td>\n",
       "      <td>0.318099</td>\n",
       "      <td>0.470949</td>\n",
       "      <td>0.552591</td>\n",
       "    </tr>\n",
       "    <tr>\n",
       "      <th>HNR</th>\n",
       "      <td>0.059144</td>\n",
       "      <td>-0.024893</td>\n",
       "      <td>0.210851</td>\n",
       "      <td>-0.728165</td>\n",
       "      <td>-0.656810</td>\n",
       "      <td>-0.721543</td>\n",
       "      <td>-0.731510</td>\n",
       "      <td>-0.721494</td>\n",
       "      <td>-0.835271</td>\n",
       "      <td>-0.827805</td>\n",
       "      <td>...</td>\n",
       "      <td>-0.827130</td>\n",
       "      <td>-0.714072</td>\n",
       "      <td>1.000000</td>\n",
       "      <td>-0.361515</td>\n",
       "      <td>-0.598736</td>\n",
       "      <td>-0.008665</td>\n",
       "      <td>-0.673210</td>\n",
       "      <td>-0.431564</td>\n",
       "      <td>-0.601401</td>\n",
       "      <td>-0.692876</td>\n",
       "    </tr>\n",
       "    <tr>\n",
       "      <th>status</th>\n",
       "      <td>-0.383535</td>\n",
       "      <td>-0.166136</td>\n",
       "      <td>-0.380200</td>\n",
       "      <td>0.278220</td>\n",
       "      <td>0.338653</td>\n",
       "      <td>0.266668</td>\n",
       "      <td>0.288698</td>\n",
       "      <td>0.266646</td>\n",
       "      <td>0.367430</td>\n",
       "      <td>0.350697</td>\n",
       "      <td>...</td>\n",
       "      <td>0.347608</td>\n",
       "      <td>0.189429</td>\n",
       "      <td>-0.361515</td>\n",
       "      <td>1.000000</td>\n",
       "      <td>0.308567</td>\n",
       "      <td>0.231739</td>\n",
       "      <td>0.564838</td>\n",
       "      <td>0.454842</td>\n",
       "      <td>0.340232</td>\n",
       "      <td>0.531039</td>\n",
       "    </tr>\n",
       "    <tr>\n",
       "      <th>RPDE</th>\n",
       "      <td>-0.383894</td>\n",
       "      <td>-0.112404</td>\n",
       "      <td>-0.400143</td>\n",
       "      <td>0.360673</td>\n",
       "      <td>0.441839</td>\n",
       "      <td>0.342140</td>\n",
       "      <td>0.333274</td>\n",
       "      <td>0.342079</td>\n",
       "      <td>0.447424</td>\n",
       "      <td>0.410684</td>\n",
       "      <td>...</td>\n",
       "      <td>0.435237</td>\n",
       "      <td>0.370890</td>\n",
       "      <td>-0.598736</td>\n",
       "      <td>0.308567</td>\n",
       "      <td>1.000000</td>\n",
       "      <td>-0.110950</td>\n",
       "      <td>0.591117</td>\n",
       "      <td>0.479905</td>\n",
       "      <td>0.236931</td>\n",
       "      <td>0.545886</td>\n",
       "    </tr>\n",
       "    <tr>\n",
       "      <th>DFA</th>\n",
       "      <td>-0.446013</td>\n",
       "      <td>-0.343097</td>\n",
       "      <td>-0.050406</td>\n",
       "      <td>0.098572</td>\n",
       "      <td>0.175036</td>\n",
       "      <td>0.064083</td>\n",
       "      <td>0.196301</td>\n",
       "      <td>0.064026</td>\n",
       "      <td>0.159954</td>\n",
       "      <td>0.165157</td>\n",
       "      <td>...</td>\n",
       "      <td>0.151132</td>\n",
       "      <td>-0.131882</td>\n",
       "      <td>-0.008665</td>\n",
       "      <td>0.231739</td>\n",
       "      <td>-0.110950</td>\n",
       "      <td>1.000000</td>\n",
       "      <td>0.195668</td>\n",
       "      <td>0.166548</td>\n",
       "      <td>-0.165381</td>\n",
       "      <td>0.270445</td>\n",
       "    </tr>\n",
       "    <tr>\n",
       "      <th>spread1</th>\n",
       "      <td>-0.413738</td>\n",
       "      <td>-0.076658</td>\n",
       "      <td>-0.394857</td>\n",
       "      <td>0.693577</td>\n",
       "      <td>0.735779</td>\n",
       "      <td>0.648328</td>\n",
       "      <td>0.716489</td>\n",
       "      <td>0.648328</td>\n",
       "      <td>0.654734</td>\n",
       "      <td>0.652547</td>\n",
       "      <td>...</td>\n",
       "      <td>0.610971</td>\n",
       "      <td>0.540865</td>\n",
       "      <td>-0.673210</td>\n",
       "      <td>0.564838</td>\n",
       "      <td>0.591117</td>\n",
       "      <td>0.195668</td>\n",
       "      <td>1.000000</td>\n",
       "      <td>0.652358</td>\n",
       "      <td>0.495123</td>\n",
       "      <td>0.962435</td>\n",
       "    </tr>\n",
       "    <tr>\n",
       "      <th>spread2</th>\n",
       "      <td>-0.249450</td>\n",
       "      <td>-0.002954</td>\n",
       "      <td>-0.243829</td>\n",
       "      <td>0.385123</td>\n",
       "      <td>0.388543</td>\n",
       "      <td>0.324407</td>\n",
       "      <td>0.407605</td>\n",
       "      <td>0.324377</td>\n",
       "      <td>0.452025</td>\n",
       "      <td>0.454314</td>\n",
       "      <td>...</td>\n",
       "      <td>0.402223</td>\n",
       "      <td>0.318099</td>\n",
       "      <td>-0.431564</td>\n",
       "      <td>0.454842</td>\n",
       "      <td>0.479905</td>\n",
       "      <td>0.166548</td>\n",
       "      <td>0.652358</td>\n",
       "      <td>1.000000</td>\n",
       "      <td>0.523532</td>\n",
       "      <td>0.644711</td>\n",
       "    </tr>\n",
       "    <tr>\n",
       "      <th>D2</th>\n",
       "      <td>0.177980</td>\n",
       "      <td>0.176323</td>\n",
       "      <td>-0.100629</td>\n",
       "      <td>0.433434</td>\n",
       "      <td>0.310694</td>\n",
       "      <td>0.426605</td>\n",
       "      <td>0.412524</td>\n",
       "      <td>0.426556</td>\n",
       "      <td>0.507088</td>\n",
       "      <td>0.512233</td>\n",
       "      <td>...</td>\n",
       "      <td>0.467261</td>\n",
       "      <td>0.470949</td>\n",
       "      <td>-0.601401</td>\n",
       "      <td>0.340232</td>\n",
       "      <td>0.236931</td>\n",
       "      <td>-0.165381</td>\n",
       "      <td>0.495123</td>\n",
       "      <td>0.523532</td>\n",
       "      <td>1.000000</td>\n",
       "      <td>0.480585</td>\n",
       "    </tr>\n",
       "    <tr>\n",
       "      <th>PPE</th>\n",
       "      <td>-0.372356</td>\n",
       "      <td>-0.069543</td>\n",
       "      <td>-0.340071</td>\n",
       "      <td>0.721543</td>\n",
       "      <td>0.748162</td>\n",
       "      <td>0.670999</td>\n",
       "      <td>0.769647</td>\n",
       "      <td>0.671005</td>\n",
       "      <td>0.693771</td>\n",
       "      <td>0.695058</td>\n",
       "      <td>...</td>\n",
       "      <td>0.645389</td>\n",
       "      <td>0.552591</td>\n",
       "      <td>-0.692876</td>\n",
       "      <td>0.531039</td>\n",
       "      <td>0.545886</td>\n",
       "      <td>0.270445</td>\n",
       "      <td>0.962435</td>\n",
       "      <td>0.644711</td>\n",
       "      <td>0.480585</td>\n",
       "      <td>1.000000</td>\n",
       "    </tr>\n",
       "  </tbody>\n",
       "</table>\n",
       "<p>23 rows × 23 columns</p>\n",
       "</div>"
      ],
      "text/plain": [
       "                  MDVP:Fo(Hz)  MDVP:Fhi(Hz)  MDVP:Flo(Hz)  MDVP:Jitter(%)  \\\n",
       "MDVP:Fo(Hz)          1.000000      0.400985      0.596546       -0.118003   \n",
       "MDVP:Fhi(Hz)         0.400985      1.000000      0.084951        0.102086   \n",
       "MDVP:Flo(Hz)         0.596546      0.084951      1.000000       -0.139919   \n",
       "MDVP:Jitter(%)      -0.118003      0.102086     -0.139919        1.000000   \n",
       "MDVP:Jitter(Abs)    -0.382027     -0.029198     -0.277815        0.935714   \n",
       "MDVP:RAP            -0.076194      0.097177     -0.100519        0.990276   \n",
       "MDVP:PPQ            -0.112165      0.091126     -0.095828        0.974256   \n",
       "Jitter:DDP          -0.076213      0.097150     -0.100488        0.990276   \n",
       "MDVP:Shimmer        -0.098374      0.002281     -0.144543        0.769063   \n",
       "MDVP:Shimmer(dB)    -0.073742      0.043465     -0.119089        0.804289   \n",
       "Shimmer:APQ3        -0.094717     -0.003743     -0.150747        0.746625   \n",
       "Shimmer:APQ5        -0.070682     -0.009997     -0.101095        0.725561   \n",
       "MDVP:APQ            -0.077774      0.004937     -0.107293        0.758255   \n",
       "Shimmer:DDA         -0.094732     -0.003733     -0.150737        0.746635   \n",
       "NHR                 -0.021981      0.163766     -0.108670        0.906959   \n",
       "HNR                  0.059144     -0.024893      0.210851       -0.728165   \n",
       "status              -0.383535     -0.166136     -0.380200        0.278220   \n",
       "RPDE                -0.383894     -0.112404     -0.400143        0.360673   \n",
       "DFA                 -0.446013     -0.343097     -0.050406        0.098572   \n",
       "spread1             -0.413738     -0.076658     -0.394857        0.693577   \n",
       "spread2             -0.249450     -0.002954     -0.243829        0.385123   \n",
       "D2                   0.177980      0.176323     -0.100629        0.433434   \n",
       "PPE                 -0.372356     -0.069543     -0.340071        0.721543   \n",
       "\n",
       "                  MDVP:Jitter(Abs)  MDVP:RAP  MDVP:PPQ  Jitter:DDP  \\\n",
       "MDVP:Fo(Hz)              -0.382027 -0.076194 -0.112165   -0.076213   \n",
       "MDVP:Fhi(Hz)             -0.029198  0.097177  0.091126    0.097150   \n",
       "MDVP:Flo(Hz)             -0.277815 -0.100519 -0.095828   -0.100488   \n",
       "MDVP:Jitter(%)            0.935714  0.990276  0.974256    0.990276   \n",
       "MDVP:Jitter(Abs)          1.000000  0.922911  0.897778    0.922913   \n",
       "MDVP:RAP                  0.922911  1.000000  0.957317    1.000000   \n",
       "MDVP:PPQ                  0.897778  0.957317  1.000000    0.957319   \n",
       "Jitter:DDP                0.922913  1.000000  0.957319    1.000000   \n",
       "MDVP:Shimmer              0.703322  0.759581  0.797826    0.759555   \n",
       "MDVP:Shimmer(dB)          0.716601  0.790652  0.839239    0.790621   \n",
       "Shimmer:APQ3              0.697153  0.744912  0.763580    0.744894   \n",
       "Shimmer:APQ5              0.648961  0.709927  0.786780    0.709907   \n",
       "MDVP:APQ                  0.648793  0.737455  0.804139    0.737439   \n",
       "Shimmer:DDA               0.697170  0.744919  0.763592    0.744901   \n",
       "NHR                       0.834972  0.919521  0.844604    0.919548   \n",
       "HNR                      -0.656810 -0.721543 -0.731510   -0.721494   \n",
       "status                    0.338653  0.266668  0.288698    0.266646   \n",
       "RPDE                      0.441839  0.342140  0.333274    0.342079   \n",
       "DFA                       0.175036  0.064083  0.196301    0.064026   \n",
       "spread1                   0.735779  0.648328  0.716489    0.648328   \n",
       "spread2                   0.388543  0.324407  0.407605    0.324377   \n",
       "D2                        0.310694  0.426605  0.412524    0.426556   \n",
       "PPE                       0.748162  0.670999  0.769647    0.671005   \n",
       "\n",
       "                  MDVP:Shimmer  MDVP:Shimmer(dB)  ...  Shimmer:DDA       NHR  \\\n",
       "MDVP:Fo(Hz)          -0.098374         -0.073742  ...    -0.094732 -0.021981   \n",
       "MDVP:Fhi(Hz)          0.002281          0.043465  ...    -0.003733  0.163766   \n",
       "MDVP:Flo(Hz)         -0.144543         -0.119089  ...    -0.150737 -0.108670   \n",
       "MDVP:Jitter(%)        0.769063          0.804289  ...     0.746635  0.906959   \n",
       "MDVP:Jitter(Abs)      0.703322          0.716601  ...     0.697170  0.834972   \n",
       "MDVP:RAP              0.759581          0.790652  ...     0.744919  0.919521   \n",
       "MDVP:PPQ              0.797826          0.839239  ...     0.763592  0.844604   \n",
       "Jitter:DDP            0.759555          0.790621  ...     0.744901  0.919548   \n",
       "MDVP:Shimmer          1.000000          0.987258  ...     0.987626  0.722194   \n",
       "MDVP:Shimmer(dB)      0.987258          1.000000  ...     0.963202  0.744477   \n",
       "Shimmer:APQ3          0.987625          0.963198  ...     1.000000  0.716207   \n",
       "Shimmer:APQ5          0.982835          0.973751  ...     0.960072  0.658080   \n",
       "MDVP:APQ              0.950083          0.960977  ...     0.896647  0.694019   \n",
       "Shimmer:DDA           0.987626          0.963202  ...     1.000000  0.716215   \n",
       "NHR                   0.722194          0.744477  ...     0.716215  1.000000   \n",
       "HNR                  -0.835271         -0.827805  ...    -0.827130 -0.714072   \n",
       "status                0.367430          0.350697  ...     0.347608  0.189429   \n",
       "RPDE                  0.447424          0.410684  ...     0.435237  0.370890   \n",
       "DFA                   0.159954          0.165157  ...     0.151132 -0.131882   \n",
       "spread1               0.654734          0.652547  ...     0.610971  0.540865   \n",
       "spread2               0.452025          0.454314  ...     0.402223  0.318099   \n",
       "D2                    0.507088          0.512233  ...     0.467261  0.470949   \n",
       "PPE                   0.693771          0.695058  ...     0.645389  0.552591   \n",
       "\n",
       "                       HNR    status      RPDE       DFA   spread1   spread2  \\\n",
       "MDVP:Fo(Hz)       0.059144 -0.383535 -0.383894 -0.446013 -0.413738 -0.249450   \n",
       "MDVP:Fhi(Hz)     -0.024893 -0.166136 -0.112404 -0.343097 -0.076658 -0.002954   \n",
       "MDVP:Flo(Hz)      0.210851 -0.380200 -0.400143 -0.050406 -0.394857 -0.243829   \n",
       "MDVP:Jitter(%)   -0.728165  0.278220  0.360673  0.098572  0.693577  0.385123   \n",
       "MDVP:Jitter(Abs) -0.656810  0.338653  0.441839  0.175036  0.735779  0.388543   \n",
       "MDVP:RAP         -0.721543  0.266668  0.342140  0.064083  0.648328  0.324407   \n",
       "MDVP:PPQ         -0.731510  0.288698  0.333274  0.196301  0.716489  0.407605   \n",
       "Jitter:DDP       -0.721494  0.266646  0.342079  0.064026  0.648328  0.324377   \n",
       "MDVP:Shimmer     -0.835271  0.367430  0.447424  0.159954  0.654734  0.452025   \n",
       "MDVP:Shimmer(dB) -0.827805  0.350697  0.410684  0.165157  0.652547  0.454314   \n",
       "Shimmer:APQ3     -0.827123  0.347617  0.435242  0.151124  0.610967  0.402243   \n",
       "Shimmer:APQ5     -0.813753  0.351148  0.399903  0.213873  0.646809  0.457195   \n",
       "MDVP:APQ         -0.800407  0.364316  0.451379  0.157276  0.673158  0.502188   \n",
       "Shimmer:DDA      -0.827130  0.347608  0.435237  0.151132  0.610971  0.402223   \n",
       "NHR              -0.714072  0.189429  0.370890 -0.131882  0.540865  0.318099   \n",
       "HNR               1.000000 -0.361515 -0.598736 -0.008665 -0.673210 -0.431564   \n",
       "status           -0.361515  1.000000  0.308567  0.231739  0.564838  0.454842   \n",
       "RPDE             -0.598736  0.308567  1.000000 -0.110950  0.591117  0.479905   \n",
       "DFA              -0.008665  0.231739 -0.110950  1.000000  0.195668  0.166548   \n",
       "spread1          -0.673210  0.564838  0.591117  0.195668  1.000000  0.652358   \n",
       "spread2          -0.431564  0.454842  0.479905  0.166548  0.652358  1.000000   \n",
       "D2               -0.601401  0.340232  0.236931 -0.165381  0.495123  0.523532   \n",
       "PPE              -0.692876  0.531039  0.545886  0.270445  0.962435  0.644711   \n",
       "\n",
       "                        D2       PPE  \n",
       "MDVP:Fo(Hz)       0.177980 -0.372356  \n",
       "MDVP:Fhi(Hz)      0.176323 -0.069543  \n",
       "MDVP:Flo(Hz)     -0.100629 -0.340071  \n",
       "MDVP:Jitter(%)    0.433434  0.721543  \n",
       "MDVP:Jitter(Abs)  0.310694  0.748162  \n",
       "MDVP:RAP          0.426605  0.670999  \n",
       "MDVP:PPQ          0.412524  0.769647  \n",
       "Jitter:DDP        0.426556  0.671005  \n",
       "MDVP:Shimmer      0.507088  0.693771  \n",
       "MDVP:Shimmer(dB)  0.512233  0.695058  \n",
       "Shimmer:APQ3      0.467265  0.645377  \n",
       "Shimmer:APQ5      0.502174  0.702456  \n",
       "MDVP:APQ          0.536869  0.721694  \n",
       "Shimmer:DDA       0.467261  0.645389  \n",
       "NHR               0.470949  0.552591  \n",
       "HNR              -0.601401 -0.692876  \n",
       "status            0.340232  0.531039  \n",
       "RPDE              0.236931  0.545886  \n",
       "DFA              -0.165381  0.270445  \n",
       "spread1           0.495123  0.962435  \n",
       "spread2           0.523532  0.644711  \n",
       "D2                1.000000  0.480585  \n",
       "PPE               0.480585  1.000000  \n",
       "\n",
       "[23 rows x 23 columns]"
      ]
     },
     "execution_count": 122,
     "metadata": {},
     "output_type": "execute_result"
    }
   ],
   "source": [
    "Parkinson_data.corr()"
   ]
  },
  {
   "cell_type": "markdown",
   "id": "3502feb2",
   "metadata": {},
   "source": [
    "### Parkinson_data.columns"
   ]
  },
  {
   "cell_type": "code",
   "execution_count": 123,
   "id": "2bd83c22",
   "metadata": {},
   "outputs": [],
   "source": [
    "new_data=Parkinson_data[['MDVP:Fo(Hz)', 'MDVP:Fhi(Hz)', 'MDVP:Flo(Hz)', 'MDVP:Jitter(%)',\n",
    "       'MDVP:Jitter(Abs)', 'MDVP:RAP', 'MDVP:PPQ', 'Jitter:DDP',\n",
    "       'MDVP:Shimmer', 'MDVP:Shimmer(dB)', 'Shimmer:APQ3', 'Shimmer:APQ5',\n",
    "       'MDVP:APQ', 'Shimmer:DDA', 'NHR', 'HNR', 'status', 'RPDE', 'DFA',\n",
    "       'spread1', 'spread2', 'D2', 'PPE']]"
   ]
  },
  {
   "cell_type": "code",
   "execution_count": 124,
   "id": "f3cd390a",
   "metadata": {},
   "outputs": [
    {
     "data": {
      "text/html": [
       "<div>\n",
       "<style scoped>\n",
       "    .dataframe tbody tr th:only-of-type {\n",
       "        vertical-align: middle;\n",
       "    }\n",
       "\n",
       "    .dataframe tbody tr th {\n",
       "        vertical-align: top;\n",
       "    }\n",
       "\n",
       "    .dataframe thead th {\n",
       "        text-align: right;\n",
       "    }\n",
       "</style>\n",
       "<table border=\"1\" class=\"dataframe\">\n",
       "  <thead>\n",
       "    <tr style=\"text-align: right;\">\n",
       "      <th></th>\n",
       "      <th>MDVP:Fo(Hz)</th>\n",
       "      <th>MDVP:Fhi(Hz)</th>\n",
       "      <th>MDVP:Flo(Hz)</th>\n",
       "      <th>MDVP:Jitter(%)</th>\n",
       "      <th>MDVP:Jitter(Abs)</th>\n",
       "      <th>MDVP:RAP</th>\n",
       "      <th>MDVP:PPQ</th>\n",
       "      <th>Jitter:DDP</th>\n",
       "      <th>MDVP:Shimmer</th>\n",
       "      <th>MDVP:Shimmer(dB)</th>\n",
       "      <th>...</th>\n",
       "      <th>Shimmer:DDA</th>\n",
       "      <th>NHR</th>\n",
       "      <th>HNR</th>\n",
       "      <th>status</th>\n",
       "      <th>RPDE</th>\n",
       "      <th>DFA</th>\n",
       "      <th>spread1</th>\n",
       "      <th>spread2</th>\n",
       "      <th>D2</th>\n",
       "      <th>PPE</th>\n",
       "    </tr>\n",
       "  </thead>\n",
       "  <tbody>\n",
       "    <tr>\n",
       "      <th>0</th>\n",
       "      <td>119.992</td>\n",
       "      <td>157.302</td>\n",
       "      <td>74.997</td>\n",
       "      <td>0.00784</td>\n",
       "      <td>0.00007</td>\n",
       "      <td>0.00370</td>\n",
       "      <td>0.00554</td>\n",
       "      <td>0.01109</td>\n",
       "      <td>0.04374</td>\n",
       "      <td>0.426</td>\n",
       "      <td>...</td>\n",
       "      <td>0.06545</td>\n",
       "      <td>0.02211</td>\n",
       "      <td>21.033</td>\n",
       "      <td>1</td>\n",
       "      <td>0.414783</td>\n",
       "      <td>0.815285</td>\n",
       "      <td>-4.813031</td>\n",
       "      <td>0.266482</td>\n",
       "      <td>2.301442</td>\n",
       "      <td>0.284654</td>\n",
       "    </tr>\n",
       "    <tr>\n",
       "      <th>1</th>\n",
       "      <td>122.400</td>\n",
       "      <td>148.650</td>\n",
       "      <td>113.819</td>\n",
       "      <td>0.00968</td>\n",
       "      <td>0.00008</td>\n",
       "      <td>0.00465</td>\n",
       "      <td>0.00696</td>\n",
       "      <td>0.01394</td>\n",
       "      <td>0.06134</td>\n",
       "      <td>0.626</td>\n",
       "      <td>...</td>\n",
       "      <td>0.09403</td>\n",
       "      <td>0.01929</td>\n",
       "      <td>19.085</td>\n",
       "      <td>1</td>\n",
       "      <td>0.458359</td>\n",
       "      <td>0.819521</td>\n",
       "      <td>-4.075192</td>\n",
       "      <td>0.335590</td>\n",
       "      <td>2.486855</td>\n",
       "      <td>0.368674</td>\n",
       "    </tr>\n",
       "    <tr>\n",
       "      <th>2</th>\n",
       "      <td>116.682</td>\n",
       "      <td>131.111</td>\n",
       "      <td>111.555</td>\n",
       "      <td>0.01050</td>\n",
       "      <td>0.00009</td>\n",
       "      <td>0.00544</td>\n",
       "      <td>0.00781</td>\n",
       "      <td>0.01633</td>\n",
       "      <td>0.05233</td>\n",
       "      <td>0.482</td>\n",
       "      <td>...</td>\n",
       "      <td>0.08270</td>\n",
       "      <td>0.01309</td>\n",
       "      <td>20.651</td>\n",
       "      <td>1</td>\n",
       "      <td>0.429895</td>\n",
       "      <td>0.825288</td>\n",
       "      <td>-4.443179</td>\n",
       "      <td>0.311173</td>\n",
       "      <td>2.342259</td>\n",
       "      <td>0.332634</td>\n",
       "    </tr>\n",
       "    <tr>\n",
       "      <th>3</th>\n",
       "      <td>116.676</td>\n",
       "      <td>137.871</td>\n",
       "      <td>111.366</td>\n",
       "      <td>0.00997</td>\n",
       "      <td>0.00009</td>\n",
       "      <td>0.00502</td>\n",
       "      <td>0.00698</td>\n",
       "      <td>0.01505</td>\n",
       "      <td>0.05492</td>\n",
       "      <td>0.517</td>\n",
       "      <td>...</td>\n",
       "      <td>0.08771</td>\n",
       "      <td>0.01353</td>\n",
       "      <td>20.644</td>\n",
       "      <td>1</td>\n",
       "      <td>0.434969</td>\n",
       "      <td>0.819235</td>\n",
       "      <td>-4.117501</td>\n",
       "      <td>0.334147</td>\n",
       "      <td>2.405554</td>\n",
       "      <td>0.368975</td>\n",
       "    </tr>\n",
       "    <tr>\n",
       "      <th>4</th>\n",
       "      <td>116.014</td>\n",
       "      <td>141.781</td>\n",
       "      <td>110.655</td>\n",
       "      <td>0.01284</td>\n",
       "      <td>0.00011</td>\n",
       "      <td>0.00655</td>\n",
       "      <td>0.00908</td>\n",
       "      <td>0.01966</td>\n",
       "      <td>0.06425</td>\n",
       "      <td>0.584</td>\n",
       "      <td>...</td>\n",
       "      <td>0.10470</td>\n",
       "      <td>0.01767</td>\n",
       "      <td>19.649</td>\n",
       "      <td>1</td>\n",
       "      <td>0.417356</td>\n",
       "      <td>0.823484</td>\n",
       "      <td>-3.747787</td>\n",
       "      <td>0.234513</td>\n",
       "      <td>2.332180</td>\n",
       "      <td>0.410335</td>\n",
       "    </tr>\n",
       "    <tr>\n",
       "      <th>...</th>\n",
       "      <td>...</td>\n",
       "      <td>...</td>\n",
       "      <td>...</td>\n",
       "      <td>...</td>\n",
       "      <td>...</td>\n",
       "      <td>...</td>\n",
       "      <td>...</td>\n",
       "      <td>...</td>\n",
       "      <td>...</td>\n",
       "      <td>...</td>\n",
       "      <td>...</td>\n",
       "      <td>...</td>\n",
       "      <td>...</td>\n",
       "      <td>...</td>\n",
       "      <td>...</td>\n",
       "      <td>...</td>\n",
       "      <td>...</td>\n",
       "      <td>...</td>\n",
       "      <td>...</td>\n",
       "      <td>...</td>\n",
       "      <td>...</td>\n",
       "    </tr>\n",
       "    <tr>\n",
       "      <th>190</th>\n",
       "      <td>174.188</td>\n",
       "      <td>230.978</td>\n",
       "      <td>94.261</td>\n",
       "      <td>0.00459</td>\n",
       "      <td>0.00003</td>\n",
       "      <td>0.00263</td>\n",
       "      <td>0.00259</td>\n",
       "      <td>0.00790</td>\n",
       "      <td>0.04087</td>\n",
       "      <td>0.405</td>\n",
       "      <td>...</td>\n",
       "      <td>0.07008</td>\n",
       "      <td>0.02764</td>\n",
       "      <td>19.517</td>\n",
       "      <td>0</td>\n",
       "      <td>0.448439</td>\n",
       "      <td>0.657899</td>\n",
       "      <td>-6.538586</td>\n",
       "      <td>0.121952</td>\n",
       "      <td>2.657476</td>\n",
       "      <td>0.133050</td>\n",
       "    </tr>\n",
       "    <tr>\n",
       "      <th>191</th>\n",
       "      <td>209.516</td>\n",
       "      <td>253.017</td>\n",
       "      <td>89.488</td>\n",
       "      <td>0.00564</td>\n",
       "      <td>0.00003</td>\n",
       "      <td>0.00331</td>\n",
       "      <td>0.00292</td>\n",
       "      <td>0.00994</td>\n",
       "      <td>0.02751</td>\n",
       "      <td>0.263</td>\n",
       "      <td>...</td>\n",
       "      <td>0.04812</td>\n",
       "      <td>0.01810</td>\n",
       "      <td>19.147</td>\n",
       "      <td>0</td>\n",
       "      <td>0.431674</td>\n",
       "      <td>0.683244</td>\n",
       "      <td>-6.195325</td>\n",
       "      <td>0.129303</td>\n",
       "      <td>2.784312</td>\n",
       "      <td>0.168895</td>\n",
       "    </tr>\n",
       "    <tr>\n",
       "      <th>192</th>\n",
       "      <td>174.688</td>\n",
       "      <td>240.005</td>\n",
       "      <td>74.287</td>\n",
       "      <td>0.01360</td>\n",
       "      <td>0.00008</td>\n",
       "      <td>0.00624</td>\n",
       "      <td>0.00564</td>\n",
       "      <td>0.01873</td>\n",
       "      <td>0.02308</td>\n",
       "      <td>0.256</td>\n",
       "      <td>...</td>\n",
       "      <td>0.03804</td>\n",
       "      <td>0.10715</td>\n",
       "      <td>17.883</td>\n",
       "      <td>0</td>\n",
       "      <td>0.407567</td>\n",
       "      <td>0.655683</td>\n",
       "      <td>-6.787197</td>\n",
       "      <td>0.158453</td>\n",
       "      <td>2.679772</td>\n",
       "      <td>0.131728</td>\n",
       "    </tr>\n",
       "    <tr>\n",
       "      <th>193</th>\n",
       "      <td>198.764</td>\n",
       "      <td>396.961</td>\n",
       "      <td>74.904</td>\n",
       "      <td>0.00740</td>\n",
       "      <td>0.00004</td>\n",
       "      <td>0.00370</td>\n",
       "      <td>0.00390</td>\n",
       "      <td>0.01109</td>\n",
       "      <td>0.02296</td>\n",
       "      <td>0.241</td>\n",
       "      <td>...</td>\n",
       "      <td>0.03794</td>\n",
       "      <td>0.07223</td>\n",
       "      <td>19.020</td>\n",
       "      <td>0</td>\n",
       "      <td>0.451221</td>\n",
       "      <td>0.643956</td>\n",
       "      <td>-6.744577</td>\n",
       "      <td>0.207454</td>\n",
       "      <td>2.138608</td>\n",
       "      <td>0.123306</td>\n",
       "    </tr>\n",
       "    <tr>\n",
       "      <th>194</th>\n",
       "      <td>214.289</td>\n",
       "      <td>260.277</td>\n",
       "      <td>77.973</td>\n",
       "      <td>0.00567</td>\n",
       "      <td>0.00003</td>\n",
       "      <td>0.00295</td>\n",
       "      <td>0.00317</td>\n",
       "      <td>0.00885</td>\n",
       "      <td>0.01884</td>\n",
       "      <td>0.190</td>\n",
       "      <td>...</td>\n",
       "      <td>0.03078</td>\n",
       "      <td>0.04398</td>\n",
       "      <td>21.209</td>\n",
       "      <td>0</td>\n",
       "      <td>0.462803</td>\n",
       "      <td>0.664357</td>\n",
       "      <td>-5.724056</td>\n",
       "      <td>0.190667</td>\n",
       "      <td>2.555477</td>\n",
       "      <td>0.148569</td>\n",
       "    </tr>\n",
       "  </tbody>\n",
       "</table>\n",
       "<p>195 rows × 23 columns</p>\n",
       "</div>"
      ],
      "text/plain": [
       "     MDVP:Fo(Hz)  MDVP:Fhi(Hz)  MDVP:Flo(Hz)  MDVP:Jitter(%)  \\\n",
       "0        119.992       157.302        74.997         0.00784   \n",
       "1        122.400       148.650       113.819         0.00968   \n",
       "2        116.682       131.111       111.555         0.01050   \n",
       "3        116.676       137.871       111.366         0.00997   \n",
       "4        116.014       141.781       110.655         0.01284   \n",
       "..           ...           ...           ...             ...   \n",
       "190      174.188       230.978        94.261         0.00459   \n",
       "191      209.516       253.017        89.488         0.00564   \n",
       "192      174.688       240.005        74.287         0.01360   \n",
       "193      198.764       396.961        74.904         0.00740   \n",
       "194      214.289       260.277        77.973         0.00567   \n",
       "\n",
       "     MDVP:Jitter(Abs)  MDVP:RAP  MDVP:PPQ  Jitter:DDP  MDVP:Shimmer  \\\n",
       "0             0.00007   0.00370   0.00554     0.01109       0.04374   \n",
       "1             0.00008   0.00465   0.00696     0.01394       0.06134   \n",
       "2             0.00009   0.00544   0.00781     0.01633       0.05233   \n",
       "3             0.00009   0.00502   0.00698     0.01505       0.05492   \n",
       "4             0.00011   0.00655   0.00908     0.01966       0.06425   \n",
       "..                ...       ...       ...         ...           ...   \n",
       "190           0.00003   0.00263   0.00259     0.00790       0.04087   \n",
       "191           0.00003   0.00331   0.00292     0.00994       0.02751   \n",
       "192           0.00008   0.00624   0.00564     0.01873       0.02308   \n",
       "193           0.00004   0.00370   0.00390     0.01109       0.02296   \n",
       "194           0.00003   0.00295   0.00317     0.00885       0.01884   \n",
       "\n",
       "     MDVP:Shimmer(dB)  ...  Shimmer:DDA      NHR     HNR  status      RPDE  \\\n",
       "0               0.426  ...      0.06545  0.02211  21.033       1  0.414783   \n",
       "1               0.626  ...      0.09403  0.01929  19.085       1  0.458359   \n",
       "2               0.482  ...      0.08270  0.01309  20.651       1  0.429895   \n",
       "3               0.517  ...      0.08771  0.01353  20.644       1  0.434969   \n",
       "4               0.584  ...      0.10470  0.01767  19.649       1  0.417356   \n",
       "..                ...  ...          ...      ...     ...     ...       ...   \n",
       "190             0.405  ...      0.07008  0.02764  19.517       0  0.448439   \n",
       "191             0.263  ...      0.04812  0.01810  19.147       0  0.431674   \n",
       "192             0.256  ...      0.03804  0.10715  17.883       0  0.407567   \n",
       "193             0.241  ...      0.03794  0.07223  19.020       0  0.451221   \n",
       "194             0.190  ...      0.03078  0.04398  21.209       0  0.462803   \n",
       "\n",
       "          DFA   spread1   spread2        D2       PPE  \n",
       "0    0.815285 -4.813031  0.266482  2.301442  0.284654  \n",
       "1    0.819521 -4.075192  0.335590  2.486855  0.368674  \n",
       "2    0.825288 -4.443179  0.311173  2.342259  0.332634  \n",
       "3    0.819235 -4.117501  0.334147  2.405554  0.368975  \n",
       "4    0.823484 -3.747787  0.234513  2.332180  0.410335  \n",
       "..        ...       ...       ...       ...       ...  \n",
       "190  0.657899 -6.538586  0.121952  2.657476  0.133050  \n",
       "191  0.683244 -6.195325  0.129303  2.784312  0.168895  \n",
       "192  0.655683 -6.787197  0.158453  2.679772  0.131728  \n",
       "193  0.643956 -6.744577  0.207454  2.138608  0.123306  \n",
       "194  0.664357 -5.724056  0.190667  2.555477  0.148569  \n",
       "\n",
       "[195 rows x 23 columns]"
      ]
     },
     "execution_count": 124,
     "metadata": {},
     "output_type": "execute_result"
    }
   ],
   "source": [
    "new_data"
   ]
  },
  {
   "cell_type": "markdown",
   "id": "df05569d",
   "metadata": {},
   "source": [
    "### MDVP:Fo(Hz) AGAINST MDVP:Fhi(Hz) AND MDVP:Flo(Hz)"
   ]
  },
  {
   "cell_type": "code",
   "execution_count": 125,
   "id": "3ebc1af5",
   "metadata": {},
   "outputs": [
    {
     "data": {
      "text/html": [
       "<div>\n",
       "<style scoped>\n",
       "    .dataframe tbody tr th:only-of-type {\n",
       "        vertical-align: middle;\n",
       "    }\n",
       "\n",
       "    .dataframe tbody tr th {\n",
       "        vertical-align: top;\n",
       "    }\n",
       "\n",
       "    .dataframe thead th {\n",
       "        text-align: right;\n",
       "    }\n",
       "</style>\n",
       "<table border=\"1\" class=\"dataframe\">\n",
       "  <thead>\n",
       "    <tr style=\"text-align: right;\">\n",
       "      <th></th>\n",
       "      <th>MDVP:Fo(Hz)</th>\n",
       "      <th>MDVP:Fhi(Hz)</th>\n",
       "      <th>MDVP:Flo(Hz)</th>\n",
       "    </tr>\n",
       "  </thead>\n",
       "  <tbody>\n",
       "    <tr>\n",
       "      <th>0</th>\n",
       "      <td>119.992</td>\n",
       "      <td>157.302</td>\n",
       "      <td>74.997</td>\n",
       "    </tr>\n",
       "    <tr>\n",
       "      <th>1</th>\n",
       "      <td>122.400</td>\n",
       "      <td>148.650</td>\n",
       "      <td>113.819</td>\n",
       "    </tr>\n",
       "    <tr>\n",
       "      <th>2</th>\n",
       "      <td>116.682</td>\n",
       "      <td>131.111</td>\n",
       "      <td>111.555</td>\n",
       "    </tr>\n",
       "    <tr>\n",
       "      <th>3</th>\n",
       "      <td>116.676</td>\n",
       "      <td>137.871</td>\n",
       "      <td>111.366</td>\n",
       "    </tr>\n",
       "    <tr>\n",
       "      <th>4</th>\n",
       "      <td>116.014</td>\n",
       "      <td>141.781</td>\n",
       "      <td>110.655</td>\n",
       "    </tr>\n",
       "  </tbody>\n",
       "</table>\n",
       "</div>"
      ],
      "text/plain": [
       "   MDVP:Fo(Hz)  MDVP:Fhi(Hz)  MDVP:Flo(Hz)\n",
       "0      119.992       157.302        74.997\n",
       "1      122.400       148.650       113.819\n",
       "2      116.682       131.111       111.555\n",
       "3      116.676       137.871       111.366\n",
       "4      116.014       141.781       110.655"
      ]
     },
     "execution_count": 125,
     "metadata": {},
     "output_type": "execute_result"
    }
   ],
   "source": [
    "### loooking at MDVP:Fo(Hz),MDVP:Fhi(Hz) and MDVP:Flo(Hz) column\n",
    "Parkinson_data[['MDVP:Fo(Hz)','MDVP:Fhi(Hz)','MDVP:Flo(Hz)']].head()"
   ]
  },
  {
   "cell_type": "code",
   "execution_count": 126,
   "id": "b32d72cd",
   "metadata": {},
   "outputs": [
    {
     "data": {
      "text/html": [
       "<div>\n",
       "<style scoped>\n",
       "    .dataframe tbody tr th:only-of-type {\n",
       "        vertical-align: middle;\n",
       "    }\n",
       "\n",
       "    .dataframe tbody tr th {\n",
       "        vertical-align: top;\n",
       "    }\n",
       "\n",
       "    .dataframe thead th {\n",
       "        text-align: right;\n",
       "    }\n",
       "</style>\n",
       "<table border=\"1\" class=\"dataframe\">\n",
       "  <thead>\n",
       "    <tr style=\"text-align: right;\">\n",
       "      <th></th>\n",
       "      <th>MDVP:Fo(Hz)</th>\n",
       "      <th>MDVP:Fhi(Hz)</th>\n",
       "      <th>MDVP:Flo(Hz)</th>\n",
       "    </tr>\n",
       "  </thead>\n",
       "  <tbody>\n",
       "    <tr>\n",
       "      <th>MDVP:Fo(Hz)</th>\n",
       "      <td>1.000000</td>\n",
       "      <td>0.400985</td>\n",
       "      <td>0.596546</td>\n",
       "    </tr>\n",
       "    <tr>\n",
       "      <th>MDVP:Fhi(Hz)</th>\n",
       "      <td>0.400985</td>\n",
       "      <td>1.000000</td>\n",
       "      <td>0.084951</td>\n",
       "    </tr>\n",
       "    <tr>\n",
       "      <th>MDVP:Flo(Hz)</th>\n",
       "      <td>0.596546</td>\n",
       "      <td>0.084951</td>\n",
       "      <td>1.000000</td>\n",
       "    </tr>\n",
       "  </tbody>\n",
       "</table>\n",
       "</div>"
      ],
      "text/plain": [
       "              MDVP:Fo(Hz)  MDVP:Fhi(Hz)  MDVP:Flo(Hz)\n",
       "MDVP:Fo(Hz)      1.000000      0.400985      0.596546\n",
       "MDVP:Fhi(Hz)     0.400985      1.000000      0.084951\n",
       "MDVP:Flo(Hz)     0.596546      0.084951      1.000000"
      ]
     },
     "execution_count": 126,
     "metadata": {},
     "output_type": "execute_result"
    }
   ],
   "source": [
    "### loooking at the relationship MDVP:Fo(Hz),MDVP:Fhi(Hz) and MDVP:Flo(Hz) column\n",
    "Parkinson_data[['MDVP:Fo(Hz)','MDVP:Fhi(Hz)','MDVP:Flo(Hz)']].corr()"
   ]
  },
  {
   "cell_type": "markdown",
   "id": "0eae1827",
   "metadata": {},
   "source": [
    "MDVP:Fo(Hz)(Average Vocal Fundamental Frequency) has a medium relationship with MDVP:Fhi(Hz)(Maximum Vocal Fundamental Frequency ) and MDVP:Flo(Hz)(Maximum Vocal Fundamental Frequency), MDVP:Fhi(Hz) (Maximum Vocal Fundamental Frequency) has a very weak relationship between MDVP:Fo(Hz)(Average Vocal Fundamental Frequency) and MDVP:Flo(Hz)(Maximum Vocal Fundamental Frequency) "
   ]
  },
  {
   "cell_type": "markdown",
   "id": "30e772e2",
   "metadata": {},
   "source": [
    "### MDVP:Jitter(%) AGAINST MDVP:Jitter(Abs) AND Jitter:DDP"
   ]
  },
  {
   "cell_type": "code",
   "execution_count": 127,
   "id": "d3e685f6",
   "metadata": {},
   "outputs": [
    {
     "data": {
      "text/html": [
       "<div>\n",
       "<style scoped>\n",
       "    .dataframe tbody tr th:only-of-type {\n",
       "        vertical-align: middle;\n",
       "    }\n",
       "\n",
       "    .dataframe tbody tr th {\n",
       "        vertical-align: top;\n",
       "    }\n",
       "\n",
       "    .dataframe thead th {\n",
       "        text-align: right;\n",
       "    }\n",
       "</style>\n",
       "<table border=\"1\" class=\"dataframe\">\n",
       "  <thead>\n",
       "    <tr style=\"text-align: right;\">\n",
       "      <th></th>\n",
       "      <th>MDVP:Jitter(%)</th>\n",
       "      <th>MDVP:Jitter(Abs)</th>\n",
       "      <th>Jitter:DDP</th>\n",
       "    </tr>\n",
       "  </thead>\n",
       "  <tbody>\n",
       "    <tr>\n",
       "      <th>0</th>\n",
       "      <td>0.00784</td>\n",
       "      <td>0.00007</td>\n",
       "      <td>0.01109</td>\n",
       "    </tr>\n",
       "    <tr>\n",
       "      <th>1</th>\n",
       "      <td>0.00968</td>\n",
       "      <td>0.00008</td>\n",
       "      <td>0.01394</td>\n",
       "    </tr>\n",
       "    <tr>\n",
       "      <th>2</th>\n",
       "      <td>0.01050</td>\n",
       "      <td>0.00009</td>\n",
       "      <td>0.01633</td>\n",
       "    </tr>\n",
       "    <tr>\n",
       "      <th>3</th>\n",
       "      <td>0.00997</td>\n",
       "      <td>0.00009</td>\n",
       "      <td>0.01505</td>\n",
       "    </tr>\n",
       "    <tr>\n",
       "      <th>4</th>\n",
       "      <td>0.01284</td>\n",
       "      <td>0.00011</td>\n",
       "      <td>0.01966</td>\n",
       "    </tr>\n",
       "  </tbody>\n",
       "</table>\n",
       "</div>"
      ],
      "text/plain": [
       "   MDVP:Jitter(%)  MDVP:Jitter(Abs)  Jitter:DDP\n",
       "0         0.00784           0.00007     0.01109\n",
       "1         0.00968           0.00008     0.01394\n",
       "2         0.01050           0.00009     0.01633\n",
       "3         0.00997           0.00009     0.01505\n",
       "4         0.01284           0.00011     0.01966"
      ]
     },
     "execution_count": 127,
     "metadata": {},
     "output_type": "execute_result"
    }
   ],
   "source": [
    "### loooking at MDVP:Jitter(%),MDVP:Jitter(Abs),Jitter:DDP column\n",
    "Parkinson_data[['MDVP:Jitter(%)','MDVP:Jitter(Abs)','Jitter:DDP']].head()"
   ]
  },
  {
   "cell_type": "code",
   "execution_count": 128,
   "id": "dd7c7098",
   "metadata": {},
   "outputs": [
    {
     "data": {
      "text/html": [
       "<div>\n",
       "<style scoped>\n",
       "    .dataframe tbody tr th:only-of-type {\n",
       "        vertical-align: middle;\n",
       "    }\n",
       "\n",
       "    .dataframe tbody tr th {\n",
       "        vertical-align: top;\n",
       "    }\n",
       "\n",
       "    .dataframe thead th {\n",
       "        text-align: right;\n",
       "    }\n",
       "</style>\n",
       "<table border=\"1\" class=\"dataframe\">\n",
       "  <thead>\n",
       "    <tr style=\"text-align: right;\">\n",
       "      <th></th>\n",
       "      <th>MDVP:Jitter(%)</th>\n",
       "      <th>MDVP:Jitter(Abs)</th>\n",
       "      <th>Jitter:DDP</th>\n",
       "    </tr>\n",
       "  </thead>\n",
       "  <tbody>\n",
       "    <tr>\n",
       "      <th>MDVP:Jitter(%)</th>\n",
       "      <td>1.000000</td>\n",
       "      <td>0.935714</td>\n",
       "      <td>0.990276</td>\n",
       "    </tr>\n",
       "    <tr>\n",
       "      <th>MDVP:Jitter(Abs)</th>\n",
       "      <td>0.935714</td>\n",
       "      <td>1.000000</td>\n",
       "      <td>0.922913</td>\n",
       "    </tr>\n",
       "    <tr>\n",
       "      <th>Jitter:DDP</th>\n",
       "      <td>0.990276</td>\n",
       "      <td>0.922913</td>\n",
       "      <td>1.000000</td>\n",
       "    </tr>\n",
       "  </tbody>\n",
       "</table>\n",
       "</div>"
      ],
      "text/plain": [
       "                  MDVP:Jitter(%)  MDVP:Jitter(Abs)  Jitter:DDP\n",
       "MDVP:Jitter(%)          1.000000          0.935714    0.990276\n",
       "MDVP:Jitter(Abs)        0.935714          1.000000    0.922913\n",
       "Jitter:DDP              0.990276          0.922913    1.000000"
      ]
     },
     "execution_count": 128,
     "metadata": {},
     "output_type": "execute_result"
    }
   ],
   "source": [
    "### loooking at the relationship between MDVP:Jitter(%),MDVP:Jitter(Abs) and Jitter:DDP column\n",
    "Parkinson_data[['MDVP:Jitter(%)','MDVP:Jitter(Abs)','Jitter:DDP']].corr()"
   ]
  },
  {
   "cell_type": "markdown",
   "id": "ddd8476b",
   "metadata": {},
   "source": [
    "MDVP:Jitter(%)(Jitter in Percentage) has a very strong relationship MDVP:Jitter(Abs) (Absolute Jitter in ms) and Jitter:DDP (Difference Of Differences Between Jitter Cycles)."
   ]
  },
  {
   "cell_type": "markdown",
   "id": "a45f8381",
   "metadata": {},
   "source": [
    "###  MDVP:RAP AGAINST MDVP:PPQ AND MDVP:APQ"
   ]
  },
  {
   "cell_type": "code",
   "execution_count": 129,
   "id": "2013d2b6",
   "metadata": {},
   "outputs": [
    {
     "data": {
      "text/html": [
       "<div>\n",
       "<style scoped>\n",
       "    .dataframe tbody tr th:only-of-type {\n",
       "        vertical-align: middle;\n",
       "    }\n",
       "\n",
       "    .dataframe tbody tr th {\n",
       "        vertical-align: top;\n",
       "    }\n",
       "\n",
       "    .dataframe thead th {\n",
       "        text-align: right;\n",
       "    }\n",
       "</style>\n",
       "<table border=\"1\" class=\"dataframe\">\n",
       "  <thead>\n",
       "    <tr style=\"text-align: right;\">\n",
       "      <th></th>\n",
       "      <th>MDVP:RAP</th>\n",
       "      <th>MDVP:PPQ</th>\n",
       "      <th>MDVP:APQ</th>\n",
       "    </tr>\n",
       "  </thead>\n",
       "  <tbody>\n",
       "    <tr>\n",
       "      <th>0</th>\n",
       "      <td>0.00370</td>\n",
       "      <td>0.00554</td>\n",
       "      <td>0.02971</td>\n",
       "    </tr>\n",
       "    <tr>\n",
       "      <th>1</th>\n",
       "      <td>0.00465</td>\n",
       "      <td>0.00696</td>\n",
       "      <td>0.04368</td>\n",
       "    </tr>\n",
       "    <tr>\n",
       "      <th>2</th>\n",
       "      <td>0.00544</td>\n",
       "      <td>0.00781</td>\n",
       "      <td>0.03590</td>\n",
       "    </tr>\n",
       "    <tr>\n",
       "      <th>3</th>\n",
       "      <td>0.00502</td>\n",
       "      <td>0.00698</td>\n",
       "      <td>0.03772</td>\n",
       "    </tr>\n",
       "    <tr>\n",
       "      <th>4</th>\n",
       "      <td>0.00655</td>\n",
       "      <td>0.00908</td>\n",
       "      <td>0.04465</td>\n",
       "    </tr>\n",
       "  </tbody>\n",
       "</table>\n",
       "</div>"
      ],
      "text/plain": [
       "   MDVP:RAP  MDVP:PPQ  MDVP:APQ\n",
       "0   0.00370   0.00554   0.02971\n",
       "1   0.00465   0.00696   0.04368\n",
       "2   0.00544   0.00781   0.03590\n",
       "3   0.00502   0.00698   0.03772\n",
       "4   0.00655   0.00908   0.04465"
      ]
     },
     "execution_count": 129,
     "metadata": {},
     "output_type": "execute_result"
    }
   ],
   "source": [
    "### loooking at MDVP:RAP, MDVP:PPQ and MDVP:APQ column\n",
    "Parkinson_data[['MDVP:RAP','MDVP:PPQ','MDVP:APQ']].head()"
   ]
  },
  {
   "cell_type": "code",
   "execution_count": 130,
   "id": "54fe3eac",
   "metadata": {},
   "outputs": [
    {
     "data": {
      "text/html": [
       "<div>\n",
       "<style scoped>\n",
       "    .dataframe tbody tr th:only-of-type {\n",
       "        vertical-align: middle;\n",
       "    }\n",
       "\n",
       "    .dataframe tbody tr th {\n",
       "        vertical-align: top;\n",
       "    }\n",
       "\n",
       "    .dataframe thead th {\n",
       "        text-align: right;\n",
       "    }\n",
       "</style>\n",
       "<table border=\"1\" class=\"dataframe\">\n",
       "  <thead>\n",
       "    <tr style=\"text-align: right;\">\n",
       "      <th></th>\n",
       "      <th>MDVP:RAP</th>\n",
       "      <th>MDVP:PPQ</th>\n",
       "      <th>MDVP:APQ</th>\n",
       "    </tr>\n",
       "  </thead>\n",
       "  <tbody>\n",
       "    <tr>\n",
       "      <th>MDVP:RAP</th>\n",
       "      <td>1.000000</td>\n",
       "      <td>0.957317</td>\n",
       "      <td>0.737455</td>\n",
       "    </tr>\n",
       "    <tr>\n",
       "      <th>MDVP:PPQ</th>\n",
       "      <td>0.957317</td>\n",
       "      <td>1.000000</td>\n",
       "      <td>0.804139</td>\n",
       "    </tr>\n",
       "    <tr>\n",
       "      <th>MDVP:APQ</th>\n",
       "      <td>0.737455</td>\n",
       "      <td>0.804139</td>\n",
       "      <td>1.000000</td>\n",
       "    </tr>\n",
       "  </tbody>\n",
       "</table>\n",
       "</div>"
      ],
      "text/plain": [
       "          MDVP:RAP  MDVP:PPQ  MDVP:APQ\n",
       "MDVP:RAP  1.000000  0.957317  0.737455\n",
       "MDVP:PPQ  0.957317  1.000000  0.804139\n",
       "MDVP:APQ  0.737455  0.804139  1.000000"
      ]
     },
     "execution_count": 130,
     "metadata": {},
     "output_type": "execute_result"
    }
   ],
   "source": [
    "### loooking at the relationship MDVP:RAP, MDVP:PPQ and MDVP:APQ \n",
    "Parkinson_data[['MDVP:RAP','MDVP:PPQ','MDVP:APQ']].corr()"
   ]
  },
  {
   "cell_type": "markdown",
   "id": "7794ce9e",
   "metadata": {},
   "source": [
    "MDVP:RAP(Relative Amplitude Perturbation) has a very strong relationship between MDVP:PPQ (Five-Point Period Perturbation Quotient) and MDVP:APQ (Eleven Point Amplitude Perturbation Quotient)"
   ]
  },
  {
   "cell_type": "markdown",
   "id": "1ace29f8",
   "metadata": {},
   "source": [
    "### MDVP:Shimmer VS MDVP:Shimmer(dB) VS Shimmer:APQ3 VS Shimmer:APQ5 VSShimmer:DDA"
   ]
  },
  {
   "cell_type": "code",
   "execution_count": 131,
   "id": "10c7af61",
   "metadata": {},
   "outputs": [
    {
     "data": {
      "text/html": [
       "<div>\n",
       "<style scoped>\n",
       "    .dataframe tbody tr th:only-of-type {\n",
       "        vertical-align: middle;\n",
       "    }\n",
       "\n",
       "    .dataframe tbody tr th {\n",
       "        vertical-align: top;\n",
       "    }\n",
       "\n",
       "    .dataframe thead th {\n",
       "        text-align: right;\n",
       "    }\n",
       "</style>\n",
       "<table border=\"1\" class=\"dataframe\">\n",
       "  <thead>\n",
       "    <tr style=\"text-align: right;\">\n",
       "      <th></th>\n",
       "      <th>MDVP:Shimmer</th>\n",
       "      <th>MDVP:Shimmer(dB)</th>\n",
       "      <th>Shimmer:APQ3</th>\n",
       "      <th>Shimmer:APQ5</th>\n",
       "      <th>Shimmer:DDA</th>\n",
       "    </tr>\n",
       "  </thead>\n",
       "  <tbody>\n",
       "    <tr>\n",
       "      <th>0</th>\n",
       "      <td>0.04374</td>\n",
       "      <td>0.426</td>\n",
       "      <td>0.02182</td>\n",
       "      <td>0.03130</td>\n",
       "      <td>0.06545</td>\n",
       "    </tr>\n",
       "    <tr>\n",
       "      <th>1</th>\n",
       "      <td>0.06134</td>\n",
       "      <td>0.626</td>\n",
       "      <td>0.03134</td>\n",
       "      <td>0.04518</td>\n",
       "      <td>0.09403</td>\n",
       "    </tr>\n",
       "    <tr>\n",
       "      <th>2</th>\n",
       "      <td>0.05233</td>\n",
       "      <td>0.482</td>\n",
       "      <td>0.02757</td>\n",
       "      <td>0.03858</td>\n",
       "      <td>0.08270</td>\n",
       "    </tr>\n",
       "    <tr>\n",
       "      <th>3</th>\n",
       "      <td>0.05492</td>\n",
       "      <td>0.517</td>\n",
       "      <td>0.02924</td>\n",
       "      <td>0.04005</td>\n",
       "      <td>0.08771</td>\n",
       "    </tr>\n",
       "    <tr>\n",
       "      <th>4</th>\n",
       "      <td>0.06425</td>\n",
       "      <td>0.584</td>\n",
       "      <td>0.03490</td>\n",
       "      <td>0.04825</td>\n",
       "      <td>0.10470</td>\n",
       "    </tr>\n",
       "  </tbody>\n",
       "</table>\n",
       "</div>"
      ],
      "text/plain": [
       "   MDVP:Shimmer  MDVP:Shimmer(dB)  Shimmer:APQ3  Shimmer:APQ5  Shimmer:DDA\n",
       "0       0.04374             0.426       0.02182       0.03130      0.06545\n",
       "1       0.06134             0.626       0.03134       0.04518      0.09403\n",
       "2       0.05233             0.482       0.02757       0.03858      0.08270\n",
       "3       0.05492             0.517       0.02924       0.04005      0.08771\n",
       "4       0.06425             0.584       0.03490       0.04825      0.10470"
      ]
     },
     "execution_count": 131,
     "metadata": {},
     "output_type": "execute_result"
    }
   ],
   "source": [
    "### loooking at MDVP:Shimmer,MDVP:Shimmer(dB),Shimmer:APQ3,Shimmer:APQ5 and Shimmer:DDA column\n",
    "Parkinson_data[['MDVP:Shimmer','MDVP:Shimmer(dB)','Shimmer:APQ3','Shimmer:APQ5','Shimmer:DDA']].head()"
   ]
  },
  {
   "cell_type": "code",
   "execution_count": 132,
   "id": "429b9998",
   "metadata": {},
   "outputs": [
    {
     "data": {
      "text/html": [
       "<div>\n",
       "<style scoped>\n",
       "    .dataframe tbody tr th:only-of-type {\n",
       "        vertical-align: middle;\n",
       "    }\n",
       "\n",
       "    .dataframe tbody tr th {\n",
       "        vertical-align: top;\n",
       "    }\n",
       "\n",
       "    .dataframe thead th {\n",
       "        text-align: right;\n",
       "    }\n",
       "</style>\n",
       "<table border=\"1\" class=\"dataframe\">\n",
       "  <thead>\n",
       "    <tr style=\"text-align: right;\">\n",
       "      <th></th>\n",
       "      <th>MDVP:Shimmer</th>\n",
       "      <th>MDVP:Shimmer(dB)</th>\n",
       "      <th>Shimmer:APQ3</th>\n",
       "      <th>Shimmer:APQ5</th>\n",
       "      <th>Shimmer:DDA</th>\n",
       "    </tr>\n",
       "  </thead>\n",
       "  <tbody>\n",
       "    <tr>\n",
       "      <th>MDVP:Shimmer</th>\n",
       "      <td>1.000000</td>\n",
       "      <td>0.987258</td>\n",
       "      <td>0.987625</td>\n",
       "      <td>0.982835</td>\n",
       "      <td>0.987626</td>\n",
       "    </tr>\n",
       "    <tr>\n",
       "      <th>MDVP:Shimmer(dB)</th>\n",
       "      <td>0.987258</td>\n",
       "      <td>1.000000</td>\n",
       "      <td>0.963198</td>\n",
       "      <td>0.973751</td>\n",
       "      <td>0.963202</td>\n",
       "    </tr>\n",
       "    <tr>\n",
       "      <th>Shimmer:APQ3</th>\n",
       "      <td>0.987625</td>\n",
       "      <td>0.963198</td>\n",
       "      <td>1.000000</td>\n",
       "      <td>0.960070</td>\n",
       "      <td>1.000000</td>\n",
       "    </tr>\n",
       "    <tr>\n",
       "      <th>Shimmer:APQ5</th>\n",
       "      <td>0.982835</td>\n",
       "      <td>0.973751</td>\n",
       "      <td>0.960070</td>\n",
       "      <td>1.000000</td>\n",
       "      <td>0.960072</td>\n",
       "    </tr>\n",
       "    <tr>\n",
       "      <th>Shimmer:DDA</th>\n",
       "      <td>0.987626</td>\n",
       "      <td>0.963202</td>\n",
       "      <td>1.000000</td>\n",
       "      <td>0.960072</td>\n",
       "      <td>1.000000</td>\n",
       "    </tr>\n",
       "  </tbody>\n",
       "</table>\n",
       "</div>"
      ],
      "text/plain": [
       "                  MDVP:Shimmer  MDVP:Shimmer(dB)  Shimmer:APQ3  Shimmer:APQ5  \\\n",
       "MDVP:Shimmer          1.000000          0.987258      0.987625      0.982835   \n",
       "MDVP:Shimmer(dB)      0.987258          1.000000      0.963198      0.973751   \n",
       "Shimmer:APQ3          0.987625          0.963198      1.000000      0.960070   \n",
       "Shimmer:APQ5          0.982835          0.973751      0.960070      1.000000   \n",
       "Shimmer:DDA           0.987626          0.963202      1.000000      0.960072   \n",
       "\n",
       "                  Shimmer:DDA  \n",
       "MDVP:Shimmer         0.987626  \n",
       "MDVP:Shimmer(dB)     0.963202  \n",
       "Shimmer:APQ3         1.000000  \n",
       "Shimmer:APQ5         0.960072  \n",
       "Shimmer:DDA          1.000000  "
      ]
     },
     "execution_count": 132,
     "metadata": {},
     "output_type": "execute_result"
    }
   ],
   "source": [
    "### loooking at the ralationship between MDVP:Shimmer,MDVP:Shimmer(dB),Shimmer:APQ3,Shimmer:APQ5 and Shimmer:DDA \n",
    "Parkinson_data[['MDVP:Shimmer','MDVP:Shimmer(dB)','Shimmer:APQ3','Shimmer:APQ5','Shimmer:DDA']].corr()"
   ]
  },
  {
   "cell_type": "markdown",
   "id": "4cdc0525",
   "metadata": {},
   "source": [
    "All the columns have a very strong relationship among each other with  correlation value from 0.9 to 1.0"
   ]
  },
  {
   "cell_type": "markdown",
   "id": "26ff58ab",
   "metadata": {},
   "source": [
    "### NHR  AGAINST HNR AND status"
   ]
  },
  {
   "cell_type": "code",
   "execution_count": 133,
   "id": "de2e706c",
   "metadata": {},
   "outputs": [
    {
     "data": {
      "text/html": [
       "<div>\n",
       "<style scoped>\n",
       "    .dataframe tbody tr th:only-of-type {\n",
       "        vertical-align: middle;\n",
       "    }\n",
       "\n",
       "    .dataframe tbody tr th {\n",
       "        vertical-align: top;\n",
       "    }\n",
       "\n",
       "    .dataframe thead th {\n",
       "        text-align: right;\n",
       "    }\n",
       "</style>\n",
       "<table border=\"1\" class=\"dataframe\">\n",
       "  <thead>\n",
       "    <tr style=\"text-align: right;\">\n",
       "      <th></th>\n",
       "      <th>NHR</th>\n",
       "      <th>HNR</th>\n",
       "      <th>status</th>\n",
       "    </tr>\n",
       "  </thead>\n",
       "  <tbody>\n",
       "    <tr>\n",
       "      <th>0</th>\n",
       "      <td>0.02211</td>\n",
       "      <td>21.033</td>\n",
       "      <td>1</td>\n",
       "    </tr>\n",
       "    <tr>\n",
       "      <th>1</th>\n",
       "      <td>0.01929</td>\n",
       "      <td>19.085</td>\n",
       "      <td>1</td>\n",
       "    </tr>\n",
       "    <tr>\n",
       "      <th>2</th>\n",
       "      <td>0.01309</td>\n",
       "      <td>20.651</td>\n",
       "      <td>1</td>\n",
       "    </tr>\n",
       "    <tr>\n",
       "      <th>3</th>\n",
       "      <td>0.01353</td>\n",
       "      <td>20.644</td>\n",
       "      <td>1</td>\n",
       "    </tr>\n",
       "    <tr>\n",
       "      <th>4</th>\n",
       "      <td>0.01767</td>\n",
       "      <td>19.649</td>\n",
       "      <td>1</td>\n",
       "    </tr>\n",
       "  </tbody>\n",
       "</table>\n",
       "</div>"
      ],
      "text/plain": [
       "       NHR     HNR  status\n",
       "0  0.02211  21.033       1\n",
       "1  0.01929  19.085       1\n",
       "2  0.01309  20.651       1\n",
       "3  0.01353  20.644       1\n",
       "4  0.01767  19.649       1"
      ]
     },
     "execution_count": 133,
     "metadata": {},
     "output_type": "execute_result"
    }
   ],
   "source": [
    "### loooking at NHR,HNR and status column\n",
    "Parkinson_data[['NHR','HNR','status']].head()"
   ]
  },
  {
   "cell_type": "code",
   "execution_count": 134,
   "id": "08832fb8",
   "metadata": {},
   "outputs": [
    {
     "data": {
      "text/html": [
       "<div>\n",
       "<style scoped>\n",
       "    .dataframe tbody tr th:only-of-type {\n",
       "        vertical-align: middle;\n",
       "    }\n",
       "\n",
       "    .dataframe tbody tr th {\n",
       "        vertical-align: top;\n",
       "    }\n",
       "\n",
       "    .dataframe thead th {\n",
       "        text-align: right;\n",
       "    }\n",
       "</style>\n",
       "<table border=\"1\" class=\"dataframe\">\n",
       "  <thead>\n",
       "    <tr style=\"text-align: right;\">\n",
       "      <th></th>\n",
       "      <th>NHR</th>\n",
       "      <th>HNR</th>\n",
       "      <th>status</th>\n",
       "    </tr>\n",
       "  </thead>\n",
       "  <tbody>\n",
       "    <tr>\n",
       "      <th>NHR</th>\n",
       "      <td>1.000000</td>\n",
       "      <td>-0.714072</td>\n",
       "      <td>0.189429</td>\n",
       "    </tr>\n",
       "    <tr>\n",
       "      <th>HNR</th>\n",
       "      <td>-0.714072</td>\n",
       "      <td>1.000000</td>\n",
       "      <td>-0.361515</td>\n",
       "    </tr>\n",
       "    <tr>\n",
       "      <th>status</th>\n",
       "      <td>0.189429</td>\n",
       "      <td>-0.361515</td>\n",
       "      <td>1.000000</td>\n",
       "    </tr>\n",
       "  </tbody>\n",
       "</table>\n",
       "</div>"
      ],
      "text/plain": [
       "             NHR       HNR    status\n",
       "NHR     1.000000 -0.714072  0.189429\n",
       "HNR    -0.714072  1.000000 -0.361515\n",
       "status  0.189429 -0.361515  1.000000"
      ]
     },
     "execution_count": 134,
     "metadata": {},
     "output_type": "execute_result"
    }
   ],
   "source": [
    "### loooking at the realationship between NHR,HNR and status column\n",
    "Parkinson_data[['NHR','HNR','status']].corr()"
   ]
  },
  {
   "cell_type": "markdown",
   "id": "f3ce025f",
   "metadata": {},
   "source": [
    "The status column has very weak relatioship between NHR(Noise To Harmonics Ratio) and HNR(Harmonics To Noise Ratio).NHR(Noise To Harmonics Ratio) and HNR(Harmonics To Noise Ratio) have a perfect negative relatioship between each other  "
   ]
  },
  {
   "cell_type": "markdown",
   "id": "7c703b79",
   "metadata": {},
   "source": [
    "### RPDE VS DFA VS D2 VS  PPE"
   ]
  },
  {
   "cell_type": "code",
   "execution_count": 135,
   "id": "7c8a9397",
   "metadata": {},
   "outputs": [
    {
     "data": {
      "text/html": [
       "<div>\n",
       "<style scoped>\n",
       "    .dataframe tbody tr th:only-of-type {\n",
       "        vertical-align: middle;\n",
       "    }\n",
       "\n",
       "    .dataframe tbody tr th {\n",
       "        vertical-align: top;\n",
       "    }\n",
       "\n",
       "    .dataframe thead th {\n",
       "        text-align: right;\n",
       "    }\n",
       "</style>\n",
       "<table border=\"1\" class=\"dataframe\">\n",
       "  <thead>\n",
       "    <tr style=\"text-align: right;\">\n",
       "      <th></th>\n",
       "      <th>RPDE</th>\n",
       "      <th>DFA</th>\n",
       "      <th>D2</th>\n",
       "      <th>PPE</th>\n",
       "    </tr>\n",
       "  </thead>\n",
       "  <tbody>\n",
       "    <tr>\n",
       "      <th>0</th>\n",
       "      <td>0.414783</td>\n",
       "      <td>0.815285</td>\n",
       "      <td>2.301442</td>\n",
       "      <td>0.284654</td>\n",
       "    </tr>\n",
       "    <tr>\n",
       "      <th>1</th>\n",
       "      <td>0.458359</td>\n",
       "      <td>0.819521</td>\n",
       "      <td>2.486855</td>\n",
       "      <td>0.368674</td>\n",
       "    </tr>\n",
       "    <tr>\n",
       "      <th>2</th>\n",
       "      <td>0.429895</td>\n",
       "      <td>0.825288</td>\n",
       "      <td>2.342259</td>\n",
       "      <td>0.332634</td>\n",
       "    </tr>\n",
       "    <tr>\n",
       "      <th>3</th>\n",
       "      <td>0.434969</td>\n",
       "      <td>0.819235</td>\n",
       "      <td>2.405554</td>\n",
       "      <td>0.368975</td>\n",
       "    </tr>\n",
       "    <tr>\n",
       "      <th>4</th>\n",
       "      <td>0.417356</td>\n",
       "      <td>0.823484</td>\n",
       "      <td>2.332180</td>\n",
       "      <td>0.410335</td>\n",
       "    </tr>\n",
       "  </tbody>\n",
       "</table>\n",
       "</div>"
      ],
      "text/plain": [
       "       RPDE       DFA        D2       PPE\n",
       "0  0.414783  0.815285  2.301442  0.284654\n",
       "1  0.458359  0.819521  2.486855  0.368674\n",
       "2  0.429895  0.825288  2.342259  0.332634\n",
       "3  0.434969  0.819235  2.405554  0.368975\n",
       "4  0.417356  0.823484  2.332180  0.410335"
      ]
     },
     "execution_count": 135,
     "metadata": {},
     "output_type": "execute_result"
    }
   ],
   "source": [
    "### loooking at RPDE,DFA,D2 and PPE column\n",
    "Parkinson_data[['RPDE','DFA','D2','PPE']].head()"
   ]
  },
  {
   "cell_type": "code",
   "execution_count": 136,
   "id": "cf05befa",
   "metadata": {},
   "outputs": [
    {
     "data": {
      "text/html": [
       "<div>\n",
       "<style scoped>\n",
       "    .dataframe tbody tr th:only-of-type {\n",
       "        vertical-align: middle;\n",
       "    }\n",
       "\n",
       "    .dataframe tbody tr th {\n",
       "        vertical-align: top;\n",
       "    }\n",
       "\n",
       "    .dataframe thead th {\n",
       "        text-align: right;\n",
       "    }\n",
       "</style>\n",
       "<table border=\"1\" class=\"dataframe\">\n",
       "  <thead>\n",
       "    <tr style=\"text-align: right;\">\n",
       "      <th></th>\n",
       "      <th>RPDE</th>\n",
       "      <th>DFA</th>\n",
       "      <th>D2</th>\n",
       "      <th>PPE</th>\n",
       "    </tr>\n",
       "  </thead>\n",
       "  <tbody>\n",
       "    <tr>\n",
       "      <th>RPDE</th>\n",
       "      <td>1.000000</td>\n",
       "      <td>-0.110950</td>\n",
       "      <td>0.236931</td>\n",
       "      <td>0.545886</td>\n",
       "    </tr>\n",
       "    <tr>\n",
       "      <th>DFA</th>\n",
       "      <td>-0.110950</td>\n",
       "      <td>1.000000</td>\n",
       "      <td>-0.165381</td>\n",
       "      <td>0.270445</td>\n",
       "    </tr>\n",
       "    <tr>\n",
       "      <th>D2</th>\n",
       "      <td>0.236931</td>\n",
       "      <td>-0.165381</td>\n",
       "      <td>1.000000</td>\n",
       "      <td>0.480585</td>\n",
       "    </tr>\n",
       "    <tr>\n",
       "      <th>PPE</th>\n",
       "      <td>0.545886</td>\n",
       "      <td>0.270445</td>\n",
       "      <td>0.480585</td>\n",
       "      <td>1.000000</td>\n",
       "    </tr>\n",
       "  </tbody>\n",
       "</table>\n",
       "</div>"
      ],
      "text/plain": [
       "          RPDE       DFA        D2       PPE\n",
       "RPDE  1.000000 -0.110950  0.236931  0.545886\n",
       "DFA  -0.110950  1.000000 -0.165381  0.270445\n",
       "D2    0.236931 -0.165381  1.000000  0.480585\n",
       "PPE   0.545886  0.270445  0.480585  1.000000"
      ]
     },
     "execution_count": 136,
     "metadata": {},
     "output_type": "execute_result"
    }
   ],
   "source": [
    "### loooking at the relationship between RPDE,DFA,D2 and PPE column\n",
    "Parkinson_data[['RPDE','DFA','D2','PPE']].corr()"
   ]
  },
  {
   "cell_type": "markdown",
   "id": "f3a4d0e2",
   "metadata": {},
   "source": [
    "There is perfect negative correlation between RPDE(Recurrence Period Density Entropy Measure),DFA(Detrended Fluctuation Analysis) and D2(Correlation Dimension). There is a weak and medium correlation between PPE(Pitch Period Entropy),RPDE(Recurrence Period Density Entropy Measure),DFA(Detrended FluctuationAnalysis) and D2(Correlation Dimension)"
   ]
  },
  {
   "cell_type": "markdown",
   "id": "e1d46236",
   "metadata": {},
   "source": [
    "### spread1 AGAINST spread2"
   ]
  },
  {
   "cell_type": "code",
   "execution_count": 137,
   "id": "f310f901",
   "metadata": {},
   "outputs": [
    {
     "data": {
      "text/html": [
       "<div>\n",
       "<style scoped>\n",
       "    .dataframe tbody tr th:only-of-type {\n",
       "        vertical-align: middle;\n",
       "    }\n",
       "\n",
       "    .dataframe tbody tr th {\n",
       "        vertical-align: top;\n",
       "    }\n",
       "\n",
       "    .dataframe thead th {\n",
       "        text-align: right;\n",
       "    }\n",
       "</style>\n",
       "<table border=\"1\" class=\"dataframe\">\n",
       "  <thead>\n",
       "    <tr style=\"text-align: right;\">\n",
       "      <th></th>\n",
       "      <th>spread1</th>\n",
       "      <th>spread2</th>\n",
       "    </tr>\n",
       "  </thead>\n",
       "  <tbody>\n",
       "    <tr>\n",
       "      <th>0</th>\n",
       "      <td>-4.813031</td>\n",
       "      <td>0.266482</td>\n",
       "    </tr>\n",
       "    <tr>\n",
       "      <th>1</th>\n",
       "      <td>-4.075192</td>\n",
       "      <td>0.335590</td>\n",
       "    </tr>\n",
       "    <tr>\n",
       "      <th>2</th>\n",
       "      <td>-4.443179</td>\n",
       "      <td>0.311173</td>\n",
       "    </tr>\n",
       "    <tr>\n",
       "      <th>3</th>\n",
       "      <td>-4.117501</td>\n",
       "      <td>0.334147</td>\n",
       "    </tr>\n",
       "    <tr>\n",
       "      <th>4</th>\n",
       "      <td>-3.747787</td>\n",
       "      <td>0.234513</td>\n",
       "    </tr>\n",
       "  </tbody>\n",
       "</table>\n",
       "</div>"
      ],
      "text/plain": [
       "    spread1   spread2\n",
       "0 -4.813031  0.266482\n",
       "1 -4.075192  0.335590\n",
       "2 -4.443179  0.311173\n",
       "3 -4.117501  0.334147\n",
       "4 -3.747787  0.234513"
      ]
     },
     "execution_count": 137,
     "metadata": {},
     "output_type": "execute_result"
    }
   ],
   "source": [
    "### loooking at spread1 and spread2 column\n",
    "Parkinson_data[['spread1','spread2']].head()"
   ]
  },
  {
   "cell_type": "code",
   "execution_count": 138,
   "id": "a040fdbe",
   "metadata": {},
   "outputs": [
    {
     "data": {
      "text/html": [
       "<div>\n",
       "<style scoped>\n",
       "    .dataframe tbody tr th:only-of-type {\n",
       "        vertical-align: middle;\n",
       "    }\n",
       "\n",
       "    .dataframe tbody tr th {\n",
       "        vertical-align: top;\n",
       "    }\n",
       "\n",
       "    .dataframe thead th {\n",
       "        text-align: right;\n",
       "    }\n",
       "</style>\n",
       "<table border=\"1\" class=\"dataframe\">\n",
       "  <thead>\n",
       "    <tr style=\"text-align: right;\">\n",
       "      <th></th>\n",
       "      <th>spread1</th>\n",
       "      <th>spread2</th>\n",
       "    </tr>\n",
       "  </thead>\n",
       "  <tbody>\n",
       "    <tr>\n",
       "      <th>spread1</th>\n",
       "      <td>1.000000</td>\n",
       "      <td>0.652358</td>\n",
       "    </tr>\n",
       "    <tr>\n",
       "      <th>spread2</th>\n",
       "      <td>0.652358</td>\n",
       "      <td>1.000000</td>\n",
       "    </tr>\n",
       "  </tbody>\n",
       "</table>\n",
       "</div>"
      ],
      "text/plain": [
       "          spread1   spread2\n",
       "spread1  1.000000  0.652358\n",
       "spread2  0.652358  1.000000"
      ]
     },
     "execution_count": 138,
     "metadata": {},
     "output_type": "execute_result"
    }
   ],
   "source": [
    "### loooking at  relationship between spread1 and spread2 column\n",
    "Parkinson_data[['spread1','spread2']].corr()"
   ]
  },
  {
   "cell_type": "markdown",
   "id": "3f22a5e2",
   "metadata": {},
   "source": [
    "There is a strong correlation between spread1(Two Nonlinear Measures Of Fundamental)\tand spread2(Frequency Variation)"
   ]
  },
  {
   "cell_type": "markdown",
   "id": "6b400494",
   "metadata": {},
   "source": [
    "# MACHINE LEARNING MODULE ANALYSIS"
   ]
  },
  {
   "cell_type": "markdown",
   "id": "6ec3cc8e",
   "metadata": {},
   "source": [
    "## LOGISTICREGRESSION MODEL"
   ]
  },
  {
   "cell_type": "code",
   "execution_count": 139,
   "id": "23d552f2",
   "metadata": {},
   "outputs": [
    {
     "data": {
      "text/html": [
       "<div>\n",
       "<style scoped>\n",
       "    .dataframe tbody tr th:only-of-type {\n",
       "        vertical-align: middle;\n",
       "    }\n",
       "\n",
       "    .dataframe tbody tr th {\n",
       "        vertical-align: top;\n",
       "    }\n",
       "\n",
       "    .dataframe thead th {\n",
       "        text-align: right;\n",
       "    }\n",
       "</style>\n",
       "<table border=\"1\" class=\"dataframe\">\n",
       "  <thead>\n",
       "    <tr style=\"text-align: right;\">\n",
       "      <th></th>\n",
       "      <th>MDVP:Fo(Hz)</th>\n",
       "      <th>MDVP:Fhi(Hz)</th>\n",
       "      <th>MDVP:Flo(Hz)</th>\n",
       "      <th>MDVP:Jitter(%)</th>\n",
       "      <th>MDVP:Jitter(Abs)</th>\n",
       "      <th>MDVP:RAP</th>\n",
       "      <th>MDVP:PPQ</th>\n",
       "      <th>Jitter:DDP</th>\n",
       "      <th>MDVP:Shimmer</th>\n",
       "      <th>MDVP:Shimmer(dB)</th>\n",
       "      <th>...</th>\n",
       "      <th>Shimmer:DDA</th>\n",
       "      <th>NHR</th>\n",
       "      <th>HNR</th>\n",
       "      <th>status</th>\n",
       "      <th>RPDE</th>\n",
       "      <th>DFA</th>\n",
       "      <th>spread1</th>\n",
       "      <th>spread2</th>\n",
       "      <th>D2</th>\n",
       "      <th>PPE</th>\n",
       "    </tr>\n",
       "  </thead>\n",
       "  <tbody>\n",
       "    <tr>\n",
       "      <th>0</th>\n",
       "      <td>119.992</td>\n",
       "      <td>157.302</td>\n",
       "      <td>74.997</td>\n",
       "      <td>0.00784</td>\n",
       "      <td>0.00007</td>\n",
       "      <td>0.00370</td>\n",
       "      <td>0.00554</td>\n",
       "      <td>0.01109</td>\n",
       "      <td>0.04374</td>\n",
       "      <td>0.426</td>\n",
       "      <td>...</td>\n",
       "      <td>0.06545</td>\n",
       "      <td>0.02211</td>\n",
       "      <td>21.033</td>\n",
       "      <td>1</td>\n",
       "      <td>0.414783</td>\n",
       "      <td>0.815285</td>\n",
       "      <td>-4.813031</td>\n",
       "      <td>0.266482</td>\n",
       "      <td>2.301442</td>\n",
       "      <td>0.284654</td>\n",
       "    </tr>\n",
       "    <tr>\n",
       "      <th>1</th>\n",
       "      <td>122.400</td>\n",
       "      <td>148.650</td>\n",
       "      <td>113.819</td>\n",
       "      <td>0.00968</td>\n",
       "      <td>0.00008</td>\n",
       "      <td>0.00465</td>\n",
       "      <td>0.00696</td>\n",
       "      <td>0.01394</td>\n",
       "      <td>0.06134</td>\n",
       "      <td>0.626</td>\n",
       "      <td>...</td>\n",
       "      <td>0.09403</td>\n",
       "      <td>0.01929</td>\n",
       "      <td>19.085</td>\n",
       "      <td>1</td>\n",
       "      <td>0.458359</td>\n",
       "      <td>0.819521</td>\n",
       "      <td>-4.075192</td>\n",
       "      <td>0.335590</td>\n",
       "      <td>2.486855</td>\n",
       "      <td>0.368674</td>\n",
       "    </tr>\n",
       "    <tr>\n",
       "      <th>2</th>\n",
       "      <td>116.682</td>\n",
       "      <td>131.111</td>\n",
       "      <td>111.555</td>\n",
       "      <td>0.01050</td>\n",
       "      <td>0.00009</td>\n",
       "      <td>0.00544</td>\n",
       "      <td>0.00781</td>\n",
       "      <td>0.01633</td>\n",
       "      <td>0.05233</td>\n",
       "      <td>0.482</td>\n",
       "      <td>...</td>\n",
       "      <td>0.08270</td>\n",
       "      <td>0.01309</td>\n",
       "      <td>20.651</td>\n",
       "      <td>1</td>\n",
       "      <td>0.429895</td>\n",
       "      <td>0.825288</td>\n",
       "      <td>-4.443179</td>\n",
       "      <td>0.311173</td>\n",
       "      <td>2.342259</td>\n",
       "      <td>0.332634</td>\n",
       "    </tr>\n",
       "    <tr>\n",
       "      <th>3</th>\n",
       "      <td>116.676</td>\n",
       "      <td>137.871</td>\n",
       "      <td>111.366</td>\n",
       "      <td>0.00997</td>\n",
       "      <td>0.00009</td>\n",
       "      <td>0.00502</td>\n",
       "      <td>0.00698</td>\n",
       "      <td>0.01505</td>\n",
       "      <td>0.05492</td>\n",
       "      <td>0.517</td>\n",
       "      <td>...</td>\n",
       "      <td>0.08771</td>\n",
       "      <td>0.01353</td>\n",
       "      <td>20.644</td>\n",
       "      <td>1</td>\n",
       "      <td>0.434969</td>\n",
       "      <td>0.819235</td>\n",
       "      <td>-4.117501</td>\n",
       "      <td>0.334147</td>\n",
       "      <td>2.405554</td>\n",
       "      <td>0.368975</td>\n",
       "    </tr>\n",
       "    <tr>\n",
       "      <th>4</th>\n",
       "      <td>116.014</td>\n",
       "      <td>141.781</td>\n",
       "      <td>110.655</td>\n",
       "      <td>0.01284</td>\n",
       "      <td>0.00011</td>\n",
       "      <td>0.00655</td>\n",
       "      <td>0.00908</td>\n",
       "      <td>0.01966</td>\n",
       "      <td>0.06425</td>\n",
       "      <td>0.584</td>\n",
       "      <td>...</td>\n",
       "      <td>0.10470</td>\n",
       "      <td>0.01767</td>\n",
       "      <td>19.649</td>\n",
       "      <td>1</td>\n",
       "      <td>0.417356</td>\n",
       "      <td>0.823484</td>\n",
       "      <td>-3.747787</td>\n",
       "      <td>0.234513</td>\n",
       "      <td>2.332180</td>\n",
       "      <td>0.410335</td>\n",
       "    </tr>\n",
       "  </tbody>\n",
       "</table>\n",
       "<p>5 rows × 23 columns</p>\n",
       "</div>"
      ],
      "text/plain": [
       "   MDVP:Fo(Hz)  MDVP:Fhi(Hz)  MDVP:Flo(Hz)  MDVP:Jitter(%)  MDVP:Jitter(Abs)  \\\n",
       "0      119.992       157.302        74.997         0.00784           0.00007   \n",
       "1      122.400       148.650       113.819         0.00968           0.00008   \n",
       "2      116.682       131.111       111.555         0.01050           0.00009   \n",
       "3      116.676       137.871       111.366         0.00997           0.00009   \n",
       "4      116.014       141.781       110.655         0.01284           0.00011   \n",
       "\n",
       "   MDVP:RAP  MDVP:PPQ  Jitter:DDP  MDVP:Shimmer  MDVP:Shimmer(dB)  ...  \\\n",
       "0   0.00370   0.00554     0.01109       0.04374             0.426  ...   \n",
       "1   0.00465   0.00696     0.01394       0.06134             0.626  ...   \n",
       "2   0.00544   0.00781     0.01633       0.05233             0.482  ...   \n",
       "3   0.00502   0.00698     0.01505       0.05492             0.517  ...   \n",
       "4   0.00655   0.00908     0.01966       0.06425             0.584  ...   \n",
       "\n",
       "   Shimmer:DDA      NHR     HNR  status      RPDE       DFA   spread1  \\\n",
       "0      0.06545  0.02211  21.033       1  0.414783  0.815285 -4.813031   \n",
       "1      0.09403  0.01929  19.085       1  0.458359  0.819521 -4.075192   \n",
       "2      0.08270  0.01309  20.651       1  0.429895  0.825288 -4.443179   \n",
       "3      0.08771  0.01353  20.644       1  0.434969  0.819235 -4.117501   \n",
       "4      0.10470  0.01767  19.649       1  0.417356  0.823484 -3.747787   \n",
       "\n",
       "    spread2        D2       PPE  \n",
       "0  0.266482  2.301442  0.284654  \n",
       "1  0.335590  2.486855  0.368674  \n",
       "2  0.311173  2.342259  0.332634  \n",
       "3  0.334147  2.405554  0.368975  \n",
       "4  0.234513  2.332180  0.410335  \n",
       "\n",
       "[5 rows x 23 columns]"
      ]
     },
     "execution_count": 139,
     "metadata": {},
     "output_type": "execute_result"
    }
   ],
   "source": [
    "### focusing on this dataset for the LOGISTICREGRESSION MODEL\n",
    "new_data.head()"
   ]
  },
  {
   "cell_type": "code",
   "execution_count": 140,
   "id": "278867fc",
   "metadata": {},
   "outputs": [],
   "source": [
    "### using status column as our target \n",
    "y=new_data['status']"
   ]
  },
  {
   "cell_type": "code",
   "execution_count": 141,
   "id": "c6cd0ad0",
   "metadata": {},
   "outputs": [],
   "source": [
    "### dropping status column  \n",
    "X=new_data.drop('status',axis=1)"
   ]
  },
  {
   "cell_type": "code",
   "execution_count": 142,
   "id": "17d1ba78",
   "metadata": {},
   "outputs": [],
   "source": [
    "### splitting the dataset into training and testing\n",
    "X_train,X_test,y_train,y_test= train_test_split(X,y)"
   ]
  },
  {
   "cell_type": "code",
   "execution_count": 143,
   "id": "98db1229",
   "metadata": {},
   "outputs": [],
   "source": [
    "### using logisticRegression as the model\n",
    "model = LogisticRegression()"
   ]
  },
  {
   "cell_type": "code",
   "execution_count": 144,
   "id": "8029d15c",
   "metadata": {},
   "outputs": [
    {
     "name": "stderr",
     "output_type": "stream",
     "text": [
      "C:\\Users\\USER\\.docker\\anacondapython docs\\lib\\site-packages\\sklearn\\linear_model\\_logistic.py:763: ConvergenceWarning: lbfgs failed to converge (status=1):\n",
      "STOP: TOTAL NO. of ITERATIONS REACHED LIMIT.\n",
      "\n",
      "Increase the number of iterations (max_iter) or scale the data as shown in:\n",
      "    https://scikit-learn.org/stable/modules/preprocessing.html\n",
      "Please also refer to the documentation for alternative solver options:\n",
      "    https://scikit-learn.org/stable/modules/linear_model.html#logistic-regression\n",
      "  n_iter_i = _check_optimize_result(\n"
     ]
    },
    {
     "data": {
      "text/plain": [
       "LogisticRegression()"
      ]
     },
     "execution_count": 144,
     "metadata": {},
     "output_type": "execute_result"
    }
   ],
   "source": [
    "### since the  model is empty,we need to fill it by training it,giving the model the questions and answers\n",
    "model.fit(X_train,y_train)"
   ]
  },
  {
   "cell_type": "code",
   "execution_count": 145,
   "id": "77541efc",
   "metadata": {},
   "outputs": [
    {
     "data": {
      "text/plain": [
       "array([1, 1, 1, 0, 0, 1, 1, 1, 1, 1, 1, 1, 1, 1, 1, 1, 1, 0, 1, 1, 1, 1,\n",
       "       1, 1, 1, 1, 0, 1, 0, 1, 1, 1, 0, 1, 1, 1, 1, 1, 1, 0, 0, 1, 1, 0,\n",
       "       1, 1, 1, 1, 1], dtype=int64)"
      ]
     },
     "execution_count": 145,
     "metadata": {},
     "output_type": "execute_result"
    }
   ],
   "source": [
    "### giving the model the questions to predict the answers \n",
    "model.predict(X_test)"
   ]
  },
  {
   "cell_type": "code",
   "execution_count": 146,
   "id": "819d7511",
   "metadata": {},
   "outputs": [
    {
     "data": {
      "text/plain": [
       "177    1\n",
       "4      1\n",
       "112    1\n",
       "30     0\n",
       "105    1\n",
       "190    0\n",
       "3      1\n",
       "7      1\n",
       "80     1\n",
       "57     1\n",
       "120    1\n",
       "37     1\n",
       "83     1\n",
       "133    1\n",
       "66     1\n",
       "151    1\n",
       "135    1\n",
       "62     0\n",
       "175    0\n",
       "160    1\n",
       "69     1\n",
       "58     1\n",
       "20     1\n",
       "50     0\n",
       "191    0\n",
       "87     1\n",
       "35     0\n",
       "116    1\n",
       "46     0\n",
       "161    1\n",
       "107    1\n",
       "184    0\n",
       "41     1\n",
       "68     1\n",
       "126    1\n",
       "137    1\n",
       "136    1\n",
       "124    1\n",
       "48     0\n",
       "45     0\n",
       "106    1\n",
       "121    1\n",
       "85     1\n",
       "33     0\n",
       "12     1\n",
       "109    1\n",
       "182    1\n",
       "14     1\n",
       "49     0\n",
       "Name: status, dtype: int64"
      ]
     },
     "execution_count": 146,
     "metadata": {},
     "output_type": "execute_result"
    }
   ],
   "source": [
    "y_test"
   ]
  },
  {
   "cell_type": "code",
   "execution_count": 147,
   "id": "7ad72dc8",
   "metadata": {},
   "outputs": [
    {
     "data": {
      "text/plain": [
       "array([1, 1, 1, 0, 1, 0, 1, 1, 1, 1, 1, 1, 1, 1, 1, 1, 1, 0, 0, 1, 1, 1,\n",
       "       1, 0, 0, 1, 0, 1, 0, 1, 1, 0, 1, 1, 1, 1, 1, 1, 0, 0, 1, 1, 1, 0,\n",
       "       1, 1, 1, 1, 0], dtype=int64)"
      ]
     },
     "execution_count": 147,
     "metadata": {},
     "output_type": "execute_result"
    }
   ],
   "source": [
    "### placing in an array\n",
    "np.array(y_test)"
   ]
  },
  {
   "cell_type": "code",
   "execution_count": 148,
   "id": "ec1e9648",
   "metadata": {},
   "outputs": [
    {
     "data": {
      "text/plain": [
       "0.7959183673469388"
      ]
     },
     "execution_count": 148,
     "metadata": {},
     "output_type": "execute_result"
    }
   ],
   "source": [
    "### counting the predicted values and actual value and checking accuracy\n",
    "accuracy_score(np.array(y_test),model.predict(X_test))"
   ]
  },
  {
   "cell_type": "markdown",
   "id": "95b5ce0e",
   "metadata": {},
   "source": [
    "## RANDOM FOREST"
   ]
  },
  {
   "cell_type": "code",
   "execution_count": 149,
   "id": "7e601e91",
   "metadata": {},
   "outputs": [
    {
     "data": {
      "text/html": [
       "<div>\n",
       "<style scoped>\n",
       "    .dataframe tbody tr th:only-of-type {\n",
       "        vertical-align: middle;\n",
       "    }\n",
       "\n",
       "    .dataframe tbody tr th {\n",
       "        vertical-align: top;\n",
       "    }\n",
       "\n",
       "    .dataframe thead th {\n",
       "        text-align: right;\n",
       "    }\n",
       "</style>\n",
       "<table border=\"1\" class=\"dataframe\">\n",
       "  <thead>\n",
       "    <tr style=\"text-align: right;\">\n",
       "      <th></th>\n",
       "      <th>MDVP:Fo(Hz)</th>\n",
       "      <th>MDVP:Fhi(Hz)</th>\n",
       "      <th>MDVP:Flo(Hz)</th>\n",
       "      <th>MDVP:Jitter(%)</th>\n",
       "      <th>MDVP:Jitter(Abs)</th>\n",
       "      <th>MDVP:RAP</th>\n",
       "      <th>MDVP:PPQ</th>\n",
       "      <th>Jitter:DDP</th>\n",
       "      <th>MDVP:Shimmer</th>\n",
       "      <th>MDVP:Shimmer(dB)</th>\n",
       "      <th>...</th>\n",
       "      <th>Shimmer:DDA</th>\n",
       "      <th>NHR</th>\n",
       "      <th>HNR</th>\n",
       "      <th>status</th>\n",
       "      <th>RPDE</th>\n",
       "      <th>DFA</th>\n",
       "      <th>spread1</th>\n",
       "      <th>spread2</th>\n",
       "      <th>D2</th>\n",
       "      <th>PPE</th>\n",
       "    </tr>\n",
       "  </thead>\n",
       "  <tbody>\n",
       "    <tr>\n",
       "      <th>0</th>\n",
       "      <td>119.992</td>\n",
       "      <td>157.302</td>\n",
       "      <td>74.997</td>\n",
       "      <td>0.00784</td>\n",
       "      <td>0.00007</td>\n",
       "      <td>0.00370</td>\n",
       "      <td>0.00554</td>\n",
       "      <td>0.01109</td>\n",
       "      <td>0.04374</td>\n",
       "      <td>0.426</td>\n",
       "      <td>...</td>\n",
       "      <td>0.06545</td>\n",
       "      <td>0.02211</td>\n",
       "      <td>21.033</td>\n",
       "      <td>1</td>\n",
       "      <td>0.414783</td>\n",
       "      <td>0.815285</td>\n",
       "      <td>-4.813031</td>\n",
       "      <td>0.266482</td>\n",
       "      <td>2.301442</td>\n",
       "      <td>0.284654</td>\n",
       "    </tr>\n",
       "    <tr>\n",
       "      <th>1</th>\n",
       "      <td>122.400</td>\n",
       "      <td>148.650</td>\n",
       "      <td>113.819</td>\n",
       "      <td>0.00968</td>\n",
       "      <td>0.00008</td>\n",
       "      <td>0.00465</td>\n",
       "      <td>0.00696</td>\n",
       "      <td>0.01394</td>\n",
       "      <td>0.06134</td>\n",
       "      <td>0.626</td>\n",
       "      <td>...</td>\n",
       "      <td>0.09403</td>\n",
       "      <td>0.01929</td>\n",
       "      <td>19.085</td>\n",
       "      <td>1</td>\n",
       "      <td>0.458359</td>\n",
       "      <td>0.819521</td>\n",
       "      <td>-4.075192</td>\n",
       "      <td>0.335590</td>\n",
       "      <td>2.486855</td>\n",
       "      <td>0.368674</td>\n",
       "    </tr>\n",
       "    <tr>\n",
       "      <th>2</th>\n",
       "      <td>116.682</td>\n",
       "      <td>131.111</td>\n",
       "      <td>111.555</td>\n",
       "      <td>0.01050</td>\n",
       "      <td>0.00009</td>\n",
       "      <td>0.00544</td>\n",
       "      <td>0.00781</td>\n",
       "      <td>0.01633</td>\n",
       "      <td>0.05233</td>\n",
       "      <td>0.482</td>\n",
       "      <td>...</td>\n",
       "      <td>0.08270</td>\n",
       "      <td>0.01309</td>\n",
       "      <td>20.651</td>\n",
       "      <td>1</td>\n",
       "      <td>0.429895</td>\n",
       "      <td>0.825288</td>\n",
       "      <td>-4.443179</td>\n",
       "      <td>0.311173</td>\n",
       "      <td>2.342259</td>\n",
       "      <td>0.332634</td>\n",
       "    </tr>\n",
       "    <tr>\n",
       "      <th>3</th>\n",
       "      <td>116.676</td>\n",
       "      <td>137.871</td>\n",
       "      <td>111.366</td>\n",
       "      <td>0.00997</td>\n",
       "      <td>0.00009</td>\n",
       "      <td>0.00502</td>\n",
       "      <td>0.00698</td>\n",
       "      <td>0.01505</td>\n",
       "      <td>0.05492</td>\n",
       "      <td>0.517</td>\n",
       "      <td>...</td>\n",
       "      <td>0.08771</td>\n",
       "      <td>0.01353</td>\n",
       "      <td>20.644</td>\n",
       "      <td>1</td>\n",
       "      <td>0.434969</td>\n",
       "      <td>0.819235</td>\n",
       "      <td>-4.117501</td>\n",
       "      <td>0.334147</td>\n",
       "      <td>2.405554</td>\n",
       "      <td>0.368975</td>\n",
       "    </tr>\n",
       "    <tr>\n",
       "      <th>4</th>\n",
       "      <td>116.014</td>\n",
       "      <td>141.781</td>\n",
       "      <td>110.655</td>\n",
       "      <td>0.01284</td>\n",
       "      <td>0.00011</td>\n",
       "      <td>0.00655</td>\n",
       "      <td>0.00908</td>\n",
       "      <td>0.01966</td>\n",
       "      <td>0.06425</td>\n",
       "      <td>0.584</td>\n",
       "      <td>...</td>\n",
       "      <td>0.10470</td>\n",
       "      <td>0.01767</td>\n",
       "      <td>19.649</td>\n",
       "      <td>1</td>\n",
       "      <td>0.417356</td>\n",
       "      <td>0.823484</td>\n",
       "      <td>-3.747787</td>\n",
       "      <td>0.234513</td>\n",
       "      <td>2.332180</td>\n",
       "      <td>0.410335</td>\n",
       "    </tr>\n",
       "  </tbody>\n",
       "</table>\n",
       "<p>5 rows × 23 columns</p>\n",
       "</div>"
      ],
      "text/plain": [
       "   MDVP:Fo(Hz)  MDVP:Fhi(Hz)  MDVP:Flo(Hz)  MDVP:Jitter(%)  MDVP:Jitter(Abs)  \\\n",
       "0      119.992       157.302        74.997         0.00784           0.00007   \n",
       "1      122.400       148.650       113.819         0.00968           0.00008   \n",
       "2      116.682       131.111       111.555         0.01050           0.00009   \n",
       "3      116.676       137.871       111.366         0.00997           0.00009   \n",
       "4      116.014       141.781       110.655         0.01284           0.00011   \n",
       "\n",
       "   MDVP:RAP  MDVP:PPQ  Jitter:DDP  MDVP:Shimmer  MDVP:Shimmer(dB)  ...  \\\n",
       "0   0.00370   0.00554     0.01109       0.04374             0.426  ...   \n",
       "1   0.00465   0.00696     0.01394       0.06134             0.626  ...   \n",
       "2   0.00544   0.00781     0.01633       0.05233             0.482  ...   \n",
       "3   0.00502   0.00698     0.01505       0.05492             0.517  ...   \n",
       "4   0.00655   0.00908     0.01966       0.06425             0.584  ...   \n",
       "\n",
       "   Shimmer:DDA      NHR     HNR  status      RPDE       DFA   spread1  \\\n",
       "0      0.06545  0.02211  21.033       1  0.414783  0.815285 -4.813031   \n",
       "1      0.09403  0.01929  19.085       1  0.458359  0.819521 -4.075192   \n",
       "2      0.08270  0.01309  20.651       1  0.429895  0.825288 -4.443179   \n",
       "3      0.08771  0.01353  20.644       1  0.434969  0.819235 -4.117501   \n",
       "4      0.10470  0.01767  19.649       1  0.417356  0.823484 -3.747787   \n",
       "\n",
       "    spread2        D2       PPE  \n",
       "0  0.266482  2.301442  0.284654  \n",
       "1  0.335590  2.486855  0.368674  \n",
       "2  0.311173  2.342259  0.332634  \n",
       "3  0.334147  2.405554  0.368975  \n",
       "4  0.234513  2.332180  0.410335  \n",
       "\n",
       "[5 rows x 23 columns]"
      ]
     },
     "execution_count": 149,
     "metadata": {},
     "output_type": "execute_result"
    }
   ],
   "source": [
    "### focusing on this dataset for the RANDOM FOREST\n",
    "new_data.head()"
   ]
  },
  {
   "cell_type": "code",
   "execution_count": 150,
   "id": "db235fb8",
   "metadata": {},
   "outputs": [],
   "source": [
    "### using status column as target\n",
    "y=new_data['status']"
   ]
  },
  {
   "cell_type": "code",
   "execution_count": 151,
   "id": "2966a02e",
   "metadata": {},
   "outputs": [],
   "source": [
    "### Dropping status column\n",
    "x=new_data.drop('status',axis=1)"
   ]
  },
  {
   "cell_type": "code",
   "execution_count": 152,
   "id": "fe20549e",
   "metadata": {},
   "outputs": [],
   "source": [
    "### splitting the dataset into training and testing\n",
    "x_train,x_test,y_train,y_test= train_test_split(x,y, test_size =0.3)"
   ]
  },
  {
   "cell_type": "code",
   "execution_count": 153,
   "id": "d1850ef7",
   "metadata": {},
   "outputs": [],
   "source": [
    "### using RandomForestClassifier as the model and using GAUSSIAN CLASSIFIER\n",
    "model = RandomForestClassifier(n_estimators=100)"
   ]
  },
  {
   "cell_type": "code",
   "execution_count": 154,
   "id": "5cff7ce1",
   "metadata": {},
   "outputs": [
    {
     "data": {
      "text/plain": [
       "RandomForestClassifier()"
      ]
     },
     "execution_count": 154,
     "metadata": {},
     "output_type": "execute_result"
    }
   ],
   "source": [
    "### Training the model using the trauning  sets\n",
    "model.fit(x_train ,y_train)"
   ]
  },
  {
   "cell_type": "code",
   "execution_count": 155,
   "id": "8e8345b9",
   "metadata": {},
   "outputs": [
    {
     "data": {
      "text/plain": [
       "array([1, 1, 1, 1, 0, 1, 1, 1, 1, 1, 1, 1, 1, 1, 1, 1, 0, 1, 1, 1, 1, 1,\n",
       "       1, 1, 1, 1, 1, 0, 0, 1, 1, 1, 0, 1, 1, 1, 0, 1, 1, 1, 1, 1, 1, 1,\n",
       "       1, 0, 0, 1, 1, 0, 1, 0, 1, 1, 1, 0, 0, 1, 1], dtype=int64)"
      ]
     },
     "execution_count": 155,
     "metadata": {},
     "output_type": "execute_result"
    }
   ],
   "source": [
    "###### giving the model the questions to predict the answers \n",
    "y_pred=model.predict(x_test)\n",
    "y_pred"
   ]
  },
  {
   "cell_type": "code",
   "execution_count": 156,
   "id": "365df697",
   "metadata": {},
   "outputs": [
    {
     "data": {
      "text/plain": [
       "array([1, 1, 0, 1, 0, 1, 1, 1, 1, 1, 1, 1, 1, 1, 1, 1, 0, 1, 1, 1, 1, 1,\n",
       "       1, 1, 0, 1, 1, 0, 0, 1, 0, 1, 0, 1, 1, 1, 0, 1, 1, 1, 1, 1, 1, 1,\n",
       "       1, 0, 0, 1, 1, 0, 1, 1, 1, 1, 1, 0, 1, 1, 1], dtype=int64)"
      ]
     },
     "execution_count": 156,
     "metadata": {},
     "output_type": "execute_result"
    }
   ],
   "source": [
    "### putting  test in an array\n",
    "np.array(y_test)"
   ]
  },
  {
   "cell_type": "code",
   "execution_count": 169,
   "id": "ae013510",
   "metadata": {},
   "outputs": [
    {
     "name": "stdout",
     "output_type": "stream",
     "text": [
      "Accuracy: 0.8813559322033898\n"
     ]
    }
   ],
   "source": [
    "### counting the predicted values and actual value and checking accuracy\n",
    "print('Accuracy:',metrics.accuracy_score(y_test,y_pred))"
   ]
  },
  {
   "cell_type": "markdown",
   "id": "9f0697dc",
   "metadata": {},
   "source": [
    "## DECISSION TREE"
   ]
  },
  {
   "cell_type": "code",
   "execution_count": 158,
   "id": "728604dd",
   "metadata": {},
   "outputs": [
    {
     "data": {
      "text/html": [
       "<div>\n",
       "<style scoped>\n",
       "    .dataframe tbody tr th:only-of-type {\n",
       "        vertical-align: middle;\n",
       "    }\n",
       "\n",
       "    .dataframe tbody tr th {\n",
       "        vertical-align: top;\n",
       "    }\n",
       "\n",
       "    .dataframe thead th {\n",
       "        text-align: right;\n",
       "    }\n",
       "</style>\n",
       "<table border=\"1\" class=\"dataframe\">\n",
       "  <thead>\n",
       "    <tr style=\"text-align: right;\">\n",
       "      <th></th>\n",
       "      <th>MDVP:Fo(Hz)</th>\n",
       "      <th>MDVP:Fhi(Hz)</th>\n",
       "      <th>MDVP:Flo(Hz)</th>\n",
       "      <th>MDVP:Jitter(%)</th>\n",
       "      <th>MDVP:Jitter(Abs)</th>\n",
       "      <th>MDVP:RAP</th>\n",
       "      <th>MDVP:PPQ</th>\n",
       "      <th>Jitter:DDP</th>\n",
       "      <th>MDVP:Shimmer</th>\n",
       "      <th>MDVP:Shimmer(dB)</th>\n",
       "      <th>...</th>\n",
       "      <th>Shimmer:DDA</th>\n",
       "      <th>NHR</th>\n",
       "      <th>HNR</th>\n",
       "      <th>status</th>\n",
       "      <th>RPDE</th>\n",
       "      <th>DFA</th>\n",
       "      <th>spread1</th>\n",
       "      <th>spread2</th>\n",
       "      <th>D2</th>\n",
       "      <th>PPE</th>\n",
       "    </tr>\n",
       "  </thead>\n",
       "  <tbody>\n",
       "    <tr>\n",
       "      <th>0</th>\n",
       "      <td>119.992</td>\n",
       "      <td>157.302</td>\n",
       "      <td>74.997</td>\n",
       "      <td>0.00784</td>\n",
       "      <td>0.00007</td>\n",
       "      <td>0.00370</td>\n",
       "      <td>0.00554</td>\n",
       "      <td>0.01109</td>\n",
       "      <td>0.04374</td>\n",
       "      <td>0.426</td>\n",
       "      <td>...</td>\n",
       "      <td>0.06545</td>\n",
       "      <td>0.02211</td>\n",
       "      <td>21.033</td>\n",
       "      <td>1</td>\n",
       "      <td>0.414783</td>\n",
       "      <td>0.815285</td>\n",
       "      <td>-4.813031</td>\n",
       "      <td>0.266482</td>\n",
       "      <td>2.301442</td>\n",
       "      <td>0.284654</td>\n",
       "    </tr>\n",
       "    <tr>\n",
       "      <th>1</th>\n",
       "      <td>122.400</td>\n",
       "      <td>148.650</td>\n",
       "      <td>113.819</td>\n",
       "      <td>0.00968</td>\n",
       "      <td>0.00008</td>\n",
       "      <td>0.00465</td>\n",
       "      <td>0.00696</td>\n",
       "      <td>0.01394</td>\n",
       "      <td>0.06134</td>\n",
       "      <td>0.626</td>\n",
       "      <td>...</td>\n",
       "      <td>0.09403</td>\n",
       "      <td>0.01929</td>\n",
       "      <td>19.085</td>\n",
       "      <td>1</td>\n",
       "      <td>0.458359</td>\n",
       "      <td>0.819521</td>\n",
       "      <td>-4.075192</td>\n",
       "      <td>0.335590</td>\n",
       "      <td>2.486855</td>\n",
       "      <td>0.368674</td>\n",
       "    </tr>\n",
       "    <tr>\n",
       "      <th>2</th>\n",
       "      <td>116.682</td>\n",
       "      <td>131.111</td>\n",
       "      <td>111.555</td>\n",
       "      <td>0.01050</td>\n",
       "      <td>0.00009</td>\n",
       "      <td>0.00544</td>\n",
       "      <td>0.00781</td>\n",
       "      <td>0.01633</td>\n",
       "      <td>0.05233</td>\n",
       "      <td>0.482</td>\n",
       "      <td>...</td>\n",
       "      <td>0.08270</td>\n",
       "      <td>0.01309</td>\n",
       "      <td>20.651</td>\n",
       "      <td>1</td>\n",
       "      <td>0.429895</td>\n",
       "      <td>0.825288</td>\n",
       "      <td>-4.443179</td>\n",
       "      <td>0.311173</td>\n",
       "      <td>2.342259</td>\n",
       "      <td>0.332634</td>\n",
       "    </tr>\n",
       "    <tr>\n",
       "      <th>3</th>\n",
       "      <td>116.676</td>\n",
       "      <td>137.871</td>\n",
       "      <td>111.366</td>\n",
       "      <td>0.00997</td>\n",
       "      <td>0.00009</td>\n",
       "      <td>0.00502</td>\n",
       "      <td>0.00698</td>\n",
       "      <td>0.01505</td>\n",
       "      <td>0.05492</td>\n",
       "      <td>0.517</td>\n",
       "      <td>...</td>\n",
       "      <td>0.08771</td>\n",
       "      <td>0.01353</td>\n",
       "      <td>20.644</td>\n",
       "      <td>1</td>\n",
       "      <td>0.434969</td>\n",
       "      <td>0.819235</td>\n",
       "      <td>-4.117501</td>\n",
       "      <td>0.334147</td>\n",
       "      <td>2.405554</td>\n",
       "      <td>0.368975</td>\n",
       "    </tr>\n",
       "    <tr>\n",
       "      <th>4</th>\n",
       "      <td>116.014</td>\n",
       "      <td>141.781</td>\n",
       "      <td>110.655</td>\n",
       "      <td>0.01284</td>\n",
       "      <td>0.00011</td>\n",
       "      <td>0.00655</td>\n",
       "      <td>0.00908</td>\n",
       "      <td>0.01966</td>\n",
       "      <td>0.06425</td>\n",
       "      <td>0.584</td>\n",
       "      <td>...</td>\n",
       "      <td>0.10470</td>\n",
       "      <td>0.01767</td>\n",
       "      <td>19.649</td>\n",
       "      <td>1</td>\n",
       "      <td>0.417356</td>\n",
       "      <td>0.823484</td>\n",
       "      <td>-3.747787</td>\n",
       "      <td>0.234513</td>\n",
       "      <td>2.332180</td>\n",
       "      <td>0.410335</td>\n",
       "    </tr>\n",
       "  </tbody>\n",
       "</table>\n",
       "<p>5 rows × 23 columns</p>\n",
       "</div>"
      ],
      "text/plain": [
       "   MDVP:Fo(Hz)  MDVP:Fhi(Hz)  MDVP:Flo(Hz)  MDVP:Jitter(%)  MDVP:Jitter(Abs)  \\\n",
       "0      119.992       157.302        74.997         0.00784           0.00007   \n",
       "1      122.400       148.650       113.819         0.00968           0.00008   \n",
       "2      116.682       131.111       111.555         0.01050           0.00009   \n",
       "3      116.676       137.871       111.366         0.00997           0.00009   \n",
       "4      116.014       141.781       110.655         0.01284           0.00011   \n",
       "\n",
       "   MDVP:RAP  MDVP:PPQ  Jitter:DDP  MDVP:Shimmer  MDVP:Shimmer(dB)  ...  \\\n",
       "0   0.00370   0.00554     0.01109       0.04374             0.426  ...   \n",
       "1   0.00465   0.00696     0.01394       0.06134             0.626  ...   \n",
       "2   0.00544   0.00781     0.01633       0.05233             0.482  ...   \n",
       "3   0.00502   0.00698     0.01505       0.05492             0.517  ...   \n",
       "4   0.00655   0.00908     0.01966       0.06425             0.584  ...   \n",
       "\n",
       "   Shimmer:DDA      NHR     HNR  status      RPDE       DFA   spread1  \\\n",
       "0      0.06545  0.02211  21.033       1  0.414783  0.815285 -4.813031   \n",
       "1      0.09403  0.01929  19.085       1  0.458359  0.819521 -4.075192   \n",
       "2      0.08270  0.01309  20.651       1  0.429895  0.825288 -4.443179   \n",
       "3      0.08771  0.01353  20.644       1  0.434969  0.819235 -4.117501   \n",
       "4      0.10470  0.01767  19.649       1  0.417356  0.823484 -3.747787   \n",
       "\n",
       "    spread2        D2       PPE  \n",
       "0  0.266482  2.301442  0.284654  \n",
       "1  0.335590  2.486855  0.368674  \n",
       "2  0.311173  2.342259  0.332634  \n",
       "3  0.334147  2.405554  0.368975  \n",
       "4  0.234513  2.332180  0.410335  \n",
       "\n",
       "[5 rows x 23 columns]"
      ]
     },
     "execution_count": 158,
     "metadata": {},
     "output_type": "execute_result"
    }
   ],
   "source": [
    "###  Looking at the various columns for DECISSIONTREE\n",
    "new_data.head()"
   ]
  },
  {
   "cell_type": "code",
   "execution_count": 159,
   "id": "73a21775",
   "metadata": {},
   "outputs": [],
   "source": [
    "### using status as the target\n",
    "y=new_data['status']"
   ]
  },
  {
   "cell_type": "code",
   "execution_count": 160,
   "id": "a211f2b0",
   "metadata": {},
   "outputs": [],
   "source": [
    "### assigning all columns to 'y' and  dropping the status column \n",
    "x=new_data.drop('status',axis=1)"
   ]
  },
  {
   "cell_type": "code",
   "execution_count": 161,
   "id": "aaba7cca",
   "metadata": {},
   "outputs": [],
   "source": [
    "### splitting the dataset into training and testing\n",
    "x_train,x_test,y_train,y_test= train_test_split(x,y, test_size =0.3,random_state=1)"
   ]
  },
  {
   "cell_type": "code",
   "execution_count": 162,
   "id": "250952f0",
   "metadata": {},
   "outputs": [],
   "source": [
    "### using DECISSIONTREEClassifier as the model \n",
    "model =DecisionTreeClassifier()"
   ]
  },
  {
   "cell_type": "code",
   "execution_count": 163,
   "id": "d4efc58a",
   "metadata": {},
   "outputs": [
    {
     "data": {
      "text/plain": [
       "DecisionTreeClassifier()"
      ]
     },
     "execution_count": 163,
     "metadata": {},
     "output_type": "execute_result"
    }
   ],
   "source": [
    "### Training the model using the trauning the datasets\n",
    "model.fit(x_train,y_train)"
   ]
  },
  {
   "cell_type": "code",
   "execution_count": 164,
   "id": "dacfb7dc",
   "metadata": {},
   "outputs": [
    {
     "data": {
      "text/plain": [
       "array([1, 1, 1, 0, 1, 0, 1, 1, 0, 1, 0, 0, 1, 1, 1, 0, 1, 0, 1, 1, 0, 1,\n",
       "       1, 1, 1, 1, 1, 1, 1, 0, 1, 1, 1, 0, 1, 1, 0, 1, 0, 1, 1, 1, 1, 0,\n",
       "       1, 1, 1, 1, 1, 1, 0, 0, 1, 0, 1, 0, 0, 1, 1], dtype=int64)"
      ]
     },
     "execution_count": 164,
     "metadata": {},
     "output_type": "execute_result"
    }
   ],
   "source": [
    "##### giving the model the questions to predict the answers \n",
    "y_pred=model.predict(x_test)\n",
    "y_pred"
   ]
  },
  {
   "cell_type": "code",
   "execution_count": 165,
   "id": "b704a910",
   "metadata": {},
   "outputs": [
    {
     "data": {
      "text/plain": [
       "array([1, 1, 1, 0, 1, 1, 1, 1, 0, 1, 1, 0, 1, 1, 1, 0, 1, 1, 1, 1, 0, 1,\n",
       "       1, 1, 1, 1, 1, 1, 1, 0, 1, 0, 1, 0, 1, 1, 0, 1, 0, 0, 1, 1, 1, 0,\n",
       "       1, 1, 1, 1, 1, 1, 0, 0, 1, 0, 0, 0, 0, 0, 1], dtype=int64)"
      ]
     },
     "execution_count": 165,
     "metadata": {},
     "output_type": "execute_result"
    }
   ],
   "source": [
    "### putting  test in an array\n",
    "np.array(y_test)"
   ]
  },
  {
   "cell_type": "code",
   "execution_count": 170,
   "id": "d65b0696",
   "metadata": {},
   "outputs": [
    {
     "name": "stdout",
     "output_type": "stream",
     "text": [
      "Accuracy: 0.8813559322033898\n"
     ]
    }
   ],
   "source": [
    "### counting the predicted values and actual value and checking accuracy\n",
    "print('Accuracy:',metrics.accuracy_score(y_test,y_pred))"
   ]
  }
 ],
 "metadata": {
  "kernelspec": {
   "display_name": "Python 3 (ipykernel)",
   "language": "python",
   "name": "python3"
  },
  "language_info": {
   "codemirror_mode": {
    "name": "ipython",
    "version": 3
   },
   "file_extension": ".py",
   "mimetype": "text/x-python",
   "name": "python",
   "nbconvert_exporter": "python",
   "pygments_lexer": "ipython3",
   "version": "3.9.7"
  },
  "toc-autonumbering": true
 },
 "nbformat": 4,
 "nbformat_minor": 5
}
